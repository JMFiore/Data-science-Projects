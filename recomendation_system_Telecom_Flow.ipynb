{
  "nbformat": 4,
  "nbformat_minor": 0,
  "metadata": {
    "colab": {
      "name": "Sprint_3_entregafinal.ipynb",
      "provenance": [],
      "toc_visible": true,
      "include_colab_link": true
    },
    "kernelspec": {
      "name": "python3",
      "display_name": "Python 3"
    },
    "language_info": {
      "name": "python"
    }
  },
  "cells": [
    {
      "cell_type": "markdown",
      "metadata": {
        "id": "view-in-github",
        "colab_type": "text"
      },
      "source": [
        "<a href=\"https://colab.research.google.com/github/JMFiore/Data-shcience-Projects/blob/main/recomendation_system_Telecom_Flow.ipynb\" target=\"_parent\"><img src=\"https://colab.research.google.com/assets/colab-badge.svg\" alt=\"Open In Colab\"/></a>"
      ]
    },
    {
      "cell_type": "markdown",
      "metadata": {
        "id": "Q-F5wpugTy5J"
      },
      "source": [
        "#📊🎥 Recomendation System 🎥📊"
      ]
    },
    {
      "cell_type": "code",
      "execution_count": null,
      "metadata": {
        "colab": {
          "base_uri": "https://localhost:8080/"
        },
        "id": "zb2S8OcIV48K",
        "outputId": "2d16e3d9-67a1-49c8-a524-7db203f3d3fb"
      },
      "outputs": [
        {
          "output_type": "stream",
          "name": "stdout",
          "text": [
            "Collecting lightfm\n",
            "  Downloading lightfm-1.16.tar.gz (310 kB)\n",
            "\u001b[?25l\r\u001b[K     |█                               | 10 kB 13.2 MB/s eta 0:00:01\r\u001b[K     |██▏                             | 20 kB 11.6 MB/s eta 0:00:01\r\u001b[K     |███▏                            | 30 kB 8.9 MB/s eta 0:00:01\r\u001b[K     |████▎                           | 40 kB 7.9 MB/s eta 0:00:01\r\u001b[K     |█████▎                          | 51 kB 4.8 MB/s eta 0:00:01\r\u001b[K     |██████▍                         | 61 kB 5.1 MB/s eta 0:00:01\r\u001b[K     |███████▍                        | 71 kB 5.1 MB/s eta 0:00:01\r\u001b[K     |████████▌                       | 81 kB 5.6 MB/s eta 0:00:01\r\u001b[K     |█████████▌                      | 92 kB 6.1 MB/s eta 0:00:01\r\u001b[K     |██████████▋                     | 102 kB 4.9 MB/s eta 0:00:01\r\u001b[K     |███████████▋                    | 112 kB 4.9 MB/s eta 0:00:01\r\u001b[K     |████████████▊                   | 122 kB 4.9 MB/s eta 0:00:01\r\u001b[K     |█████████████▊                  | 133 kB 4.9 MB/s eta 0:00:01\r\u001b[K     |██████████████▉                 | 143 kB 4.9 MB/s eta 0:00:01\r\u001b[K     |███████████████▉                | 153 kB 4.9 MB/s eta 0:00:01\r\u001b[K     |█████████████████               | 163 kB 4.9 MB/s eta 0:00:01\r\u001b[K     |██████████████████              | 174 kB 4.9 MB/s eta 0:00:01\r\u001b[K     |███████████████████             | 184 kB 4.9 MB/s eta 0:00:01\r\u001b[K     |████████████████████            | 194 kB 4.9 MB/s eta 0:00:01\r\u001b[K     |█████████████████████▏          | 204 kB 4.9 MB/s eta 0:00:01\r\u001b[K     |██████████████████████▏         | 215 kB 4.9 MB/s eta 0:00:01\r\u001b[K     |███████████████████████▎        | 225 kB 4.9 MB/s eta 0:00:01\r\u001b[K     |████████████████████████▎       | 235 kB 4.9 MB/s eta 0:00:01\r\u001b[K     |█████████████████████████▍      | 245 kB 4.9 MB/s eta 0:00:01\r\u001b[K     |██████████████████████████▍     | 256 kB 4.9 MB/s eta 0:00:01\r\u001b[K     |███████████████████████████▌    | 266 kB 4.9 MB/s eta 0:00:01\r\u001b[K     |████████████████████████████▌   | 276 kB 4.9 MB/s eta 0:00:01\r\u001b[K     |█████████████████████████████▋  | 286 kB 4.9 MB/s eta 0:00:01\r\u001b[K     |██████████████████████████████▋ | 296 kB 4.9 MB/s eta 0:00:01\r\u001b[K     |███████████████████████████████▊| 307 kB 4.9 MB/s eta 0:00:01\r\u001b[K     |████████████████████████████████| 310 kB 4.9 MB/s \n",
            "\u001b[?25hRequirement already satisfied: numpy in /usr/local/lib/python3.7/dist-packages (from lightfm) (1.19.5)\n",
            "Requirement already satisfied: scipy>=0.17.0 in /usr/local/lib/python3.7/dist-packages (from lightfm) (1.4.1)\n",
            "Requirement already satisfied: requests in /usr/local/lib/python3.7/dist-packages (from lightfm) (2.23.0)\n",
            "Requirement already satisfied: scikit-learn in /usr/local/lib/python3.7/dist-packages (from lightfm) (1.0.1)\n",
            "Requirement already satisfied: certifi>=2017.4.17 in /usr/local/lib/python3.7/dist-packages (from requests->lightfm) (2021.10.8)\n",
            "Requirement already satisfied: idna<3,>=2.5 in /usr/local/lib/python3.7/dist-packages (from requests->lightfm) (2.10)\n",
            "Requirement already satisfied: chardet<4,>=3.0.2 in /usr/local/lib/python3.7/dist-packages (from requests->lightfm) (3.0.4)\n",
            "Requirement already satisfied: urllib3!=1.25.0,!=1.25.1,<1.26,>=1.21.1 in /usr/local/lib/python3.7/dist-packages (from requests->lightfm) (1.24.3)\n",
            "Requirement already satisfied: threadpoolctl>=2.0.0 in /usr/local/lib/python3.7/dist-packages (from scikit-learn->lightfm) (3.0.0)\n",
            "Requirement already satisfied: joblib>=0.11 in /usr/local/lib/python3.7/dist-packages (from scikit-learn->lightfm) (1.1.0)\n",
            "Building wheels for collected packages: lightfm\n",
            "  Building wheel for lightfm (setup.py) ... \u001b[?25l\u001b[?25hdone\n",
            "  Created wheel for lightfm: filename=lightfm-1.16-cp37-cp37m-linux_x86_64.whl size=705358 sha256=791838fac11658f09144eb2a5de3467808371838f5383b1ee4a60e92c47032d9\n",
            "  Stored in directory: /root/.cache/pip/wheels/f8/56/28/5772a3bd3413d65f03aa452190b00898b680b10028a1021914\n",
            "Successfully built lightfm\n",
            "Installing collected packages: lightfm\n",
            "Successfully installed lightfm-1.16\n"
          ]
        }
      ],
      "source": [
        "!pip install lightfm"
      ]
    },
    {
      "cell_type": "code",
      "execution_count": null,
      "metadata": {
        "id": "bgQ2VTBdji7x"
      },
      "outputs": [],
      "source": [
        "import numpy as np\n",
        "import pandas as pd \n",
        "import matplotlib.pyplot as plt \n",
        "import seaborn as sns\n",
        "import tqdm as tqdm\n",
        "from lightfm import LightFM\n",
        "from scipy.sparse import csr_matrix\n",
        "from datetime import datetime\n",
        "import missingno as msno"
      ]
    },
    {
      "cell_type": "markdown",
      "metadata": {
        "id": "CYjhZzE2iHYY"
      },
      "source": [
        "## Cargado de datos"
      ]
    },
    {
      "cell_type": "code",
      "execution_count": null,
      "metadata": {
        "colab": {
          "base_uri": "https://localhost:8080/"
        },
        "id": "hzjMy4URWJjK",
        "outputId": "3ad87b71-64c5-4a1f-9f5c-c6bbdce49658"
      },
      "outputs": [
        {
          "output_type": "stream",
          "name": "stdout",
          "text": [
            "Mounted at /content/drive\n"
          ]
        }
      ],
      "source": [
        "from google.colab import drive\n",
        "drive.mount ('/content/drive')"
      ]
    },
    {
      "cell_type": "code",
      "execution_count": null,
      "metadata": {
        "id": "vlfMWbrZUvhB"
      },
      "outputs": [],
      "source": [
        "file1_path='/content/drive/MyDrive/DataScience/Sprint N 3/metadata.csv'\n",
        "file2_path='/content/drive/MyDrive/DataScience/Sprint N 3/train (2).csv'"
      ]
    },
    {
      "cell_type": "code",
      "execution_count": null,
      "metadata": {
        "id": "4dgRwGdNW4zB"
      },
      "outputs": [],
      "source": [
        "meta=pd.read_csv(file1_path,sep=\";\")\n",
        "train=pd.read_csv(file2_path)"
      ]
    },
    {
      "cell_type": "code",
      "execution_count": null,
      "metadata": {
        "colab": {
          "base_uri": "https://localhost:8080/",
          "height": 616
        },
        "id": "NWy2RD9wXAXr",
        "outputId": "733645c2-75d4-4293-c3dd-75e9bbf4b0c6"
      },
      "outputs": [
        {
          "output_type": "execute_result",
          "data": {
            "text/html": [
              "\n",
              "  <div id=\"df-35bfe04d-aaa0-4fc5-9055-10564c45b37a\">\n",
              "    <div class=\"colab-df-container\">\n",
              "      <div>\n",
              "<style scoped>\n",
              "    .dataframe tbody tr th:only-of-type {\n",
              "        vertical-align: middle;\n",
              "    }\n",
              "\n",
              "    .dataframe tbody tr th {\n",
              "        vertical-align: top;\n",
              "    }\n",
              "\n",
              "    .dataframe thead th {\n",
              "        text-align: right;\n",
              "    }\n",
              "</style>\n",
              "<table border=\"1\" class=\"dataframe\">\n",
              "  <thead>\n",
              "    <tr style=\"text-align: right;\">\n",
              "      <th></th>\n",
              "      <th>asset_id</th>\n",
              "      <th>content_id</th>\n",
              "      <th>title</th>\n",
              "      <th>reduced_title</th>\n",
              "      <th>episode_title</th>\n",
              "      <th>show_type</th>\n",
              "      <th>released_year</th>\n",
              "      <th>country_of_origin</th>\n",
              "      <th>category</th>\n",
              "      <th>keywords</th>\n",
              "      <th>description</th>\n",
              "      <th>reduced_desc</th>\n",
              "      <th>cast_first_name</th>\n",
              "      <th>credits_first_name</th>\n",
              "      <th>run_time_min</th>\n",
              "      <th>audience</th>\n",
              "      <th>made_for_tv</th>\n",
              "      <th>close_caption</th>\n",
              "      <th>sex_rating</th>\n",
              "      <th>violence_rating</th>\n",
              "      <th>language_rating</th>\n",
              "      <th>dialog_rating</th>\n",
              "      <th>fv_rating</th>\n",
              "      <th>pay_per_view</th>\n",
              "      <th>pack_premium_1</th>\n",
              "      <th>pack_premium_2</th>\n",
              "      <th>create_date</th>\n",
              "      <th>modify_date</th>\n",
              "      <th>start_vod_date</th>\n",
              "      <th>end_vod_date</th>\n",
              "    </tr>\n",
              "  </thead>\n",
              "  <tbody>\n",
              "    <tr>\n",
              "      <th>0</th>\n",
              "      <td>15188</td>\n",
              "      <td>0.0</td>\n",
              "      <td>Ep:17 Tiempos Compulsivos</td>\n",
              "      <td>Tiempos_Compul_E17</td>\n",
              "      <td>Episodio 17</td>\n",
              "      <td>Serie</td>\n",
              "      <td>2012.0</td>\n",
              "      <td>AR</td>\n",
              "      <td>Drama</td>\n",
              "      <td>Trastornos,Médicos,Tragicómica,Telenovela,Enfe...</td>\n",
              "      <td>Esteban recibe una noticia inesperada: va a se...</td>\n",
              "      <td>Esteban recibe una noticia inesperada: va a se...</td>\n",
              "      <td>Rodrigo De la Serna, Paola Krum, Fernán Mirás,...</td>\n",
              "      <td>Daniel Barone</td>\n",
              "      <td>48.0</td>\n",
              "      <td>General</td>\n",
              "      <td>N</td>\n",
              "      <td>N</td>\n",
              "      <td>N</td>\n",
              "      <td>N</td>\n",
              "      <td>N</td>\n",
              "      <td>N</td>\n",
              "      <td>N</td>\n",
              "      <td>N</td>\n",
              "      <td>N</td>\n",
              "      <td>N</td>\n",
              "      <td>2017-12-01T10:18:15.0Z</td>\n",
              "      <td>2019-01-26T06:37:18.0Z</td>\n",
              "      <td>2017-12-01T00:00:00.0Z</td>\n",
              "      <td>2020-12-01T23:59:59.0Z</td>\n",
              "    </tr>\n",
              "    <tr>\n",
              "      <th>1</th>\n",
              "      <td>24940</td>\n",
              "      <td>1.0</td>\n",
              "      <td>7 Cajas</td>\n",
              "      <td>7_Cajas</td>\n",
              "      <td>NaN</td>\n",
              "      <td>Película</td>\n",
              "      <td>2012.0</td>\n",
              "      <td>PY</td>\n",
              "      <td>Suspenso/Acción</td>\n",
              "      <td>Latinoamérica,Pobreza,Crimen,Pandillas</td>\n",
              "      <td>Víctor trabaja como carretillero. Un día recib...</td>\n",
              "      <td>Trabajando como carretillero, Víctor recibe un...</td>\n",
              "      <td>Celso Franco, Víctor Sosa, Lali Gonzalez</td>\n",
              "      <td>Juan Carlos Maneglia</td>\n",
              "      <td>105.0</td>\n",
              "      <td>General</td>\n",
              "      <td>N</td>\n",
              "      <td>N</td>\n",
              "      <td>N</td>\n",
              "      <td>N</td>\n",
              "      <td>N</td>\n",
              "      <td>N</td>\n",
              "      <td>N</td>\n",
              "      <td>Y</td>\n",
              "      <td>N</td>\n",
              "      <td>N</td>\n",
              "      <td>2017-12-19T20:58:15.0Z</td>\n",
              "      <td>2019-09-17T19:02:03.0Z</td>\n",
              "      <td>2017-12-15T00:00:00.0Z</td>\n",
              "      <td>2022-12-14T23:59:59.0Z</td>\n",
              "    </tr>\n",
              "    <tr>\n",
              "      <th>2</th>\n",
              "      <td>21939</td>\n",
              "      <td>2.0</td>\n",
              "      <td>La Maldición de las Hormigas Gigantes</td>\n",
              "      <td>La_Maldicion_de_las</td>\n",
              "      <td>NaN</td>\n",
              "      <td>Película</td>\n",
              "      <td>2016.0</td>\n",
              "      <td>FI</td>\n",
              "      <td>Terror/Comedia</td>\n",
              "      <td>Criaturas,Plagas,Adolescentes,Fantasía,Video J...</td>\n",
              "      <td>Un grupo de motociclistas busca diversión el d...</td>\n",
              "      <td>Un grupo de motociclistas descubre un laborato...</td>\n",
              "      <td>Mark Arnold, Harry Lister Smith, Vanessa Grass...</td>\n",
              "      <td>Marko Mäkilaakso</td>\n",
              "      <td>82.0</td>\n",
              "      <td>Juvenil</td>\n",
              "      <td>Y</td>\n",
              "      <td>N</td>\n",
              "      <td>N</td>\n",
              "      <td>N</td>\n",
              "      <td>N</td>\n",
              "      <td>N</td>\n",
              "      <td>N</td>\n",
              "      <td>N</td>\n",
              "      <td>N</td>\n",
              "      <td>N</td>\n",
              "      <td>2018-02-16T13:51:07.0Z</td>\n",
              "      <td>2020-04-28T14:16:38.0Z</td>\n",
              "      <td>2018-01-25T00:00:00.0Z</td>\n",
              "      <td>2020-12-01T23:59:59.0Z</td>\n",
              "    </tr>\n",
              "    <tr>\n",
              "      <th>3</th>\n",
              "      <td>9005</td>\n",
              "      <td>3.0</td>\n",
              "      <td>Una Mujer Fantástica</td>\n",
              "      <td>Una_Mujer_Fantastic</td>\n",
              "      <td>NaN</td>\n",
              "      <td>Película</td>\n",
              "      <td>2017.0</td>\n",
              "      <td>CL</td>\n",
              "      <td>Drama</td>\n",
              "      <td>LGBT,Mujeres,Latinoamérica</td>\n",
              "      <td>Marina y Orlando están enamorados y planean un...</td>\n",
              "      <td>Marina y Orlando están enamorados. Pero cuando...</td>\n",
              "      <td>Daniela Vega, Francisco Reyes, Luis Gnecco, Am...</td>\n",
              "      <td>Sebastián Lelio</td>\n",
              "      <td>99.0</td>\n",
              "      <td>General</td>\n",
              "      <td>N</td>\n",
              "      <td>N</td>\n",
              "      <td>N</td>\n",
              "      <td>N</td>\n",
              "      <td>N</td>\n",
              "      <td>N</td>\n",
              "      <td>N</td>\n",
              "      <td>N</td>\n",
              "      <td>Y</td>\n",
              "      <td>N</td>\n",
              "      <td>2018-05-26T11:58:44.0Z</td>\n",
              "      <td>2019-11-15T03:00:23.0Z</td>\n",
              "      <td>2018-05-27T00:00:00.0Z</td>\n",
              "      <td>2021-04-30T23:59:59.0Z</td>\n",
              "    </tr>\n",
              "    <tr>\n",
              "      <th>4</th>\n",
              "      <td>7391</td>\n",
              "      <td>4.0</td>\n",
              "      <td>Star Trek</td>\n",
              "      <td>Star_Trek</td>\n",
              "      <td>NaN</td>\n",
              "      <td>Película</td>\n",
              "      <td>2009.0</td>\n",
              "      <td>US</td>\n",
              "      <td>Ciencia Ficción/Aventura</td>\n",
              "      <td>Fantasía,Galaxia,Futurismo,Aliens,Criaturas</td>\n",
              "      <td>El descarado James T. Kirk trata de estar a la...</td>\n",
              "      <td>James T. Kirk trata de estar a la altura del l...</td>\n",
              "      <td>Chris Pine, Zachary Quinto, Leonard Nimoy, Eri...</td>\n",
              "      <td>J.J. Abrams</td>\n",
              "      <td>126.0</td>\n",
              "      <td>General</td>\n",
              "      <td>N</td>\n",
              "      <td>N</td>\n",
              "      <td>N</td>\n",
              "      <td>N</td>\n",
              "      <td>N</td>\n",
              "      <td>N</td>\n",
              "      <td>N</td>\n",
              "      <td>Y</td>\n",
              "      <td>N</td>\n",
              "      <td>N</td>\n",
              "      <td>2019-05-03T20:07:24.0Z</td>\n",
              "      <td>2020-04-09T04:37:29.0Z</td>\n",
              "      <td>2019-05-02T00:00:00.0Z</td>\n",
              "      <td>2020-12-31T23:59:59.0Z</td>\n",
              "    </tr>\n",
              "  </tbody>\n",
              "</table>\n",
              "</div>\n",
              "      <button class=\"colab-df-convert\" onclick=\"convertToInteractive('df-35bfe04d-aaa0-4fc5-9055-10564c45b37a')\"\n",
              "              title=\"Convert this dataframe to an interactive table.\"\n",
              "              style=\"display:none;\">\n",
              "        \n",
              "  <svg xmlns=\"http://www.w3.org/2000/svg\" height=\"24px\"viewBox=\"0 0 24 24\"\n",
              "       width=\"24px\">\n",
              "    <path d=\"M0 0h24v24H0V0z\" fill=\"none\"/>\n",
              "    <path d=\"M18.56 5.44l.94 2.06.94-2.06 2.06-.94-2.06-.94-.94-2.06-.94 2.06-2.06.94zm-11 1L8.5 8.5l.94-2.06 2.06-.94-2.06-.94L8.5 2.5l-.94 2.06-2.06.94zm10 10l.94 2.06.94-2.06 2.06-.94-2.06-.94-.94-2.06-.94 2.06-2.06.94z\"/><path d=\"M17.41 7.96l-1.37-1.37c-.4-.4-.92-.59-1.43-.59-.52 0-1.04.2-1.43.59L10.3 9.45l-7.72 7.72c-.78.78-.78 2.05 0 2.83L4 21.41c.39.39.9.59 1.41.59.51 0 1.02-.2 1.41-.59l7.78-7.78 2.81-2.81c.8-.78.8-2.07 0-2.86zM5.41 20L4 18.59l7.72-7.72 1.47 1.35L5.41 20z\"/>\n",
              "  </svg>\n",
              "      </button>\n",
              "      \n",
              "  <style>\n",
              "    .colab-df-container {\n",
              "      display:flex;\n",
              "      flex-wrap:wrap;\n",
              "      gap: 12px;\n",
              "    }\n",
              "\n",
              "    .colab-df-convert {\n",
              "      background-color: #E8F0FE;\n",
              "      border: none;\n",
              "      border-radius: 50%;\n",
              "      cursor: pointer;\n",
              "      display: none;\n",
              "      fill: #1967D2;\n",
              "      height: 32px;\n",
              "      padding: 0 0 0 0;\n",
              "      width: 32px;\n",
              "    }\n",
              "\n",
              "    .colab-df-convert:hover {\n",
              "      background-color: #E2EBFA;\n",
              "      box-shadow: 0px 1px 2px rgba(60, 64, 67, 0.3), 0px 1px 3px 1px rgba(60, 64, 67, 0.15);\n",
              "      fill: #174EA6;\n",
              "    }\n",
              "\n",
              "    [theme=dark] .colab-df-convert {\n",
              "      background-color: #3B4455;\n",
              "      fill: #D2E3FC;\n",
              "    }\n",
              "\n",
              "    [theme=dark] .colab-df-convert:hover {\n",
              "      background-color: #434B5C;\n",
              "      box-shadow: 0px 1px 3px 1px rgba(0, 0, 0, 0.15);\n",
              "      filter: drop-shadow(0px 1px 2px rgba(0, 0, 0, 0.3));\n",
              "      fill: #FFFFFF;\n",
              "    }\n",
              "  </style>\n",
              "\n",
              "      <script>\n",
              "        const buttonEl =\n",
              "          document.querySelector('#df-35bfe04d-aaa0-4fc5-9055-10564c45b37a button.colab-df-convert');\n",
              "        buttonEl.style.display =\n",
              "          google.colab.kernel.accessAllowed ? 'block' : 'none';\n",
              "\n",
              "        async function convertToInteractive(key) {\n",
              "          const element = document.querySelector('#df-35bfe04d-aaa0-4fc5-9055-10564c45b37a');\n",
              "          const dataTable =\n",
              "            await google.colab.kernel.invokeFunction('convertToInteractive',\n",
              "                                                     [key], {});\n",
              "          if (!dataTable) return;\n",
              "\n",
              "          const docLinkHtml = 'Like what you see? Visit the ' +\n",
              "            '<a target=\"_blank\" href=https://colab.research.google.com/notebooks/data_table.ipynb>data table notebook</a>'\n",
              "            + ' to learn more about interactive tables.';\n",
              "          element.innerHTML = '';\n",
              "          dataTable['output_type'] = 'display_data';\n",
              "          await google.colab.output.renderOutput(dataTable, element);\n",
              "          const docLink = document.createElement('div');\n",
              "          docLink.innerHTML = docLinkHtml;\n",
              "          element.appendChild(docLink);\n",
              "        }\n",
              "      </script>\n",
              "    </div>\n",
              "  </div>\n",
              "  "
            ],
            "text/plain": [
              "   asset_id  content_id  ...          start_vod_date            end_vod_date\n",
              "0     15188         0.0  ...  2017-12-01T00:00:00.0Z  2020-12-01T23:59:59.0Z\n",
              "1     24940         1.0  ...  2017-12-15T00:00:00.0Z  2022-12-14T23:59:59.0Z\n",
              "2     21939         2.0  ...  2018-01-25T00:00:00.0Z  2020-12-01T23:59:59.0Z\n",
              "3      9005         3.0  ...  2018-05-27T00:00:00.0Z  2021-04-30T23:59:59.0Z\n",
              "4      7391         4.0  ...  2019-05-02T00:00:00.0Z  2020-12-31T23:59:59.0Z\n",
              "\n",
              "[5 rows x 30 columns]"
            ]
          },
          "metadata": {},
          "execution_count": 6
        }
      ],
      "source": [
        "meta.head()"
      ]
    },
    {
      "cell_type": "code",
      "execution_count": null,
      "metadata": {
        "colab": {
          "base_uri": "https://localhost:8080/"
        },
        "id": "wNRv9573Xk3C",
        "outputId": "e8ac7cbb-b9b6-4b75-dcc1-1f1660ec776b"
      },
      "outputs": [
        {
          "output_type": "execute_result",
          "data": {
            "text/plain": [
              "(33144, 30)"
            ]
          },
          "metadata": {},
          "execution_count": 7
        }
      ],
      "source": [
        "meta.shape"
      ]
    },
    {
      "cell_type": "code",
      "execution_count": null,
      "metadata": {
        "colab": {
          "base_uri": "https://localhost:8080/",
          "height": 300
        },
        "id": "WfSxXoZUXoTz",
        "outputId": "f6d073ff-46f9-403d-ca59-04373f5d6fca"
      },
      "outputs": [
        {
          "output_type": "execute_result",
          "data": {
            "text/html": [
              "\n",
              "  <div id=\"df-a0a08cef-6e92-4958-8e5e-6a57f6bc810c\">\n",
              "    <div class=\"colab-df-container\">\n",
              "      <div>\n",
              "<style scoped>\n",
              "    .dataframe tbody tr th:only-of-type {\n",
              "        vertical-align: middle;\n",
              "    }\n",
              "\n",
              "    .dataframe tbody tr th {\n",
              "        vertical-align: top;\n",
              "    }\n",
              "\n",
              "    .dataframe thead th {\n",
              "        text-align: right;\n",
              "    }\n",
              "</style>\n",
              "<table border=\"1\" class=\"dataframe\">\n",
              "  <thead>\n",
              "    <tr style=\"text-align: right;\">\n",
              "      <th></th>\n",
              "      <th>asset_id</th>\n",
              "      <th>content_id</th>\n",
              "      <th>released_year</th>\n",
              "      <th>run_time_min</th>\n",
              "    </tr>\n",
              "  </thead>\n",
              "  <tbody>\n",
              "    <tr>\n",
              "      <th>count</th>\n",
              "      <td>33144.000000</td>\n",
              "      <td>33123.000000</td>\n",
              "      <td>33144.000000</td>\n",
              "      <td>33144.000000</td>\n",
              "    </tr>\n",
              "    <tr>\n",
              "      <th>mean</th>\n",
              "      <td>16571.500000</td>\n",
              "      <td>1371.500891</td>\n",
              "      <td>2016.003922</td>\n",
              "      <td>48.060916</td>\n",
              "    </tr>\n",
              "    <tr>\n",
              "      <th>std</th>\n",
              "      <td>9567.992997</td>\n",
              "      <td>1153.024487</td>\n",
              "      <td>6.026482</td>\n",
              "      <td>35.214128</td>\n",
              "    </tr>\n",
              "    <tr>\n",
              "      <th>min</th>\n",
              "      <td>0.000000</td>\n",
              "      <td>0.000000</td>\n",
              "      <td>1942.000000</td>\n",
              "      <td>0.000000</td>\n",
              "    </tr>\n",
              "    <tr>\n",
              "      <th>25%</th>\n",
              "      <td>8285.750000</td>\n",
              "      <td>387.000000</td>\n",
              "      <td>2015.000000</td>\n",
              "      <td>22.000000</td>\n",
              "    </tr>\n",
              "    <tr>\n",
              "      <th>50%</th>\n",
              "      <td>16571.500000</td>\n",
              "      <td>1019.000000</td>\n",
              "      <td>2018.000000</td>\n",
              "      <td>43.000000</td>\n",
              "    </tr>\n",
              "    <tr>\n",
              "      <th>75%</th>\n",
              "      <td>24857.250000</td>\n",
              "      <td>2160.000000</td>\n",
              "      <td>2019.000000</td>\n",
              "      <td>67.000000</td>\n",
              "    </tr>\n",
              "    <tr>\n",
              "      <th>max</th>\n",
              "      <td>33143.000000</td>\n",
              "      <td>4371.000000</td>\n",
              "      <td>2021.000000</td>\n",
              "      <td>308.000000</td>\n",
              "    </tr>\n",
              "  </tbody>\n",
              "</table>\n",
              "</div>\n",
              "      <button class=\"colab-df-convert\" onclick=\"convertToInteractive('df-a0a08cef-6e92-4958-8e5e-6a57f6bc810c')\"\n",
              "              title=\"Convert this dataframe to an interactive table.\"\n",
              "              style=\"display:none;\">\n",
              "        \n",
              "  <svg xmlns=\"http://www.w3.org/2000/svg\" height=\"24px\"viewBox=\"0 0 24 24\"\n",
              "       width=\"24px\">\n",
              "    <path d=\"M0 0h24v24H0V0z\" fill=\"none\"/>\n",
              "    <path d=\"M18.56 5.44l.94 2.06.94-2.06 2.06-.94-2.06-.94-.94-2.06-.94 2.06-2.06.94zm-11 1L8.5 8.5l.94-2.06 2.06-.94-2.06-.94L8.5 2.5l-.94 2.06-2.06.94zm10 10l.94 2.06.94-2.06 2.06-.94-2.06-.94-.94-2.06-.94 2.06-2.06.94z\"/><path d=\"M17.41 7.96l-1.37-1.37c-.4-.4-.92-.59-1.43-.59-.52 0-1.04.2-1.43.59L10.3 9.45l-7.72 7.72c-.78.78-.78 2.05 0 2.83L4 21.41c.39.39.9.59 1.41.59.51 0 1.02-.2 1.41-.59l7.78-7.78 2.81-2.81c.8-.78.8-2.07 0-2.86zM5.41 20L4 18.59l7.72-7.72 1.47 1.35L5.41 20z\"/>\n",
              "  </svg>\n",
              "      </button>\n",
              "      \n",
              "  <style>\n",
              "    .colab-df-container {\n",
              "      display:flex;\n",
              "      flex-wrap:wrap;\n",
              "      gap: 12px;\n",
              "    }\n",
              "\n",
              "    .colab-df-convert {\n",
              "      background-color: #E8F0FE;\n",
              "      border: none;\n",
              "      border-radius: 50%;\n",
              "      cursor: pointer;\n",
              "      display: none;\n",
              "      fill: #1967D2;\n",
              "      height: 32px;\n",
              "      padding: 0 0 0 0;\n",
              "      width: 32px;\n",
              "    }\n",
              "\n",
              "    .colab-df-convert:hover {\n",
              "      background-color: #E2EBFA;\n",
              "      box-shadow: 0px 1px 2px rgba(60, 64, 67, 0.3), 0px 1px 3px 1px rgba(60, 64, 67, 0.15);\n",
              "      fill: #174EA6;\n",
              "    }\n",
              "\n",
              "    [theme=dark] .colab-df-convert {\n",
              "      background-color: #3B4455;\n",
              "      fill: #D2E3FC;\n",
              "    }\n",
              "\n",
              "    [theme=dark] .colab-df-convert:hover {\n",
              "      background-color: #434B5C;\n",
              "      box-shadow: 0px 1px 3px 1px rgba(0, 0, 0, 0.15);\n",
              "      filter: drop-shadow(0px 1px 2px rgba(0, 0, 0, 0.3));\n",
              "      fill: #FFFFFF;\n",
              "    }\n",
              "  </style>\n",
              "\n",
              "      <script>\n",
              "        const buttonEl =\n",
              "          document.querySelector('#df-a0a08cef-6e92-4958-8e5e-6a57f6bc810c button.colab-df-convert');\n",
              "        buttonEl.style.display =\n",
              "          google.colab.kernel.accessAllowed ? 'block' : 'none';\n",
              "\n",
              "        async function convertToInteractive(key) {\n",
              "          const element = document.querySelector('#df-a0a08cef-6e92-4958-8e5e-6a57f6bc810c');\n",
              "          const dataTable =\n",
              "            await google.colab.kernel.invokeFunction('convertToInteractive',\n",
              "                                                     [key], {});\n",
              "          if (!dataTable) return;\n",
              "\n",
              "          const docLinkHtml = 'Like what you see? Visit the ' +\n",
              "            '<a target=\"_blank\" href=https://colab.research.google.com/notebooks/data_table.ipynb>data table notebook</a>'\n",
              "            + ' to learn more about interactive tables.';\n",
              "          element.innerHTML = '';\n",
              "          dataTable['output_type'] = 'display_data';\n",
              "          await google.colab.output.renderOutput(dataTable, element);\n",
              "          const docLink = document.createElement('div');\n",
              "          docLink.innerHTML = docLinkHtml;\n",
              "          element.appendChild(docLink);\n",
              "        }\n",
              "      </script>\n",
              "    </div>\n",
              "  </div>\n",
              "  "
            ],
            "text/plain": [
              "           asset_id    content_id  released_year  run_time_min\n",
              "count  33144.000000  33123.000000   33144.000000  33144.000000\n",
              "mean   16571.500000   1371.500891    2016.003922     48.060916\n",
              "std     9567.992997   1153.024487       6.026482     35.214128\n",
              "min        0.000000      0.000000    1942.000000      0.000000\n",
              "25%     8285.750000    387.000000    2015.000000     22.000000\n",
              "50%    16571.500000   1019.000000    2018.000000     43.000000\n",
              "75%    24857.250000   2160.000000    2019.000000     67.000000\n",
              "max    33143.000000   4371.000000    2021.000000    308.000000"
            ]
          },
          "metadata": {},
          "execution_count": 8
        }
      ],
      "source": [
        "meta.describe()"
      ]
    },
    {
      "cell_type": "code",
      "execution_count": null,
      "metadata": {
        "colab": {
          "base_uri": "https://localhost:8080/"
        },
        "id": "AM-olRznXq_D",
        "outputId": "3c4247e3-3edd-48e4-deb2-9d83d9180078"
      },
      "outputs": [
        {
          "output_type": "stream",
          "name": "stdout",
          "text": [
            "<class 'pandas.core.frame.DataFrame'>\n",
            "RangeIndex: 33144 entries, 0 to 33143\n",
            "Data columns (total 30 columns):\n",
            " #   Column              Non-Null Count  Dtype  \n",
            "---  ------              --------------  -----  \n",
            " 0   asset_id            33144 non-null  int64  \n",
            " 1   content_id          33123 non-null  float64\n",
            " 2   title               33144 non-null  object \n",
            " 3   reduced_title       33144 non-null  object \n",
            " 4   episode_title       28997 non-null  object \n",
            " 5   show_type           33140 non-null  object \n",
            " 6   released_year       33144 non-null  float64\n",
            " 7   country_of_origin   33140 non-null  object \n",
            " 8   category            33144 non-null  object \n",
            " 9   keywords            33142 non-null  object \n",
            " 10  description         33142 non-null  object \n",
            " 11  reduced_desc        33144 non-null  object \n",
            " 12  cast_first_name     24412 non-null  object \n",
            " 13  credits_first_name  20590 non-null  object \n",
            " 14  run_time_min        33144 non-null  float64\n",
            " 15  audience            33143 non-null  object \n",
            " 16  made_for_tv         33144 non-null  object \n",
            " 17  close_caption       33144 non-null  object \n",
            " 18  sex_rating          33144 non-null  object \n",
            " 19  violence_rating     33144 non-null  object \n",
            " 20  language_rating     33144 non-null  object \n",
            " 21  dialog_rating       33144 non-null  object \n",
            " 22  fv_rating           33144 non-null  object \n",
            " 23  pay_per_view        33144 non-null  object \n",
            " 24  pack_premium_1      33144 non-null  object \n",
            " 25  pack_premium_2      33144 non-null  object \n",
            " 26  create_date         33144 non-null  object \n",
            " 27  modify_date         33144 non-null  object \n",
            " 28  start_vod_date      33144 non-null  object \n",
            " 29  end_vod_date        33144 non-null  object \n",
            "dtypes: float64(3), int64(1), object(26)\n",
            "memory usage: 7.6+ MB\n"
          ]
        }
      ],
      "source": [
        "meta.info()"
      ]
    },
    {
      "cell_type": "code",
      "execution_count": null,
      "metadata": {
        "colab": {
          "base_uri": "https://localhost:8080/",
          "height": 206
        },
        "id": "BHp5xIUeXzt7",
        "outputId": "cc9f8b57-692a-4ffb-ebc9-a9a0f2a65c9b"
      },
      "outputs": [
        {
          "output_type": "execute_result",
          "data": {
            "text/html": [
              "\n",
              "  <div id=\"df-3ea0b44d-b3ea-44ff-b1c7-77baec317a4c\">\n",
              "    <div class=\"colab-df-container\">\n",
              "      <div>\n",
              "<style scoped>\n",
              "    .dataframe tbody tr th:only-of-type {\n",
              "        vertical-align: middle;\n",
              "    }\n",
              "\n",
              "    .dataframe tbody tr th {\n",
              "        vertical-align: top;\n",
              "    }\n",
              "\n",
              "    .dataframe thead th {\n",
              "        text-align: right;\n",
              "    }\n",
              "</style>\n",
              "<table border=\"1\" class=\"dataframe\">\n",
              "  <thead>\n",
              "    <tr style=\"text-align: right;\">\n",
              "      <th></th>\n",
              "      <th>customer_id</th>\n",
              "      <th>account_id</th>\n",
              "      <th>device_type</th>\n",
              "      <th>asset_id</th>\n",
              "      <th>tunein</th>\n",
              "      <th>tuneout</th>\n",
              "      <th>resume</th>\n",
              "    </tr>\n",
              "  </thead>\n",
              "  <tbody>\n",
              "    <tr>\n",
              "      <th>0</th>\n",
              "      <td>0</td>\n",
              "      <td>90627</td>\n",
              "      <td>STATIONARY</td>\n",
              "      <td>18332.0</td>\n",
              "      <td>2021-02-18 22:52:00.0</td>\n",
              "      <td>2021-02-18 23:35:00.0</td>\n",
              "      <td>0</td>\n",
              "    </tr>\n",
              "    <tr>\n",
              "      <th>1</th>\n",
              "      <td>0</td>\n",
              "      <td>90627</td>\n",
              "      <td>STATIONARY</td>\n",
              "      <td>24727.0</td>\n",
              "      <td>2021-03-24 23:17:00.0</td>\n",
              "      <td>2021-03-25 00:01:00.0</td>\n",
              "      <td>0</td>\n",
              "    </tr>\n",
              "    <tr>\n",
              "      <th>2</th>\n",
              "      <td>1</td>\n",
              "      <td>3387</td>\n",
              "      <td>STB</td>\n",
              "      <td>895.0</td>\n",
              "      <td>2021-03-15 10:05:00.0</td>\n",
              "      <td>2021-03-15 10:23:00.0</td>\n",
              "      <td>0</td>\n",
              "    </tr>\n",
              "    <tr>\n",
              "      <th>3</th>\n",
              "      <td>1</td>\n",
              "      <td>3387</td>\n",
              "      <td>STB</td>\n",
              "      <td>895.0</td>\n",
              "      <td>2021-03-15 10:23:00.0</td>\n",
              "      <td>2021-03-15 11:18:00.0</td>\n",
              "      <td>1</td>\n",
              "    </tr>\n",
              "    <tr>\n",
              "      <th>4</th>\n",
              "      <td>1</td>\n",
              "      <td>3387</td>\n",
              "      <td>STB</td>\n",
              "      <td>26062.0</td>\n",
              "      <td>2021-03-16 09:24:00.0</td>\n",
              "      <td>2021-03-16 09:44:00.0</td>\n",
              "      <td>0</td>\n",
              "    </tr>\n",
              "  </tbody>\n",
              "</table>\n",
              "</div>\n",
              "      <button class=\"colab-df-convert\" onclick=\"convertToInteractive('df-3ea0b44d-b3ea-44ff-b1c7-77baec317a4c')\"\n",
              "              title=\"Convert this dataframe to an interactive table.\"\n",
              "              style=\"display:none;\">\n",
              "        \n",
              "  <svg xmlns=\"http://www.w3.org/2000/svg\" height=\"24px\"viewBox=\"0 0 24 24\"\n",
              "       width=\"24px\">\n",
              "    <path d=\"M0 0h24v24H0V0z\" fill=\"none\"/>\n",
              "    <path d=\"M18.56 5.44l.94 2.06.94-2.06 2.06-.94-2.06-.94-.94-2.06-.94 2.06-2.06.94zm-11 1L8.5 8.5l.94-2.06 2.06-.94-2.06-.94L8.5 2.5l-.94 2.06-2.06.94zm10 10l.94 2.06.94-2.06 2.06-.94-2.06-.94-.94-2.06-.94 2.06-2.06.94z\"/><path d=\"M17.41 7.96l-1.37-1.37c-.4-.4-.92-.59-1.43-.59-.52 0-1.04.2-1.43.59L10.3 9.45l-7.72 7.72c-.78.78-.78 2.05 0 2.83L4 21.41c.39.39.9.59 1.41.59.51 0 1.02-.2 1.41-.59l7.78-7.78 2.81-2.81c.8-.78.8-2.07 0-2.86zM5.41 20L4 18.59l7.72-7.72 1.47 1.35L5.41 20z\"/>\n",
              "  </svg>\n",
              "      </button>\n",
              "      \n",
              "  <style>\n",
              "    .colab-df-container {\n",
              "      display:flex;\n",
              "      flex-wrap:wrap;\n",
              "      gap: 12px;\n",
              "    }\n",
              "\n",
              "    .colab-df-convert {\n",
              "      background-color: #E8F0FE;\n",
              "      border: none;\n",
              "      border-radius: 50%;\n",
              "      cursor: pointer;\n",
              "      display: none;\n",
              "      fill: #1967D2;\n",
              "      height: 32px;\n",
              "      padding: 0 0 0 0;\n",
              "      width: 32px;\n",
              "    }\n",
              "\n",
              "    .colab-df-convert:hover {\n",
              "      background-color: #E2EBFA;\n",
              "      box-shadow: 0px 1px 2px rgba(60, 64, 67, 0.3), 0px 1px 3px 1px rgba(60, 64, 67, 0.15);\n",
              "      fill: #174EA6;\n",
              "    }\n",
              "\n",
              "    [theme=dark] .colab-df-convert {\n",
              "      background-color: #3B4455;\n",
              "      fill: #D2E3FC;\n",
              "    }\n",
              "\n",
              "    [theme=dark] .colab-df-convert:hover {\n",
              "      background-color: #434B5C;\n",
              "      box-shadow: 0px 1px 3px 1px rgba(0, 0, 0, 0.15);\n",
              "      filter: drop-shadow(0px 1px 2px rgba(0, 0, 0, 0.3));\n",
              "      fill: #FFFFFF;\n",
              "    }\n",
              "  </style>\n",
              "\n",
              "      <script>\n",
              "        const buttonEl =\n",
              "          document.querySelector('#df-3ea0b44d-b3ea-44ff-b1c7-77baec317a4c button.colab-df-convert');\n",
              "        buttonEl.style.display =\n",
              "          google.colab.kernel.accessAllowed ? 'block' : 'none';\n",
              "\n",
              "        async function convertToInteractive(key) {\n",
              "          const element = document.querySelector('#df-3ea0b44d-b3ea-44ff-b1c7-77baec317a4c');\n",
              "          const dataTable =\n",
              "            await google.colab.kernel.invokeFunction('convertToInteractive',\n",
              "                                                     [key], {});\n",
              "          if (!dataTable) return;\n",
              "\n",
              "          const docLinkHtml = 'Like what you see? Visit the ' +\n",
              "            '<a target=\"_blank\" href=https://colab.research.google.com/notebooks/data_table.ipynb>data table notebook</a>'\n",
              "            + ' to learn more about interactive tables.';\n",
              "          element.innerHTML = '';\n",
              "          dataTable['output_type'] = 'display_data';\n",
              "          await google.colab.output.renderOutput(dataTable, element);\n",
              "          const docLink = document.createElement('div');\n",
              "          docLink.innerHTML = docLinkHtml;\n",
              "          element.appendChild(docLink);\n",
              "        }\n",
              "      </script>\n",
              "    </div>\n",
              "  </div>\n",
              "  "
            ],
            "text/plain": [
              "   customer_id  account_id  ...                tuneout  resume\n",
              "0            0       90627  ...  2021-02-18 23:35:00.0       0\n",
              "1            0       90627  ...  2021-03-25 00:01:00.0       0\n",
              "2            1        3387  ...  2021-03-15 10:23:00.0       0\n",
              "3            1        3387  ...  2021-03-15 11:18:00.0       1\n",
              "4            1        3387  ...  2021-03-16 09:44:00.0       0\n",
              "\n",
              "[5 rows x 7 columns]"
            ]
          },
          "metadata": {},
          "execution_count": 10
        }
      ],
      "source": [
        "train.head()"
      ]
    },
    {
      "cell_type": "code",
      "execution_count": null,
      "metadata": {
        "colab": {
          "base_uri": "https://localhost:8080/"
        },
        "id": "EEJ7ItvCYGcA",
        "outputId": "6eed08ca-53ad-45d4-cf67-76bceae911a3"
      },
      "outputs": [
        {
          "output_type": "execute_result",
          "data": {
            "text/plain": [
              "(3657801, 7)"
            ]
          },
          "metadata": {},
          "execution_count": 11
        }
      ],
      "source": [
        "train.shape"
      ]
    },
    {
      "cell_type": "code",
      "execution_count": null,
      "metadata": {
        "colab": {
          "base_uri": "https://localhost:8080/",
          "height": 300
        },
        "id": "PnyNxig-Yik6",
        "outputId": "1d3059f3-b6c5-4acb-b78e-d97a0f12e768"
      },
      "outputs": [
        {
          "output_type": "execute_result",
          "data": {
            "text/html": [
              "\n",
              "  <div id=\"df-bf252def-4152-48e7-a9b6-147fcc099481\">\n",
              "    <div class=\"colab-df-container\">\n",
              "      <div>\n",
              "<style scoped>\n",
              "    .dataframe tbody tr th:only-of-type {\n",
              "        vertical-align: middle;\n",
              "    }\n",
              "\n",
              "    .dataframe tbody tr th {\n",
              "        vertical-align: top;\n",
              "    }\n",
              "\n",
              "    .dataframe thead th {\n",
              "        text-align: right;\n",
              "    }\n",
              "</style>\n",
              "<table border=\"1\" class=\"dataframe\">\n",
              "  <thead>\n",
              "    <tr style=\"text-align: right;\">\n",
              "      <th></th>\n",
              "      <th>customer_id</th>\n",
              "      <th>account_id</th>\n",
              "      <th>asset_id</th>\n",
              "      <th>resume</th>\n",
              "    </tr>\n",
              "  </thead>\n",
              "  <tbody>\n",
              "    <tr>\n",
              "      <th>count</th>\n",
              "      <td>3.657801e+06</td>\n",
              "      <td>3.657801e+06</td>\n",
              "      <td>3.657779e+06</td>\n",
              "      <td>3.657801e+06</td>\n",
              "    </tr>\n",
              "    <tr>\n",
              "      <th>mean</th>\n",
              "      <td>5.697459e+04</td>\n",
              "      <td>5.902651e+04</td>\n",
              "      <td>1.667222e+04</td>\n",
              "      <td>4.005672e-01</td>\n",
              "    </tr>\n",
              "    <tr>\n",
              "      <th>std</th>\n",
              "      <td>3.090677e+04</td>\n",
              "      <td>3.237536e+04</td>\n",
              "      <td>9.666494e+03</td>\n",
              "      <td>4.900134e-01</td>\n",
              "    </tr>\n",
              "    <tr>\n",
              "      <th>min</th>\n",
              "      <td>0.000000e+00</td>\n",
              "      <td>0.000000e+00</td>\n",
              "      <td>0.000000e+00</td>\n",
              "      <td>0.000000e+00</td>\n",
              "    </tr>\n",
              "    <tr>\n",
              "      <th>25%</th>\n",
              "      <td>3.168700e+04</td>\n",
              "      <td>3.142200e+04</td>\n",
              "      <td>8.318000e+03</td>\n",
              "      <td>0.000000e+00</td>\n",
              "    </tr>\n",
              "    <tr>\n",
              "      <th>50%</th>\n",
              "      <td>5.759500e+04</td>\n",
              "      <td>6.078200e+04</td>\n",
              "      <td>1.641900e+04</td>\n",
              "      <td>0.000000e+00</td>\n",
              "    </tr>\n",
              "    <tr>\n",
              "      <th>75%</th>\n",
              "      <td>8.250200e+04</td>\n",
              "      <td>8.752400e+04</td>\n",
              "      <td>2.512800e+04</td>\n",
              "      <td>1.000000e+00</td>\n",
              "    </tr>\n",
              "    <tr>\n",
              "      <th>max</th>\n",
              "      <td>1.123390e+05</td>\n",
              "      <td>1.138800e+05</td>\n",
              "      <td>3.314300e+04</td>\n",
              "      <td>1.000000e+00</td>\n",
              "    </tr>\n",
              "  </tbody>\n",
              "</table>\n",
              "</div>\n",
              "      <button class=\"colab-df-convert\" onclick=\"convertToInteractive('df-bf252def-4152-48e7-a9b6-147fcc099481')\"\n",
              "              title=\"Convert this dataframe to an interactive table.\"\n",
              "              style=\"display:none;\">\n",
              "        \n",
              "  <svg xmlns=\"http://www.w3.org/2000/svg\" height=\"24px\"viewBox=\"0 0 24 24\"\n",
              "       width=\"24px\">\n",
              "    <path d=\"M0 0h24v24H0V0z\" fill=\"none\"/>\n",
              "    <path d=\"M18.56 5.44l.94 2.06.94-2.06 2.06-.94-2.06-.94-.94-2.06-.94 2.06-2.06.94zm-11 1L8.5 8.5l.94-2.06 2.06-.94-2.06-.94L8.5 2.5l-.94 2.06-2.06.94zm10 10l.94 2.06.94-2.06 2.06-.94-2.06-.94-.94-2.06-.94 2.06-2.06.94z\"/><path d=\"M17.41 7.96l-1.37-1.37c-.4-.4-.92-.59-1.43-.59-.52 0-1.04.2-1.43.59L10.3 9.45l-7.72 7.72c-.78.78-.78 2.05 0 2.83L4 21.41c.39.39.9.59 1.41.59.51 0 1.02-.2 1.41-.59l7.78-7.78 2.81-2.81c.8-.78.8-2.07 0-2.86zM5.41 20L4 18.59l7.72-7.72 1.47 1.35L5.41 20z\"/>\n",
              "  </svg>\n",
              "      </button>\n",
              "      \n",
              "  <style>\n",
              "    .colab-df-container {\n",
              "      display:flex;\n",
              "      flex-wrap:wrap;\n",
              "      gap: 12px;\n",
              "    }\n",
              "\n",
              "    .colab-df-convert {\n",
              "      background-color: #E8F0FE;\n",
              "      border: none;\n",
              "      border-radius: 50%;\n",
              "      cursor: pointer;\n",
              "      display: none;\n",
              "      fill: #1967D2;\n",
              "      height: 32px;\n",
              "      padding: 0 0 0 0;\n",
              "      width: 32px;\n",
              "    }\n",
              "\n",
              "    .colab-df-convert:hover {\n",
              "      background-color: #E2EBFA;\n",
              "      box-shadow: 0px 1px 2px rgba(60, 64, 67, 0.3), 0px 1px 3px 1px rgba(60, 64, 67, 0.15);\n",
              "      fill: #174EA6;\n",
              "    }\n",
              "\n",
              "    [theme=dark] .colab-df-convert {\n",
              "      background-color: #3B4455;\n",
              "      fill: #D2E3FC;\n",
              "    }\n",
              "\n",
              "    [theme=dark] .colab-df-convert:hover {\n",
              "      background-color: #434B5C;\n",
              "      box-shadow: 0px 1px 3px 1px rgba(0, 0, 0, 0.15);\n",
              "      filter: drop-shadow(0px 1px 2px rgba(0, 0, 0, 0.3));\n",
              "      fill: #FFFFFF;\n",
              "    }\n",
              "  </style>\n",
              "\n",
              "      <script>\n",
              "        const buttonEl =\n",
              "          document.querySelector('#df-bf252def-4152-48e7-a9b6-147fcc099481 button.colab-df-convert');\n",
              "        buttonEl.style.display =\n",
              "          google.colab.kernel.accessAllowed ? 'block' : 'none';\n",
              "\n",
              "        async function convertToInteractive(key) {\n",
              "          const element = document.querySelector('#df-bf252def-4152-48e7-a9b6-147fcc099481');\n",
              "          const dataTable =\n",
              "            await google.colab.kernel.invokeFunction('convertToInteractive',\n",
              "                                                     [key], {});\n",
              "          if (!dataTable) return;\n",
              "\n",
              "          const docLinkHtml = 'Like what you see? Visit the ' +\n",
              "            '<a target=\"_blank\" href=https://colab.research.google.com/notebooks/data_table.ipynb>data table notebook</a>'\n",
              "            + ' to learn more about interactive tables.';\n",
              "          element.innerHTML = '';\n",
              "          dataTable['output_type'] = 'display_data';\n",
              "          await google.colab.output.renderOutput(dataTable, element);\n",
              "          const docLink = document.createElement('div');\n",
              "          docLink.innerHTML = docLinkHtml;\n",
              "          element.appendChild(docLink);\n",
              "        }\n",
              "      </script>\n",
              "    </div>\n",
              "  </div>\n",
              "  "
            ],
            "text/plain": [
              "        customer_id    account_id      asset_id        resume\n",
              "count  3.657801e+06  3.657801e+06  3.657779e+06  3.657801e+06\n",
              "mean   5.697459e+04  5.902651e+04  1.667222e+04  4.005672e-01\n",
              "std    3.090677e+04  3.237536e+04  9.666494e+03  4.900134e-01\n",
              "min    0.000000e+00  0.000000e+00  0.000000e+00  0.000000e+00\n",
              "25%    3.168700e+04  3.142200e+04  8.318000e+03  0.000000e+00\n",
              "50%    5.759500e+04  6.078200e+04  1.641900e+04  0.000000e+00\n",
              "75%    8.250200e+04  8.752400e+04  2.512800e+04  1.000000e+00\n",
              "max    1.123390e+05  1.138800e+05  3.314300e+04  1.000000e+00"
            ]
          },
          "metadata": {},
          "execution_count": 12
        }
      ],
      "source": [
        "train.describe()"
      ]
    },
    {
      "cell_type": "code",
      "execution_count": null,
      "metadata": {
        "colab": {
          "base_uri": "https://localhost:8080/"
        },
        "id": "LzEw3XW3aRgn",
        "outputId": "201633a8-339f-4870-f0f2-a37d111d0c55"
      },
      "outputs": [
        {
          "output_type": "stream",
          "name": "stdout",
          "text": [
            "<class 'pandas.core.frame.DataFrame'>\n",
            "RangeIndex: 3657801 entries, 0 to 3657800\n",
            "Data columns (total 7 columns):\n",
            " #   Column       Dtype  \n",
            "---  ------       -----  \n",
            " 0   customer_id  int64  \n",
            " 1   account_id   int64  \n",
            " 2   device_type  object \n",
            " 3   asset_id     float64\n",
            " 4   tunein       object \n",
            " 5   tuneout      object \n",
            " 6   resume       int64  \n",
            "dtypes: float64(1), int64(3), object(3)\n",
            "memory usage: 195.3+ MB\n"
          ]
        }
      ],
      "source": [
        "train.info()"
      ]
    },
    {
      "cell_type": "code",
      "execution_count": null,
      "metadata": {
        "colab": {
          "base_uri": "https://localhost:8080/"
        },
        "id": "to8pV85IP3PV",
        "outputId": "d390bd0e-a569-4641-a7ed-ccb82e0ff798"
      },
      "outputs": [
        {
          "output_type": "stream",
          "name": "stdout",
          "text": [
            "Cantiad de Usuarios: 112340\n",
            "Cantiad de peliculas/series: 23987\n"
          ]
        }
      ],
      "source": [
        "print(f'Cantiad de Usuarios: {train.customer_id.nunique()}')\n",
        "print(f'Cantiad de peliculas/series: {train.asset_id.nunique()}')\n"
      ]
    },
    {
      "cell_type": "markdown",
      "metadata": {
        "id": "G98d29z0VcvV"
      },
      "source": [
        "## Datos faltantes "
      ]
    },
    {
      "cell_type": "markdown",
      "metadata": {
        "id": "dqyABagtk54r"
      },
      "source": [
        "### Train df"
      ]
    },
    {
      "cell_type": "code",
      "execution_count": null,
      "metadata": {
        "colab": {
          "base_uri": "https://localhost:8080/",
          "height": 624
        },
        "id": "wHdy8ak9SLSH",
        "outputId": "0024d573-daaf-4127-f67c-2519776d75c7"
      },
      "outputs": [
        {
          "output_type": "execute_result",
          "data": {
            "text/plain": [
              "<matplotlib.axes._subplots.AxesSubplot at 0x7fe317f7e810>"
            ]
          },
          "metadata": {},
          "execution_count": 15
        },
        {
          "output_type": "display_data",
          "data": {
            "image/png": "[encoded data removed]",
            "text/plain": [
              "<Figure size 1800x720 with 2 Axes>"
            ]
          },
          "metadata": {
            "needs_background": "light"
          }
        }
      ],
      "source": [
        "msno.matrix(train) # demasiados datos para ver los datos faltantes graficamente "
      ]
    },
    {
      "cell_type": "code",
      "execution_count": null,
      "metadata": {
        "colab": {
          "base_uri": "https://localhost:8080/"
        },
        "id": "wdyR1Xm6RtR4",
        "outputId": "bd7c1838-c312-48e8-be75-c871cb2bd405"
      },
      "outputs": [
        {
          "output_type": "execute_result",
          "data": {
            "text/plain": [
              "22"
            ]
          },
          "metadata": {},
          "execution_count": 16
        }
      ],
      "source": [
        "train.asset_id.isna().sum() "
      ]
    },
    {
      "cell_type": "code",
      "execution_count": null,
      "metadata": {
        "colab": {
          "base_uri": "https://localhost:8080/"
        },
        "id": "vscp7rzvSg97",
        "outputId": "13237a0c-6de2-49ed-9554-19db40cc1f86"
      },
      "outputs": [
        {
          "output_type": "execute_result",
          "data": {
            "text/plain": [
              "customer_id     0\n",
              "account_id      0\n",
              "device_type    29\n",
              "asset_id       22\n",
              "tunein          0\n",
              "tuneout         0\n",
              "resume          0\n",
              "dtype: int64"
            ]
          },
          "metadata": {},
          "execution_count": 17
        }
      ],
      "source": [
        "train.isna().sum()# son muy pocos los datos faltantes por lo tanto se los dropea sin ningun tratamiento"
      ]
    },
    {
      "cell_type": "code",
      "execution_count": null,
      "metadata": {
        "id": "RzdNKJMlSr8U"
      },
      "outputs": [],
      "source": [
        "train=train.dropna()"
      ]
    },
    {
      "cell_type": "code",
      "execution_count": null,
      "metadata": {
        "colab": {
          "base_uri": "https://localhost:8080/"
        },
        "id": "mp8wuEceS4B0",
        "outputId": "5a09cd06-17aa-4fbe-b059-55dbdb533154"
      },
      "outputs": [
        {
          "output_type": "execute_result",
          "data": {
            "text/plain": [
              "customer_id    0\n",
              "account_id     0\n",
              "device_type    0\n",
              "asset_id       0\n",
              "tunein         0\n",
              "tuneout        0\n",
              "resume         0\n",
              "dtype: int64"
            ]
          },
          "metadata": {},
          "execution_count": 19
        }
      ],
      "source": [
        "train.isna().sum()"
      ]
    },
    {
      "cell_type": "code",
      "execution_count": null,
      "metadata": {
        "colab": {
          "base_uri": "https://localhost:8080/"
        },
        "id": "wwKk2MQnQu1a",
        "outputId": "52c7b23b-354d-4cec-df3f-872d6846242a"
      },
      "outputs": [
        {
          "output_type": "execute_result",
          "data": {
            "text/plain": [
              "0          18332\n",
              "1          24727\n",
              "2            895\n",
              "3            895\n",
              "4          26062\n",
              "           ...  \n",
              "3657796      330\n",
              "3657797     9931\n",
              "3657798    29929\n",
              "3657799    29929\n",
              "3657800    29929\n",
              "Name: asset_id, Length: 3657750, dtype: int64"
            ]
          },
          "metadata": {},
          "execution_count": 20
        }
      ],
      "source": [
        "train.asset_id.apply(lambda x : int(x))"
      ]
    },
    {
      "cell_type": "code",
      "execution_count": null,
      "metadata": {
        "colab": {
          "base_uri": "https://localhost:8080/"
        },
        "id": "lSU49nFxQQ4T",
        "outputId": "4d8759df-689e-450d-e2ac-1c69b3021428"
      },
      "outputs": [
        {
          "output_type": "execute_result",
          "data": {
            "text/plain": [
              "23987"
            ]
          },
          "metadata": {},
          "execution_count": 21
        }
      ],
      "source": [
        "train.asset_id.nunique() # la cantidad de peliculas es la misma luego de retirar los nan's"
      ]
    },
    {
      "cell_type": "markdown",
      "metadata": {
        "id": "-OrCPlkdk2tR"
      },
      "source": [
        "### Meta df"
      ]
    },
    {
      "cell_type": "code",
      "execution_count": null,
      "metadata": {
        "colab": {
          "base_uri": "https://localhost:8080/"
        },
        "id": "GMXEiOJ5k1BN",
        "outputId": "6ee7aa5a-03ec-454b-fa57-1e0269683583"
      },
      "outputs": [
        {
          "output_type": "execute_result",
          "data": {
            "text/plain": [
              "asset_id                  0\n",
              "content_id               21\n",
              "title                     0\n",
              "reduced_title             0\n",
              "episode_title          4147\n",
              "show_type                 4\n",
              "released_year             0\n",
              "country_of_origin         4\n",
              "category                  0\n",
              "keywords                  2\n",
              "description               2\n",
              "reduced_desc              0\n",
              "cast_first_name        8732\n",
              "credits_first_name    12554\n",
              "run_time_min              0\n",
              "audience                  1\n",
              "made_for_tv               0\n",
              "close_caption             0\n",
              "sex_rating                0\n",
              "violence_rating           0\n",
              "language_rating           0\n",
              "dialog_rating             0\n",
              "fv_rating                 0\n",
              "pay_per_view              0\n",
              "pack_premium_1            0\n",
              "pack_premium_2            0\n",
              "create_date               0\n",
              "modify_date               0\n",
              "start_vod_date            0\n",
              "end_vod_date              0\n",
              "dtype: int64"
            ]
          },
          "metadata": {},
          "execution_count": 22
        }
      ],
      "source": [
        "meta.isna().sum() # se eliminan las filas con content_id y show_type de datos faltantes "
      ]
    },
    {
      "cell_type": "code",
      "execution_count": null,
      "metadata": {
        "id": "tN9BsktmlHAw"
      },
      "outputs": [],
      "source": [
        "meta.content_id=meta.content_id.fillna('T1')"
      ]
    },
    {
      "cell_type": "code",
      "execution_count": null,
      "metadata": {
        "colab": {
          "base_uri": "https://localhost:8080/"
        },
        "id": "FkraHJkm4UVR",
        "outputId": "e0888685-c1a4-438c-8b00-67d440925a45"
      },
      "outputs": [
        {
          "output_type": "execute_result",
          "data": {
            "text/plain": [
              "Int64Index([ 1540,  1541,  1542,  1543,  1544,  1545,  1546, 18197, 18198,\n",
              "            18199, 18200, 18201, 18202, 18203, 22895, 22896, 22897, 22898,\n",
              "            22899, 22900, 22901],\n",
              "           dtype='int64')"
            ]
          },
          "metadata": {},
          "execution_count": 24
        }
      ],
      "source": [
        "meta.loc[meta.content_id=='T1'].index"
      ]
    },
    {
      "cell_type": "code",
      "execution_count": null,
      "metadata": {
        "id": "UIQ-1cWW31Ha"
      },
      "outputs": [],
      "source": [
        "meta=meta.drop(meta.loc[meta.content_id=='T1'].index)"
      ]
    },
    {
      "cell_type": "code",
      "execution_count": null,
      "metadata": {
        "id": "pagHiNOJmpzT"
      },
      "outputs": [],
      "source": [
        "# Los datos faltantes de content_id son los datos correspondientes a los tutoriales de como usar Flow "
      ]
    },
    {
      "cell_type": "code",
      "execution_count": null,
      "metadata": {
        "id": "QUipMUo0oO0X"
      },
      "outputs": [],
      "source": [
        "meta.show_type=meta.show_type.fillna('NoShow')"
      ]
    },
    {
      "cell_type": "code",
      "execution_count": null,
      "metadata": {
        "colab": {
          "base_uri": "https://localhost:8080/",
          "height": 533
        },
        "id": "5wB-NrhLpDe8",
        "outputId": "bdfa4669-6430-4d8c-f5c6-c11342b4329b"
      },
      "outputs": [
        {
          "output_type": "execute_result",
          "data": {
            "text/html": [
              "\n",
              "  <div id=\"df-eff69eae-d4de-4dd6-9d28-ca17e39196b4\">\n",
              "    <div class=\"colab-df-container\">\n",
              "      <div>\n",
              "<style scoped>\n",
              "    .dataframe tbody tr th:only-of-type {\n",
              "        vertical-align: middle;\n",
              "    }\n",
              "\n",
              "    .dataframe tbody tr th {\n",
              "        vertical-align: top;\n",
              "    }\n",
              "\n",
              "    .dataframe thead th {\n",
              "        text-align: right;\n",
              "    }\n",
              "</style>\n",
              "<table border=\"1\" class=\"dataframe\">\n",
              "  <thead>\n",
              "    <tr style=\"text-align: right;\">\n",
              "      <th></th>\n",
              "      <th>asset_id</th>\n",
              "      <th>content_id</th>\n",
              "      <th>title</th>\n",
              "      <th>reduced_title</th>\n",
              "      <th>episode_title</th>\n",
              "      <th>show_type</th>\n",
              "      <th>released_year</th>\n",
              "      <th>country_of_origin</th>\n",
              "      <th>category</th>\n",
              "      <th>keywords</th>\n",
              "      <th>description</th>\n",
              "      <th>reduced_desc</th>\n",
              "      <th>cast_first_name</th>\n",
              "      <th>credits_first_name</th>\n",
              "      <th>run_time_min</th>\n",
              "      <th>audience</th>\n",
              "      <th>made_for_tv</th>\n",
              "      <th>close_caption</th>\n",
              "      <th>sex_rating</th>\n",
              "      <th>violence_rating</th>\n",
              "      <th>language_rating</th>\n",
              "      <th>dialog_rating</th>\n",
              "      <th>fv_rating</th>\n",
              "      <th>pay_per_view</th>\n",
              "      <th>pack_premium_1</th>\n",
              "      <th>pack_premium_2</th>\n",
              "      <th>create_date</th>\n",
              "      <th>modify_date</th>\n",
              "      <th>start_vod_date</th>\n",
              "      <th>end_vod_date</th>\n",
              "    </tr>\n",
              "  </thead>\n",
              "  <tbody>\n",
              "    <tr>\n",
              "      <th>3187</th>\n",
              "      <td>14004</td>\n",
              "      <td>9</td>\n",
              "      <td>Star Trek: En la oscuridad</td>\n",
              "      <td>Star_Trek__En_la_os</td>\n",
              "      <td>NaN</td>\n",
              "      <td>NoShow</td>\n",
              "      <td>2013.0</td>\n",
              "      <td>US</td>\n",
              "      <td>Acción/Ciencia Ficción</td>\n",
              "      <td>Aventuras,Saga,Futurismo,Galaxia,Criaturas,Ali...</td>\n",
              "      <td>La tripulación de la nave Enterprise recibe la...</td>\n",
              "      <td>La tripulación de la Enterprise recibe la orde...</td>\n",
              "      <td>Chris Pine, Zachary Quinto, Zoe Saldana, Bened...</td>\n",
              "      <td>J.J. Abrams</td>\n",
              "      <td>132.0</td>\n",
              "      <td>General</td>\n",
              "      <td>N</td>\n",
              "      <td>N</td>\n",
              "      <td>N</td>\n",
              "      <td>N</td>\n",
              "      <td>N</td>\n",
              "      <td>N</td>\n",
              "      <td>N</td>\n",
              "      <td>N</td>\n",
              "      <td>N</td>\n",
              "      <td>N</td>\n",
              "      <td>2020-11-16T21:16:01.0Z</td>\n",
              "      <td>2020-12-09T17:10:20.0Z</td>\n",
              "      <td>2020-11-20T00:00:00.0Z</td>\n",
              "      <td>2020-12-14T23:59:59.0Z</td>\n",
              "    </tr>\n",
              "    <tr>\n",
              "      <th>6421</th>\n",
              "      <td>11154</td>\n",
              "      <td>948</td>\n",
              "      <td>Un verano en pantalones</td>\n",
              "      <td>Un_Verano_En_Pantal</td>\n",
              "      <td>NaN</td>\n",
              "      <td>NoShow</td>\n",
              "      <td>2005.0</td>\n",
              "      <td>US</td>\n",
              "      <td>Comedia</td>\n",
              "      <td>Mujeres,De Libros,Amigos,Viajes</td>\n",
              "      <td>Cuatro mejores amigas traman un plan para mant...</td>\n",
              "      <td>Cuatro mejores amigas traman un plan para mant...</td>\n",
              "      <td>Amber Tamblyn, Alexis Bledel, America Ferrera,...</td>\n",
              "      <td>Ken Kwapis</td>\n",
              "      <td>131.0</td>\n",
              "      <td>Mujeres</td>\n",
              "      <td>N</td>\n",
              "      <td>N</td>\n",
              "      <td>N</td>\n",
              "      <td>N</td>\n",
              "      <td>N</td>\n",
              "      <td>N</td>\n",
              "      <td>N</td>\n",
              "      <td>N</td>\n",
              "      <td>N</td>\n",
              "      <td>N</td>\n",
              "      <td>2020-12-29T18:10:46.0Z</td>\n",
              "      <td>2020-12-29T20:06:05.0Z</td>\n",
              "      <td>2020-12-02T00:00:00.0Z</td>\n",
              "      <td>2021-01-01T23:59:00.0Z</td>\n",
              "    </tr>\n",
              "    <tr>\n",
              "      <th>7674</th>\n",
              "      <td>27728</td>\n",
              "      <td>9</td>\n",
              "      <td>Star Trek: En la oscuridad</td>\n",
              "      <td>Star_Trek_En_la_DOB</td>\n",
              "      <td>NaN</td>\n",
              "      <td>NoShow</td>\n",
              "      <td>2013.0</td>\n",
              "      <td>US</td>\n",
              "      <td>Acción/Ciencia Ficción</td>\n",
              "      <td>Aventuras,Saga,Futurismo,Galaxia,Criaturas,Ali...</td>\n",
              "      <td>La tripulación de la nave Enterprise recibe la...</td>\n",
              "      <td>La tripulación de la Enterprise recibe la orde...</td>\n",
              "      <td>Chris Pine, Zachary Quinto, Zoe Saldana, Bened...</td>\n",
              "      <td>J.J. Abrams</td>\n",
              "      <td>132.0</td>\n",
              "      <td>General</td>\n",
              "      <td>N</td>\n",
              "      <td>N</td>\n",
              "      <td>N</td>\n",
              "      <td>N</td>\n",
              "      <td>N</td>\n",
              "      <td>N</td>\n",
              "      <td>N</td>\n",
              "      <td>N</td>\n",
              "      <td>N</td>\n",
              "      <td>N</td>\n",
              "      <td>2020-12-11T15:09:21.0Z</td>\n",
              "      <td>2020-12-24T15:06:09.0Z</td>\n",
              "      <td>2020-12-15T00:00:00.0Z</td>\n",
              "      <td>2022-11-20T23:59:00.0Z</td>\n",
              "    </tr>\n",
              "    <tr>\n",
              "      <th>32927</th>\n",
              "      <td>24509</td>\n",
              "      <td>4315</td>\n",
              "      <td>El día que el deporte se detuvo</td>\n",
              "      <td>El_dia_que_el_depor</td>\n",
              "      <td>NaN</td>\n",
              "      <td>NoShow</td>\n",
              "      <td>2021.0</td>\n",
              "      <td>US</td>\n",
              "      <td>Documental/Deporte</td>\n",
              "      <td>Pandemias,Deportistas,De Color,Sociedad</td>\n",
              "      <td>Documental original de HBO. Antoine Fuqua, rel...</td>\n",
              "      <td>Documental original de HBO que cuenta la histo...</td>\n",
              "      <td>NaN</td>\n",
              "      <td>Antoine Fuqua</td>\n",
              "      <td>85.0</td>\n",
              "      <td>General</td>\n",
              "      <td>N</td>\n",
              "      <td>N</td>\n",
              "      <td>N</td>\n",
              "      <td>N</td>\n",
              "      <td>N</td>\n",
              "      <td>N</td>\n",
              "      <td>N</td>\n",
              "      <td>N</td>\n",
              "      <td>N</td>\n",
              "      <td>Y</td>\n",
              "      <td>2021-03-29T16:16:36.0Z</td>\n",
              "      <td>2021-03-29T17:06:04.0Z</td>\n",
              "      <td>2021-03-24T00:00:00.0Z</td>\n",
              "      <td>2022-01-10T23:59:00.0Z</td>\n",
              "    </tr>\n",
              "  </tbody>\n",
              "</table>\n",
              "</div>\n",
              "      <button class=\"colab-df-convert\" onclick=\"convertToInteractive('df-eff69eae-d4de-4dd6-9d28-ca17e39196b4')\"\n",
              "              title=\"Convert this dataframe to an interactive table.\"\n",
              "              style=\"display:none;\">\n",
              "        \n",
              "  <svg xmlns=\"http://www.w3.org/2000/svg\" height=\"24px\"viewBox=\"0 0 24 24\"\n",
              "       width=\"24px\">\n",
              "    <path d=\"M0 0h24v24H0V0z\" fill=\"none\"/>\n",
              "    <path d=\"M18.56 5.44l.94 2.06.94-2.06 2.06-.94-2.06-.94-.94-2.06-.94 2.06-2.06.94zm-11 1L8.5 8.5l.94-2.06 2.06-.94-2.06-.94L8.5 2.5l-.94 2.06-2.06.94zm10 10l.94 2.06.94-2.06 2.06-.94-2.06-.94-.94-2.06-.94 2.06-2.06.94z\"/><path d=\"M17.41 7.96l-1.37-1.37c-.4-.4-.92-.59-1.43-.59-.52 0-1.04.2-1.43.59L10.3 9.45l-7.72 7.72c-.78.78-.78 2.05 0 2.83L4 21.41c.39.39.9.59 1.41.59.51 0 1.02-.2 1.41-.59l7.78-7.78 2.81-2.81c.8-.78.8-2.07 0-2.86zM5.41 20L4 18.59l7.72-7.72 1.47 1.35L5.41 20z\"/>\n",
              "  </svg>\n",
              "      </button>\n",
              "      \n",
              "  <style>\n",
              "    .colab-df-container {\n",
              "      display:flex;\n",
              "      flex-wrap:wrap;\n",
              "      gap: 12px;\n",
              "    }\n",
              "\n",
              "    .colab-df-convert {\n",
              "      background-color: #E8F0FE;\n",
              "      border: none;\n",
              "      border-radius: 50%;\n",
              "      cursor: pointer;\n",
              "      display: none;\n",
              "      fill: #1967D2;\n",
              "      height: 32px;\n",
              "      padding: 0 0 0 0;\n",
              "      width: 32px;\n",
              "    }\n",
              "\n",
              "    .colab-df-convert:hover {\n",
              "      background-color: #E2EBFA;\n",
              "      box-shadow: 0px 1px 2px rgba(60, 64, 67, 0.3), 0px 1px 3px 1px rgba(60, 64, 67, 0.15);\n",
              "      fill: #174EA6;\n",
              "    }\n",
              "\n",
              "    [theme=dark] .colab-df-convert {\n",
              "      background-color: #3B4455;\n",
              "      fill: #D2E3FC;\n",
              "    }\n",
              "\n",
              "    [theme=dark] .colab-df-convert:hover {\n",
              "      background-color: #434B5C;\n",
              "      box-shadow: 0px 1px 3px 1px rgba(0, 0, 0, 0.15);\n",
              "      filter: drop-shadow(0px 1px 2px rgba(0, 0, 0, 0.3));\n",
              "      fill: #FFFFFF;\n",
              "    }\n",
              "  </style>\n",
              "\n",
              "      <script>\n",
              "        const buttonEl =\n",
              "          document.querySelector('#df-eff69eae-d4de-4dd6-9d28-ca17e39196b4 button.colab-df-convert');\n",
              "        buttonEl.style.display =\n",
              "          google.colab.kernel.accessAllowed ? 'block' : 'none';\n",
              "\n",
              "        async function convertToInteractive(key) {\n",
              "          const element = document.querySelector('#df-eff69eae-d4de-4dd6-9d28-ca17e39196b4');\n",
              "          const dataTable =\n",
              "            await google.colab.kernel.invokeFunction('convertToInteractive',\n",
              "                                                     [key], {});\n",
              "          if (!dataTable) return;\n",
              "\n",
              "          const docLinkHtml = 'Like what you see? Visit the ' +\n",
              "            '<a target=\"_blank\" href=https://colab.research.google.com/notebooks/data_table.ipynb>data table notebook</a>'\n",
              "            + ' to learn more about interactive tables.';\n",
              "          element.innerHTML = '';\n",
              "          dataTable['output_type'] = 'display_data';\n",
              "          await google.colab.output.renderOutput(dataTable, element);\n",
              "          const docLink = document.createElement('div');\n",
              "          docLink.innerHTML = docLinkHtml;\n",
              "          element.appendChild(docLink);\n",
              "        }\n",
              "      </script>\n",
              "    </div>\n",
              "  </div>\n",
              "  "
            ],
            "text/plain": [
              "       asset_id content_id  ...          start_vod_date            end_vod_date\n",
              "3187      14004          9  ...  2020-11-20T00:00:00.0Z  2020-12-14T23:59:59.0Z\n",
              "6421      11154        948  ...  2020-12-02T00:00:00.0Z  2021-01-01T23:59:00.0Z\n",
              "7674      27728          9  ...  2020-12-15T00:00:00.0Z  2022-11-20T23:59:00.0Z\n",
              "32927     24509       4315  ...  2021-03-24T00:00:00.0Z  2022-01-10T23:59:00.0Z\n",
              "\n",
              "[4 rows x 30 columns]"
            ]
          },
          "metadata": {},
          "execution_count": 28
        }
      ],
      "source": [
        "meta.loc[meta.show_type=='NoShow']"
      ]
    },
    {
      "cell_type": "code",
      "execution_count": null,
      "metadata": {
        "colab": {
          "base_uri": "https://localhost:8080/"
        },
        "id": "bYWiYK_nom0v",
        "outputId": "62190365-3034-4487-abdf-1aedb9f7dcda"
      },
      "outputs": [
        {
          "output_type": "execute_result",
          "data": {
            "text/plain": [
              "Int64Index([3187, 6421, 7674, 32927], dtype='int64')"
            ]
          },
          "metadata": {},
          "execution_count": 29
        }
      ],
      "source": [
        "meta.loc[meta.show_type=='NoShow'].index"
      ]
    },
    {
      "cell_type": "code",
      "execution_count": null,
      "metadata": {
        "id": "YH6eZLmIpCWl"
      },
      "outputs": [],
      "source": [
        "meta.loc[[3187, 6421, 7674, 32927],'show_type']='Película'"
      ]
    },
    {
      "cell_type": "markdown",
      "metadata": {
        "id": "cGELFA_TVgYM"
      },
      "source": [
        "## Peliculas/Series que se termina el contrato antes de poder ser recomendadas"
      ]
    },
    {
      "cell_type": "code",
      "execution_count": null,
      "metadata": {
        "id": "zuRon3UuTKDD"
      },
      "outputs": [],
      "source": [
        "meta['finserie']=pd.to_datetime(meta.end_vod_date, format='%Y/%m/%d')"
      ]
    },
    {
      "cell_type": "code",
      "execution_count": null,
      "metadata": {
        "id": "dWSOViQJUKIZ"
      },
      "outputs": [],
      "source": [
        "meta['finserie']=meta.finserie.dt.strftime('%Y-%m-%d')"
      ]
    },
    {
      "cell_type": "code",
      "execution_count": null,
      "metadata": {
        "id": "JmyP34ceUYrH"
      },
      "outputs": [],
      "source": [
        "meta['finserie']=pd.to_datetime(meta.finserie, format='%Y/%m/%d')"
      ]
    },
    {
      "cell_type": "code",
      "execution_count": null,
      "metadata": {
        "colab": {
          "base_uri": "https://localhost:8080/"
        },
        "id": "skvnhADCUDLJ",
        "outputId": "f8f5700f-2af3-44b0-951c-098462c89dcb"
      },
      "outputs": [
        {
          "output_type": "execute_result",
          "data": {
            "text/plain": [
              "0       2020-12-01\n",
              "1       2022-12-14\n",
              "2       2020-12-01\n",
              "3       2021-04-30\n",
              "4       2020-12-31\n",
              "           ...    \n",
              "33139   2021-11-20\n",
              "33140   2021-11-20\n",
              "33141   2021-03-19\n",
              "33142   2024-01-28\n",
              "33143   2021-02-28\n",
              "Name: finserie, Length: 33123, dtype: datetime64[ns]"
            ]
          },
          "metadata": {},
          "execution_count": 34
        }
      ],
      "source": [
        "meta.finserie"
      ]
    },
    {
      "cell_type": "code",
      "execution_count": null,
      "metadata": {
        "colab": {
          "base_uri": "https://localhost:8080/"
        },
        "id": "dZTDV2IWUe1v",
        "outputId": "0618252f-9c14-4e76-99c9-6a1db610cf67"
      },
      "outputs": [
        {
          "output_type": "execute_result",
          "data": {
            "text/plain": [
              "Timestamp('2020-12-01 00:00:00')"
            ]
          },
          "metadata": {},
          "execution_count": 35
        }
      ],
      "source": [
        "meta.finserie.min()"
      ]
    },
    {
      "cell_type": "code",
      "execution_count": null,
      "metadata": {
        "colab": {
          "base_uri": "https://localhost:8080/",
          "height": 1000
        },
        "id": "GbwEEbg3X14u",
        "outputId": "56830fcc-8974-478d-fd12-4d0d38786b13"
      },
      "outputs": [
        {
          "output_type": "execute_result",
          "data": {
            "text/html": [
              "\n",
              "  <div id=\"df-ef4c5ba1-5bbf-4667-86ac-fcbfc81c2ef5\">\n",
              "    <div class=\"colab-df-container\">\n",
              "      <div>\n",
              "<style scoped>\n",
              "    .dataframe tbody tr th:only-of-type {\n",
              "        vertical-align: middle;\n",
              "    }\n",
              "\n",
              "    .dataframe tbody tr th {\n",
              "        vertical-align: top;\n",
              "    }\n",
              "\n",
              "    .dataframe thead th {\n",
              "        text-align: right;\n",
              "    }\n",
              "</style>\n",
              "<table border=\"1\" class=\"dataframe\">\n",
              "  <thead>\n",
              "    <tr style=\"text-align: right;\">\n",
              "      <th></th>\n",
              "      <th>asset_id</th>\n",
              "      <th>content_id</th>\n",
              "      <th>title</th>\n",
              "      <th>reduced_title</th>\n",
              "      <th>episode_title</th>\n",
              "      <th>show_type</th>\n",
              "      <th>released_year</th>\n",
              "      <th>country_of_origin</th>\n",
              "      <th>category</th>\n",
              "      <th>keywords</th>\n",
              "      <th>description</th>\n",
              "      <th>reduced_desc</th>\n",
              "      <th>cast_first_name</th>\n",
              "      <th>credits_first_name</th>\n",
              "      <th>run_time_min</th>\n",
              "      <th>audience</th>\n",
              "      <th>made_for_tv</th>\n",
              "      <th>close_caption</th>\n",
              "      <th>sex_rating</th>\n",
              "      <th>violence_rating</th>\n",
              "      <th>language_rating</th>\n",
              "      <th>dialog_rating</th>\n",
              "      <th>fv_rating</th>\n",
              "      <th>pay_per_view</th>\n",
              "      <th>pack_premium_1</th>\n",
              "      <th>pack_premium_2</th>\n",
              "      <th>create_date</th>\n",
              "      <th>modify_date</th>\n",
              "      <th>start_vod_date</th>\n",
              "      <th>end_vod_date</th>\n",
              "      <th>finserie</th>\n",
              "    </tr>\n",
              "  </thead>\n",
              "  <tbody>\n",
              "    <tr>\n",
              "      <th>0</th>\n",
              "      <td>15188</td>\n",
              "      <td>0</td>\n",
              "      <td>Ep:17 Tiempos Compulsivos</td>\n",
              "      <td>Tiempos_Compul_E17</td>\n",
              "      <td>Episodio 17</td>\n",
              "      <td>Serie</td>\n",
              "      <td>2012.0</td>\n",
              "      <td>AR</td>\n",
              "      <td>Drama</td>\n",
              "      <td>Trastornos,Médicos,Tragicómica,Telenovela,Enfe...</td>\n",
              "      <td>Esteban recibe una noticia inesperada: va a se...</td>\n",
              "      <td>Esteban recibe una noticia inesperada: va a se...</td>\n",
              "      <td>Rodrigo De la Serna, Paola Krum, Fernán Mirás,...</td>\n",
              "      <td>Daniel Barone</td>\n",
              "      <td>48.0</td>\n",
              "      <td>General</td>\n",
              "      <td>N</td>\n",
              "      <td>N</td>\n",
              "      <td>N</td>\n",
              "      <td>N</td>\n",
              "      <td>N</td>\n",
              "      <td>N</td>\n",
              "      <td>N</td>\n",
              "      <td>N</td>\n",
              "      <td>N</td>\n",
              "      <td>N</td>\n",
              "      <td>2017-12-01T10:18:15.0Z</td>\n",
              "      <td>2019-01-26T06:37:18.0Z</td>\n",
              "      <td>2017-12-01T00:00:00.0Z</td>\n",
              "      <td>2020-12-01T23:59:59.0Z</td>\n",
              "      <td>2020-12-01</td>\n",
              "    </tr>\n",
              "    <tr>\n",
              "      <th>6</th>\n",
              "      <td>3619</td>\n",
              "      <td>6</td>\n",
              "      <td>T:1 Ep:04 His Dark Materials</td>\n",
              "      <td>His_Dark_Mat_T1_E04</td>\n",
              "      <td>Armour</td>\n",
              "      <td>Serie</td>\n",
              "      <td>2019.0</td>\n",
              "      <td>GB</td>\n",
              "      <td>Aventura/Fantasía</td>\n",
              "      <td>Fantasía,De Libros,Criaturas</td>\n",
              "      <td>Lyra y los giptanos llegan al norte y buscan l...</td>\n",
              "      <td>Lyra y los giptanos llegan al norte y buscan l...</td>\n",
              "      <td>Dafne Keen, Tyler Howitt, Ian Peck, Ruth Wilso...</td>\n",
              "      <td>Otto Bathurst</td>\n",
              "      <td>59.0</td>\n",
              "      <td>Juvenil</td>\n",
              "      <td>N</td>\n",
              "      <td>N</td>\n",
              "      <td>N</td>\n",
              "      <td>N</td>\n",
              "      <td>N</td>\n",
              "      <td>N</td>\n",
              "      <td>N</td>\n",
              "      <td>N</td>\n",
              "      <td>N</td>\n",
              "      <td>Y</td>\n",
              "      <td>2019-11-26T22:52:28.0Z</td>\n",
              "      <td>2019-11-26T23:06:01.0Z</td>\n",
              "      <td>2019-11-26T00:00:00.0Z</td>\n",
              "      <td>2020-12-01T23:59:00.0Z</td>\n",
              "      <td>2020-12-01</td>\n",
              "    </tr>\n",
              "    <tr>\n",
              "      <th>8</th>\n",
              "      <td>5066</td>\n",
              "      <td>6</td>\n",
              "      <td>T:1 Ep:05 His Dark Materials</td>\n",
              "      <td>His_Dark_Mat_T1_E05</td>\n",
              "      <td>The Lost Boy</td>\n",
              "      <td>Serie</td>\n",
              "      <td>2019.0</td>\n",
              "      <td>GB</td>\n",
              "      <td>Aventura/Fantasía</td>\n",
              "      <td>Fantasía,De Libros,Criaturas</td>\n",
              "      <td>El aletiómetro envía a Lyra y a Iorek por un n...</td>\n",
              "      <td>El aletiómetro envía a Lyra y a Iorek por un n...</td>\n",
              "      <td>Dafne Keen, Tyler Howitt, Ian Peck, Ruta Gedmi...</td>\n",
              "      <td>Otto Bathurst, Tom Hooper</td>\n",
              "      <td>58.0</td>\n",
              "      <td>Juvenil</td>\n",
              "      <td>N</td>\n",
              "      <td>N</td>\n",
              "      <td>N</td>\n",
              "      <td>N</td>\n",
              "      <td>N</td>\n",
              "      <td>N</td>\n",
              "      <td>N</td>\n",
              "      <td>N</td>\n",
              "      <td>N</td>\n",
              "      <td>Y</td>\n",
              "      <td>2019-12-04T12:11:57.0Z</td>\n",
              "      <td>2019-12-04T13:06:01.0Z</td>\n",
              "      <td>2019-12-03T00:00:00.0Z</td>\n",
              "      <td>2020-12-01T23:59:00.0Z</td>\n",
              "      <td>2020-12-01</td>\n",
              "    </tr>\n",
              "    <tr>\n",
              "      <th>189</th>\n",
              "      <td>33123</td>\n",
              "      <td>75</td>\n",
              "      <td>T:2 Ep:01 Se rentan cuartos</td>\n",
              "      <td>Se_rentan_cu_T2_E01</td>\n",
              "      <td>La tormenta</td>\n",
              "      <td>Serie</td>\n",
              "      <td>2020.0</td>\n",
              "      <td>MX</td>\n",
              "      <td>Comedia</td>\n",
              "      <td>Familia,Latinoamérica</td>\n",
              "      <td>En Cilantro 18 se avecina la madre de todas la...</td>\n",
              "      <td>En Cilantro 18 se avecina la madre de todas la...</td>\n",
              "      <td>Itatí Cantoral, Paco Rueda, Armando Hernández,...</td>\n",
              "      <td>Angeles Roldán</td>\n",
              "      <td>27.0</td>\n",
              "      <td>General</td>\n",
              "      <td>N</td>\n",
              "      <td>N</td>\n",
              "      <td>N</td>\n",
              "      <td>N</td>\n",
              "      <td>N</td>\n",
              "      <td>N</td>\n",
              "      <td>N</td>\n",
              "      <td>N</td>\n",
              "      <td>N</td>\n",
              "      <td>N</td>\n",
              "      <td>2020-05-26T15:59:59.0Z</td>\n",
              "      <td>2020-05-26T16:06:08.0Z</td>\n",
              "      <td>2020-04-01T00:00:00.0Z</td>\n",
              "      <td>2020-12-31T23:59:00.0Z</td>\n",
              "      <td>2020-12-31</td>\n",
              "    </tr>\n",
              "    <tr>\n",
              "      <th>190</th>\n",
              "      <td>32896</td>\n",
              "      <td>75</td>\n",
              "      <td>T:2 Ep:02 Se rentan cuartos</td>\n",
              "      <td>Se_rentan_cu_T2_E02</td>\n",
              "      <td>Cita porno</td>\n",
              "      <td>Serie</td>\n",
              "      <td>2020.0</td>\n",
              "      <td>MX</td>\n",
              "      <td>Comedia</td>\n",
              "      <td>Familia,Latinoamérica</td>\n",
              "      <td>Graciela se da la oportunidad de conocer a un ...</td>\n",
              "      <td>Graciela se da la oportunidad de conocer a un ...</td>\n",
              "      <td>Itatí Cantoral, Paco Rueda, Armando Hernández,...</td>\n",
              "      <td>Angeles Roldán</td>\n",
              "      <td>32.0</td>\n",
              "      <td>General</td>\n",
              "      <td>N</td>\n",
              "      <td>N</td>\n",
              "      <td>N</td>\n",
              "      <td>N</td>\n",
              "      <td>N</td>\n",
              "      <td>N</td>\n",
              "      <td>N</td>\n",
              "      <td>N</td>\n",
              "      <td>N</td>\n",
              "      <td>N</td>\n",
              "      <td>2020-05-26T17:00:37.0Z</td>\n",
              "      <td>2020-05-26T18:06:02.0Z</td>\n",
              "      <td>2020-05-01T00:00:00.0Z</td>\n",
              "      <td>2020-12-31T23:59:00.0Z</td>\n",
              "      <td>2020-12-31</td>\n",
              "    </tr>\n",
              "    <tr>\n",
              "      <th>...</th>\n",
              "      <td>...</td>\n",
              "      <td>...</td>\n",
              "      <td>...</td>\n",
              "      <td>...</td>\n",
              "      <td>...</td>\n",
              "      <td>...</td>\n",
              "      <td>...</td>\n",
              "      <td>...</td>\n",
              "      <td>...</td>\n",
              "      <td>...</td>\n",
              "      <td>...</td>\n",
              "      <td>...</td>\n",
              "      <td>...</td>\n",
              "      <td>...</td>\n",
              "      <td>...</td>\n",
              "      <td>...</td>\n",
              "      <td>...</td>\n",
              "      <td>...</td>\n",
              "      <td>...</td>\n",
              "      <td>...</td>\n",
              "      <td>...</td>\n",
              "      <td>...</td>\n",
              "      <td>...</td>\n",
              "      <td>...</td>\n",
              "      <td>...</td>\n",
              "      <td>...</td>\n",
              "      <td>...</td>\n",
              "      <td>...</td>\n",
              "      <td>...</td>\n",
              "      <td>...</td>\n",
              "      <td>...</td>\n",
              "    </tr>\n",
              "    <tr>\n",
              "      <th>11290</th>\n",
              "      <td>1162</td>\n",
              "      <td>1797</td>\n",
              "      <td>Ep:021 ¿Qué culpa tiene? Fatmagül</td>\n",
              "      <td>Fatmagul_E021</td>\n",
              "      <td>Episodio 21</td>\n",
              "      <td>Serie</td>\n",
              "      <td>2010.0</td>\n",
              "      <td>TR</td>\n",
              "      <td>Drama</td>\n",
              "      <td>Melodrama,De Libros</td>\n",
              "      <td>¿Quién es la mujer que está siguiendo a Fatmagül?</td>\n",
              "      <td>Fatmagül vive con su hermano en un humilde pue...</td>\n",
              "      <td>Beren Saat, Engin Akyürek, Fırat Çelik, Murat ...</td>\n",
              "      <td>NaN</td>\n",
              "      <td>71.0</td>\n",
              "      <td>Mujeres</td>\n",
              "      <td>N</td>\n",
              "      <td>N</td>\n",
              "      <td>N</td>\n",
              "      <td>N</td>\n",
              "      <td>N</td>\n",
              "      <td>N</td>\n",
              "      <td>N</td>\n",
              "      <td>N</td>\n",
              "      <td>N</td>\n",
              "      <td>N</td>\n",
              "      <td>2021-01-05T14:26:00.0Z</td>\n",
              "      <td>2021-01-05T15:06:05.0Z</td>\n",
              "      <td>2021-01-04T00:00:00.0Z</td>\n",
              "      <td>2021-03-01T23:59:00.0Z</td>\n",
              "      <td>2021-03-01</td>\n",
              "    </tr>\n",
              "    <tr>\n",
              "      <th>11291</th>\n",
              "      <td>9878</td>\n",
              "      <td>1797</td>\n",
              "      <td>Ep:022 ¿Qué culpa tiene? Fatmagül</td>\n",
              "      <td>Fatmagul_E022</td>\n",
              "      <td>Episodio 22</td>\n",
              "      <td>Serie</td>\n",
              "      <td>2010.0</td>\n",
              "      <td>TR</td>\n",
              "      <td>Drama</td>\n",
              "      <td>Melodrama,De Libros</td>\n",
              "      <td>Mukaddes intenta convencer a Fatmagül para que...</td>\n",
              "      <td>Fatmagül vive con su hermano en un humilde pue...</td>\n",
              "      <td>Beren Saat, Engin Akyürek, Fırat Çelik, Murat ...</td>\n",
              "      <td>NaN</td>\n",
              "      <td>66.0</td>\n",
              "      <td>Mujeres</td>\n",
              "      <td>N</td>\n",
              "      <td>N</td>\n",
              "      <td>N</td>\n",
              "      <td>N</td>\n",
              "      <td>N</td>\n",
              "      <td>N</td>\n",
              "      <td>N</td>\n",
              "      <td>N</td>\n",
              "      <td>N</td>\n",
              "      <td>N</td>\n",
              "      <td>2021-01-12T12:30:06.0Z</td>\n",
              "      <td>2021-01-12T13:06:01.0Z</td>\n",
              "      <td>2021-01-11T00:00:00.0Z</td>\n",
              "      <td>2021-03-01T23:59:00.0Z</td>\n",
              "      <td>2021-03-01</td>\n",
              "    </tr>\n",
              "    <tr>\n",
              "      <th>11296</th>\n",
              "      <td>31142</td>\n",
              "      <td>698</td>\n",
              "      <td>T:23 Ep:15 Viajes Pokémon</td>\n",
              "      <td>Viajes_Poke_T23_E15</td>\n",
              "      <td>¡Un día de búsqueda en la nieve!</td>\n",
              "      <td>Serie</td>\n",
              "      <td>2020.0</td>\n",
              "      <td>JP</td>\n",
              "      <td>Infantil/Animación</td>\n",
              "      <td>Criaturas,Aventuras,Fantasía,Amigos</td>\n",
              "      <td>La nieve obliga al Profesor Cerise a cerrar te...</td>\n",
              "      <td>¡Un clima nevado le da a Goh la oportunidad de...</td>\n",
              "      <td>NaN</td>\n",
              "      <td>NaN</td>\n",
              "      <td>21.0</td>\n",
              "      <td>Niños</td>\n",
              "      <td>N</td>\n",
              "      <td>N</td>\n",
              "      <td>N</td>\n",
              "      <td>N</td>\n",
              "      <td>N</td>\n",
              "      <td>N</td>\n",
              "      <td>N</td>\n",
              "      <td>N</td>\n",
              "      <td>N</td>\n",
              "      <td>N</td>\n",
              "      <td>2021-01-27T18:07:33.0Z</td>\n",
              "      <td>2021-01-27T21:06:06.0Z</td>\n",
              "      <td>2021-01-12T00:00:00.0Z</td>\n",
              "      <td>2021-03-01T23:59:00.0Z</td>\n",
              "      <td>2021-03-01</td>\n",
              "    </tr>\n",
              "    <tr>\n",
              "      <th>11323</th>\n",
              "      <td>595</td>\n",
              "      <td>176</td>\n",
              "      <td>Ep:081 Moisés</td>\n",
              "      <td>Moises_E081</td>\n",
              "      <td>Episodio 81</td>\n",
              "      <td>Serie</td>\n",
              "      <td>2015.0</td>\n",
              "      <td>BR</td>\n",
              "      <td>Drama/Romance</td>\n",
              "      <td>Religión,Biblia,Melodrama,Latinoamérica,Historia</td>\n",
              "      <td>La reina le cuenta a Yunet sobre la muerte de ...</td>\n",
              "      <td>Sigue la historia de Moisés, desde su nacimien...</td>\n",
              "      <td>Guilherme Winter, Sérgio Marone, Camila Rodrig...</td>\n",
              "      <td>Alexandre Avancini</td>\n",
              "      <td>119.0</td>\n",
              "      <td>General</td>\n",
              "      <td>N</td>\n",
              "      <td>N</td>\n",
              "      <td>N</td>\n",
              "      <td>N</td>\n",
              "      <td>N</td>\n",
              "      <td>N</td>\n",
              "      <td>N</td>\n",
              "      <td>N</td>\n",
              "      <td>N</td>\n",
              "      <td>N</td>\n",
              "      <td>2021-02-24T10:08:00.0Z</td>\n",
              "      <td>2021-02-24T11:06:06.0Z</td>\n",
              "      <td>2021-02-23T00:00:00.0Z</td>\n",
              "      <td>2021-03-01T23:59:00.0Z</td>\n",
              "      <td>2021-03-01</td>\n",
              "    </tr>\n",
              "    <tr>\n",
              "      <th>33128</th>\n",
              "      <td>19105</td>\n",
              "      <td>1216</td>\n",
              "      <td>T:6 Ep:10 Padre Brown</td>\n",
              "      <td>Padre_Brown_T6_E09</td>\n",
              "      <td>La flor de la calle</td>\n",
              "      <td>Serie</td>\n",
              "      <td>2018.0</td>\n",
              "      <td>GB</td>\n",
              "      <td>Drama/Crimen</td>\n",
              "      <td>Detectives,50s,Religión,Pueblo,Europa</td>\n",
              "      <td>Los lugareños protestan cuando el descarado Ra...</td>\n",
              "      <td>Raylan Reeve</td>\n",
              "      <td>Mark Williams, Sorcha Cusack, John Burton, Nan...</td>\n",
              "      <td>Paul Gibson</td>\n",
              "      <td>45.0</td>\n",
              "      <td>General</td>\n",
              "      <td>N</td>\n",
              "      <td>N</td>\n",
              "      <td>N</td>\n",
              "      <td>N</td>\n",
              "      <td>N</td>\n",
              "      <td>N</td>\n",
              "      <td>N</td>\n",
              "      <td>N</td>\n",
              "      <td>N</td>\n",
              "      <td>N</td>\n",
              "      <td>2021-01-20T15:57:30.0Z</td>\n",
              "      <td>2021-01-23T01:06:03.0Z</td>\n",
              "      <td>2021-01-23T00:00:00.0Z</td>\n",
              "      <td>2021-02-23T23:59:00.0Z</td>\n",
              "      <td>2021-02-23</td>\n",
              "    </tr>\n",
              "  </tbody>\n",
              "</table>\n",
              "<p>2216 rows × 31 columns</p>\n",
              "</div>\n",
              "      <button class=\"colab-df-convert\" onclick=\"convertToInteractive('df-ef4c5ba1-5bbf-4667-86ac-fcbfc81c2ef5')\"\n",
              "              title=\"Convert this dataframe to an interactive table.\"\n",
              "              style=\"display:none;\">\n",
              "        \n",
              "  <svg xmlns=\"http://www.w3.org/2000/svg\" height=\"24px\"viewBox=\"0 0 24 24\"\n",
              "       width=\"24px\">\n",
              "    <path d=\"M0 0h24v24H0V0z\" fill=\"none\"/>\n",
              "    <path d=\"M18.56 5.44l.94 2.06.94-2.06 2.06-.94-2.06-.94-.94-2.06-.94 2.06-2.06.94zm-11 1L8.5 8.5l.94-2.06 2.06-.94-2.06-.94L8.5 2.5l-.94 2.06-2.06.94zm10 10l.94 2.06.94-2.06 2.06-.94-2.06-.94-.94-2.06-.94 2.06-2.06.94z\"/><path d=\"M17.41 7.96l-1.37-1.37c-.4-.4-.92-.59-1.43-.59-.52 0-1.04.2-1.43.59L10.3 9.45l-7.72 7.72c-.78.78-.78 2.05 0 2.83L4 21.41c.39.39.9.59 1.41.59.51 0 1.02-.2 1.41-.59l7.78-7.78 2.81-2.81c.8-.78.8-2.07 0-2.86zM5.41 20L4 18.59l7.72-7.72 1.47 1.35L5.41 20z\"/>\n",
              "  </svg>\n",
              "      </button>\n",
              "      \n",
              "  <style>\n",
              "    .colab-df-container {\n",
              "      display:flex;\n",
              "      flex-wrap:wrap;\n",
              "      gap: 12px;\n",
              "    }\n",
              "\n",
              "    .colab-df-convert {\n",
              "      background-color: #E8F0FE;\n",
              "      border: none;\n",
              "      border-radius: 50%;\n",
              "      cursor: pointer;\n",
              "      display: none;\n",
              "      fill: #1967D2;\n",
              "      height: 32px;\n",
              "      padding: 0 0 0 0;\n",
              "      width: 32px;\n",
              "    }\n",
              "\n",
              "    .colab-df-convert:hover {\n",
              "      background-color: #E2EBFA;\n",
              "      box-shadow: 0px 1px 2px rgba(60, 64, 67, 0.3), 0px 1px 3px 1px rgba(60, 64, 67, 0.15);\n",
              "      fill: #174EA6;\n",
              "    }\n",
              "\n",
              "    [theme=dark] .colab-df-convert {\n",
              "      background-color: #3B4455;\n",
              "      fill: #D2E3FC;\n",
              "    }\n",
              "\n",
              "    [theme=dark] .colab-df-convert:hover {\n",
              "      background-color: #434B5C;\n",
              "      box-shadow: 0px 1px 3px 1px rgba(0, 0, 0, 0.15);\n",
              "      filter: drop-shadow(0px 1px 2px rgba(0, 0, 0, 0.3));\n",
              "      fill: #FFFFFF;\n",
              "    }\n",
              "  </style>\n",
              "\n",
              "      <script>\n",
              "        const buttonEl =\n",
              "          document.querySelector('#df-ef4c5ba1-5bbf-4667-86ac-fcbfc81c2ef5 button.colab-df-convert');\n",
              "        buttonEl.style.display =\n",
              "          google.colab.kernel.accessAllowed ? 'block' : 'none';\n",
              "\n",
              "        async function convertToInteractive(key) {\n",
              "          const element = document.querySelector('#df-ef4c5ba1-5bbf-4667-86ac-fcbfc81c2ef5');\n",
              "          const dataTable =\n",
              "            await google.colab.kernel.invokeFunction('convertToInteractive',\n",
              "                                                     [key], {});\n",
              "          if (!dataTable) return;\n",
              "\n",
              "          const docLinkHtml = 'Like what you see? Visit the ' +\n",
              "            '<a target=\"_blank\" href=https://colab.research.google.com/notebooks/data_table.ipynb>data table notebook</a>'\n",
              "            + ' to learn more about interactive tables.';\n",
              "          element.innerHTML = '';\n",
              "          dataTable['output_type'] = 'display_data';\n",
              "          await google.colab.output.renderOutput(dataTable, element);\n",
              "          const docLink = document.createElement('div');\n",
              "          docLink.innerHTML = docLinkHtml;\n",
              "          element.appendChild(docLink);\n",
              "        }\n",
              "      </script>\n",
              "    </div>\n",
              "  </div>\n",
              "  "
            ],
            "text/plain": [
              "       asset_id content_id  ...            end_vod_date   finserie\n",
              "0         15188          0  ...  2020-12-01T23:59:59.0Z 2020-12-01\n",
              "6          3619          6  ...  2020-12-01T23:59:00.0Z 2020-12-01\n",
              "8          5066          6  ...  2020-12-01T23:59:00.0Z 2020-12-01\n",
              "189       33123         75  ...  2020-12-31T23:59:00.0Z 2020-12-31\n",
              "190       32896         75  ...  2020-12-31T23:59:00.0Z 2020-12-31\n",
              "...         ...        ...  ...                     ...        ...\n",
              "11290      1162       1797  ...  2021-03-01T23:59:00.0Z 2021-03-01\n",
              "11291      9878       1797  ...  2021-03-01T23:59:00.0Z 2021-03-01\n",
              "11296     31142        698  ...  2021-03-01T23:59:00.0Z 2021-03-01\n",
              "11323       595        176  ...  2021-03-01T23:59:00.0Z 2021-03-01\n",
              "33128     19105       1216  ...  2021-02-23T23:59:00.0Z 2021-02-23\n",
              "\n",
              "[2216 rows x 31 columns]"
            ]
          },
          "metadata": {},
          "execution_count": 36
        }
      ],
      "source": [
        "meta.loc[(meta.finserie <= datetime(year=2021, month=3, day=1))&(meta.show_type=='Serie')]"
      ]
    },
    {
      "cell_type": "code",
      "execution_count": null,
      "metadata": {
        "colab": {
          "base_uri": "https://localhost:8080/"
        },
        "id": "UuYvtvJvUxfO",
        "outputId": "7313c3d9-b998-418d-f587-0abf94a59c15"
      },
      "outputs": [
        {
          "output_type": "execute_result",
          "data": {
            "text/plain": [
              "10713"
            ]
          },
          "metadata": {},
          "execution_count": 37
        }
      ],
      "source": [
        "meta.loc[(meta.finserie <= datetime(year=2021, month=3, day=1))].asset_id.nunique() # Se elige el mes 3 porque se entiende que no van  a estar para cuando el sist de recomendacion este en funcionamiento "
      ]
    },
    {
      "cell_type": "code",
      "execution_count": null,
      "metadata": {
        "id": "IvhA5b6hWNuK"
      },
      "outputs": [],
      "source": [
        "debaja=meta.loc[(meta.finserie <= datetime(year=2021, month=3, day=1))].asset_id.unique()# se ve que son muchas peliculas/series que quedan afuera casi la mitad"
      ]
    },
    {
      "cell_type": "code",
      "execution_count": null,
      "metadata": {
        "id": "x85Xx3XsbiI0"
      },
      "outputs": [],
      "source": [
        "debaja2=meta.loc[(meta.finserie <= datetime(year=2021, month=3, day=1))].index"
      ]
    },
    {
      "cell_type": "code",
      "execution_count": null,
      "metadata": {
        "id": "HogQQ_LsZEUR"
      },
      "outputs": [],
      "source": [
        "debajaind=train.loc[train.asset_id.isin(debaja)].index"
      ]
    },
    {
      "cell_type": "code",
      "execution_count": null,
      "metadata": {
        "id": "8MpwRnRCblWj"
      },
      "outputs": [],
      "source": [
        "meta=meta.drop(debaja2)"
      ]
    },
    {
      "cell_type": "code",
      "execution_count": null,
      "metadata": {
        "id": "SqosfqAHZgkp"
      },
      "outputs": [],
      "source": [
        "train=train.drop(debajaind)#se elimeninan las filas con dichas peliculas/series pasando de 3.600.000 a 3.300.000"
      ]
    },
    {
      "cell_type": "markdown",
      "metadata": {
        "id": "tr1AhIX_Yuoi"
      },
      "source": [
        "## Evaluación de content_id con relación a series. "
      ]
    },
    {
      "cell_type": "code",
      "execution_count": null,
      "metadata": {
        "colab": {
          "base_uri": "https://localhost:8080/"
        },
        "id": "MR3DoQKEi9RF",
        "outputId": "39acba6d-bfab-496a-d7f8-4ff12623948b"
      },
      "outputs": [
        {
          "output_type": "execute_result",
          "data": {
            "text/plain": [
              "3492"
            ]
          },
          "metadata": {},
          "execution_count": 43
        }
      ],
      "source": [
        "meta.content_id.nunique()"
      ]
    },
    {
      "cell_type": "code",
      "execution_count": null,
      "metadata": {
        "colab": {
          "base_uri": "https://localhost:8080/"
        },
        "id": "65656yGujZBl",
        "outputId": "ceb57885-0901-44e4-f98d-c589438bbf3d"
      },
      "outputs": [
        {
          "output_type": "execute_result",
          "data": {
            "text/plain": [
              "array(['Película', 'TV', 'Serie', 'Gaming', 'Web', 'Rolling',\n",
              "       'Series,Serie'], dtype=object)"
            ]
          },
          "metadata": {},
          "execution_count": 44
        }
      ],
      "source": [
        "meta.show_type.unique()"
      ]
    },
    {
      "cell_type": "code",
      "execution_count": null,
      "metadata": {
        "colab": {
          "base_uri": "https://localhost:8080/"
        },
        "id": "4bobBS4Tjhal",
        "outputId": "acfdbdff-d10f-4165-c29d-552100a563bf"
      },
      "outputs": [
        {
          "output_type": "stream",
          "name": "stdout",
          "text": [
            "En Película hay: 2806 asset_id\n",
            "En Película hay: 2466 content_id\n",
            "Relación A/C:1.137875101378751\n",
            "\n",
            "En TV hay: 9454 asset_id\n",
            "En TV hay: 549 content_id\n",
            "Relación A/C:17.22040072859745\n",
            "\n",
            "En Serie hay: 8689 asset_id\n",
            "En Serie hay: 383 content_id\n",
            "Relación A/C:22.68668407310705\n",
            "\n",
            "En Gaming hay: 534 asset_id\n",
            "En Gaming hay: 32 content_id\n",
            "Relación A/C:16.6875\n",
            "\n",
            "En Web hay: 789 asset_id\n",
            "En Web hay: 67 content_id\n",
            "Relación A/C:11.776119402985074\n",
            "\n",
            "En Rolling hay: 136 asset_id\n",
            "En Rolling hay: 7 content_id\n",
            "Relación A/C:19.428571428571427\n",
            "\n",
            "En Series,Serie hay: 2 asset_id\n",
            "En Series,Serie hay: 1 content_id\n",
            "Relación A/C:2.0\n",
            "\n"
          ]
        }
      ],
      "source": [
        "for x in meta.show_type.unique():\n",
        "  print(f'En {x} hay: {meta.loc[(meta.show_type==x)].asset_id.nunique()} asset_id')\n",
        "  print(f'En {x} hay: {meta.loc[(meta.show_type==x)].content_id.nunique()} content_id')\n",
        "  print(f'Relación A/C:{meta.loc[(meta.show_type==x)].asset_id.nunique()/meta.loc[(meta.show_type==x)].content_id.nunique()}\\n')"
      ]
    },
    {
      "cell_type": "code",
      "execution_count": null,
      "metadata": {
        "colab": {
          "base_uri": "https://localhost:8080/",
          "height": 1000
        },
        "id": "bj7iyRU6Wsk5",
        "outputId": "2fe51e86-a506-4a23-843c-634938fdabec"
      },
      "outputs": [
        {
          "output_type": "execute_result",
          "data": {
            "text/html": [
              "\n",
              "  <div id=\"df-ad8979aa-2196-4475-93dc-7be5e9bd9f05\">\n",
              "    <div class=\"colab-df-container\">\n",
              "      <div>\n",
              "<style scoped>\n",
              "    .dataframe tbody tr th:only-of-type {\n",
              "        vertical-align: middle;\n",
              "    }\n",
              "\n",
              "    .dataframe tbody tr th {\n",
              "        vertical-align: top;\n",
              "    }\n",
              "\n",
              "    .dataframe thead th {\n",
              "        text-align: right;\n",
              "    }\n",
              "</style>\n",
              "<table border=\"1\" class=\"dataframe\">\n",
              "  <thead>\n",
              "    <tr style=\"text-align: right;\">\n",
              "      <th></th>\n",
              "      <th>asset_id</th>\n",
              "      <th>content_id</th>\n",
              "      <th>title</th>\n",
              "      <th>reduced_title</th>\n",
              "      <th>episode_title</th>\n",
              "      <th>show_type</th>\n",
              "      <th>released_year</th>\n",
              "      <th>country_of_origin</th>\n",
              "      <th>category</th>\n",
              "      <th>keywords</th>\n",
              "      <th>description</th>\n",
              "      <th>reduced_desc</th>\n",
              "      <th>cast_first_name</th>\n",
              "      <th>credits_first_name</th>\n",
              "      <th>run_time_min</th>\n",
              "      <th>audience</th>\n",
              "      <th>made_for_tv</th>\n",
              "      <th>close_caption</th>\n",
              "      <th>sex_rating</th>\n",
              "      <th>violence_rating</th>\n",
              "      <th>language_rating</th>\n",
              "      <th>dialog_rating</th>\n",
              "      <th>fv_rating</th>\n",
              "      <th>pay_per_view</th>\n",
              "      <th>pack_premium_1</th>\n",
              "      <th>pack_premium_2</th>\n",
              "      <th>create_date</th>\n",
              "      <th>modify_date</th>\n",
              "      <th>start_vod_date</th>\n",
              "      <th>end_vod_date</th>\n",
              "      <th>finserie</th>\n",
              "    </tr>\n",
              "  </thead>\n",
              "  <tbody>\n",
              "    <tr>\n",
              "      <th>5</th>\n",
              "      <td>17760</td>\n",
              "      <td>5</td>\n",
              "      <td>T:2 Ep:06 Gaycation</td>\n",
              "      <td>Gaycation_T2_E06</td>\n",
              "      <td>United we stand</td>\n",
              "      <td>TV</td>\n",
              "      <td>2017.0</td>\n",
              "      <td>US</td>\n",
              "      <td>Documental/Cultura</td>\n",
              "      <td>LGBT,Sociedad,Cultura,Feminismo</td>\n",
              "      <td>En esta presentación especial de Gaycation, El...</td>\n",
              "      <td>En esta presentación especial de Gaycation, El...</td>\n",
              "      <td>Ellen Page, Ian Daniel</td>\n",
              "      <td>Niharika Desai</td>\n",
              "      <td>44.0</td>\n",
              "      <td>Juvenil</td>\n",
              "      <td>N</td>\n",
              "      <td>N</td>\n",
              "      <td>N</td>\n",
              "      <td>N</td>\n",
              "      <td>N</td>\n",
              "      <td>N</td>\n",
              "      <td>N</td>\n",
              "      <td>N</td>\n",
              "      <td>N</td>\n",
              "      <td>N</td>\n",
              "      <td>2019-06-27T14:20:42.0Z</td>\n",
              "      <td>2019-11-02T03:16:48.0Z</td>\n",
              "      <td>2019-06-27T00:00:00.0Z</td>\n",
              "      <td>2021-07-27T23:59:59.0Z</td>\n",
              "      <td>2021-07-27</td>\n",
              "    </tr>\n",
              "    <tr>\n",
              "      <th>145</th>\n",
              "      <td>31393</td>\n",
              "      <td>39</td>\n",
              "      <td>09/01 - Sportia</td>\n",
              "      <td>Sportia_01-09</td>\n",
              "      <td>1 Septiembre 2020</td>\n",
              "      <td>TV</td>\n",
              "      <td>2020.0</td>\n",
              "      <td>AR</td>\n",
              "      <td>Interés General/Deporte</td>\n",
              "      <td>Fútbol,Periodístico Deportivo</td>\n",
              "      <td>El noticiero de TyC Sports con toda la informa...</td>\n",
              "      <td>El noticiero de TyC Sports con toda la informa...</td>\n",
              "      <td>Cristian Garofalo, Juan Martín Rinaldi, María ...</td>\n",
              "      <td>NaN</td>\n",
              "      <td>149.0</td>\n",
              "      <td>Hombres</td>\n",
              "      <td>N</td>\n",
              "      <td>N</td>\n",
              "      <td>N</td>\n",
              "      <td>N</td>\n",
              "      <td>N</td>\n",
              "      <td>N</td>\n",
              "      <td>N</td>\n",
              "      <td>N</td>\n",
              "      <td>N</td>\n",
              "      <td>N</td>\n",
              "      <td>2020-09-02T19:07:28.0Z</td>\n",
              "      <td>2020-09-02T20:06:02.0Z</td>\n",
              "      <td>2020-09-02T00:00:00.0Z</td>\n",
              "      <td>2021-09-16T23:59:00.0Z</td>\n",
              "      <td>2021-09-16</td>\n",
              "    </tr>\n",
              "    <tr>\n",
              "      <th>151</th>\n",
              "      <td>24801</td>\n",
              "      <td>39</td>\n",
              "      <td>09/02 - Sportia</td>\n",
              "      <td>Sportia_02-09</td>\n",
              "      <td>2 Septiembre 2020</td>\n",
              "      <td>TV</td>\n",
              "      <td>2020.0</td>\n",
              "      <td>AR</td>\n",
              "      <td>Interés General/Deporte</td>\n",
              "      <td>Fútbol,Periodístico Deportivo</td>\n",
              "      <td>El noticiero de TyC Sports con toda la informa...</td>\n",
              "      <td>El noticiero de TyC Sports con toda la informa...</td>\n",
              "      <td>Cristian Garofalo, Juan Martín Rinaldi, María ...</td>\n",
              "      <td>NaN</td>\n",
              "      <td>149.0</td>\n",
              "      <td>Hombres</td>\n",
              "      <td>N</td>\n",
              "      <td>N</td>\n",
              "      <td>N</td>\n",
              "      <td>N</td>\n",
              "      <td>N</td>\n",
              "      <td>N</td>\n",
              "      <td>N</td>\n",
              "      <td>N</td>\n",
              "      <td>N</td>\n",
              "      <td>N</td>\n",
              "      <td>2020-09-03T17:50:59.0Z</td>\n",
              "      <td>2020-09-03T18:06:04.0Z</td>\n",
              "      <td>2020-09-03T00:00:00.0Z</td>\n",
              "      <td>2021-09-17T23:59:00.0Z</td>\n",
              "      <td>2021-09-17</td>\n",
              "    </tr>\n",
              "    <tr>\n",
              "      <th>184</th>\n",
              "      <td>16417</td>\n",
              "      <td>72</td>\n",
              "      <td>11/27 - Te Quiero Diego</td>\n",
              "      <td>Te_Quiero_D_27-11</td>\n",
              "      <td>27 Noviembre 2020</td>\n",
              "      <td>TV</td>\n",
              "      <td>2020.0</td>\n",
              "      <td>AR</td>\n",
              "      <td>Magazine/Biografía</td>\n",
              "      <td>Actualidad,Celebridades,Biografía,Fútbol,Marad...</td>\n",
              "      <td>Un programa especial en vivo con un repaso por...</td>\n",
              "      <td>Un programa especial con un repaso por los mej...</td>\n",
              "      <td>Diego Armando Maradona</td>\n",
              "      <td>NaN</td>\n",
              "      <td>75.0</td>\n",
              "      <td>General</td>\n",
              "      <td>N</td>\n",
              "      <td>N</td>\n",
              "      <td>N</td>\n",
              "      <td>N</td>\n",
              "      <td>N</td>\n",
              "      <td>N</td>\n",
              "      <td>N</td>\n",
              "      <td>N</td>\n",
              "      <td>N</td>\n",
              "      <td>N</td>\n",
              "      <td>2020-11-28T23:14:01.0Z</td>\n",
              "      <td>2020-11-29T00:06:14.0Z</td>\n",
              "      <td>2020-11-28T00:00:00.0Z</td>\n",
              "      <td>2021-05-27T23:59:00.0Z</td>\n",
              "      <td>2021-05-27</td>\n",
              "    </tr>\n",
              "    <tr>\n",
              "      <th>261</th>\n",
              "      <td>5344</td>\n",
              "      <td>89</td>\n",
              "      <td>T:1 Ep:01 Guille Aquino - Manijomio</td>\n",
              "      <td>Guille_Aquin_T1_E01</td>\n",
              "      <td>Lo Mejor del Sketch Vol. 1</td>\n",
              "      <td>Serie</td>\n",
              "      <td>2020.0</td>\n",
              "      <td>AR</td>\n",
              "      <td>Comedia</td>\n",
              "      <td>Política,Actualidad,Humor Negro,Parodia,Tragic...</td>\n",
              "      <td>Guille Aquino le juega la revancha al 2020 y n...</td>\n",
              "      <td>Guille Aquino le juega la revancha al 2020 y n...</td>\n",
              "      <td>Guille Aquino</td>\n",
              "      <td>NaN</td>\n",
              "      <td>28.0</td>\n",
              "      <td>Juvenil</td>\n",
              "      <td>N</td>\n",
              "      <td>N</td>\n",
              "      <td>N</td>\n",
              "      <td>N</td>\n",
              "      <td>N</td>\n",
              "      <td>N</td>\n",
              "      <td>N</td>\n",
              "      <td>N</td>\n",
              "      <td>N</td>\n",
              "      <td>N</td>\n",
              "      <td>2020-11-28T21:17:29.0Z</td>\n",
              "      <td>2020-11-28T23:06:07.0Z</td>\n",
              "      <td>2020-11-27T00:00:00.0Z</td>\n",
              "      <td>2023-11-27T23:59:00.0Z</td>\n",
              "      <td>2023-11-27</td>\n",
              "    </tr>\n",
              "    <tr>\n",
              "      <th>...</th>\n",
              "      <td>...</td>\n",
              "      <td>...</td>\n",
              "      <td>...</td>\n",
              "      <td>...</td>\n",
              "      <td>...</td>\n",
              "      <td>...</td>\n",
              "      <td>...</td>\n",
              "      <td>...</td>\n",
              "      <td>...</td>\n",
              "      <td>...</td>\n",
              "      <td>...</td>\n",
              "      <td>...</td>\n",
              "      <td>...</td>\n",
              "      <td>...</td>\n",
              "      <td>...</td>\n",
              "      <td>...</td>\n",
              "      <td>...</td>\n",
              "      <td>...</td>\n",
              "      <td>...</td>\n",
              "      <td>...</td>\n",
              "      <td>...</td>\n",
              "      <td>...</td>\n",
              "      <td>...</td>\n",
              "      <td>...</td>\n",
              "      <td>...</td>\n",
              "      <td>...</td>\n",
              "      <td>...</td>\n",
              "      <td>...</td>\n",
              "      <td>...</td>\n",
              "      <td>...</td>\n",
              "      <td>...</td>\n",
              "    </tr>\n",
              "    <tr>\n",
              "      <th>33136</th>\n",
              "      <td>9095</td>\n",
              "      <td>1979</td>\n",
              "      <td>T:1 Ep:02 Allen V. Farrow</td>\n",
              "      <td>Allen_V_Far_T1_E02</td>\n",
              "      <td>Episodio 2</td>\n",
              "      <td>Serie</td>\n",
              "      <td>2021.0</td>\n",
              "      <td>US</td>\n",
              "      <td>Drama/Documental</td>\n",
              "      <td>Abusos,Familia,Juicio,Hechos Reales,Miniserie</td>\n",
              "      <td>Mientras Mía y Woody ascienden como pareja en ...</td>\n",
              "      <td>Surgen revelaciones sobre la relación de Allen...</td>\n",
              "      <td>Mia Farrow, Woody Allen, Dylan Farrow, Ronan F...</td>\n",
              "      <td>Dick Kirby</td>\n",
              "      <td>62.0</td>\n",
              "      <td>General</td>\n",
              "      <td>N</td>\n",
              "      <td>N</td>\n",
              "      <td>N</td>\n",
              "      <td>N</td>\n",
              "      <td>N</td>\n",
              "      <td>N</td>\n",
              "      <td>N</td>\n",
              "      <td>N</td>\n",
              "      <td>N</td>\n",
              "      <td>Y</td>\n",
              "      <td>2021-03-28T23:38:23.0Z</td>\n",
              "      <td>2021-03-29T00:06:05.0Z</td>\n",
              "      <td>2021-02-28T00:00:00.0Z</td>\n",
              "      <td>2021-11-20T23:59:00.0Z</td>\n",
              "      <td>2021-11-20</td>\n",
              "    </tr>\n",
              "    <tr>\n",
              "      <th>33139</th>\n",
              "      <td>3683</td>\n",
              "      <td>1979</td>\n",
              "      <td>T:1 Ep:03 Allen V. Farrow</td>\n",
              "      <td>Allen_V_Far_T1_E03</td>\n",
              "      <td>Episodio 3</td>\n",
              "      <td>Serie</td>\n",
              "      <td>2021.0</td>\n",
              "      <td>US</td>\n",
              "      <td>Drama/Documental</td>\n",
              "      <td>Abusos,Familia,Juicio,Hechos Reales,Miniserie</td>\n",
              "      <td>Mientras Mia intenta proteger a Dylan del trau...</td>\n",
              "      <td>El equipo legal y de relaciones públicas de Al...</td>\n",
              "      <td>Mia Farrow, Woody Allen, Dylan Farrow, Ronan F...</td>\n",
              "      <td>Dick Kirby</td>\n",
              "      <td>64.0</td>\n",
              "      <td>General</td>\n",
              "      <td>N</td>\n",
              "      <td>N</td>\n",
              "      <td>N</td>\n",
              "      <td>N</td>\n",
              "      <td>N</td>\n",
              "      <td>N</td>\n",
              "      <td>N</td>\n",
              "      <td>N</td>\n",
              "      <td>N</td>\n",
              "      <td>Y</td>\n",
              "      <td>2021-03-28T23:39:28.0Z</td>\n",
              "      <td>2021-03-29T00:06:09.0Z</td>\n",
              "      <td>2021-03-07T00:00:00.0Z</td>\n",
              "      <td>2021-11-20T23:59:00.0Z</td>\n",
              "      <td>2021-11-20</td>\n",
              "    </tr>\n",
              "    <tr>\n",
              "      <th>33140</th>\n",
              "      <td>16810</td>\n",
              "      <td>1979</td>\n",
              "      <td>T:1 Ep:01 Allen V. Farrow</td>\n",
              "      <td>Allen_V_Far_T1_E01</td>\n",
              "      <td>Episodio 1</td>\n",
              "      <td>Serie</td>\n",
              "      <td>2021.0</td>\n",
              "      <td>US</td>\n",
              "      <td>Drama/Documental</td>\n",
              "      <td>Abusos,Familia,Juicio,Hechos Reales,Miniserie</td>\n",
              "      <td>Mia Farrow habla sobre su relación con Woody A...</td>\n",
              "      <td>Mia Farrow habla sobre su relación con Woody A...</td>\n",
              "      <td>Mia Farrow, Woody Allen, Dylan Farrow, Ronan F...</td>\n",
              "      <td>Dick Kirby</td>\n",
              "      <td>56.0</td>\n",
              "      <td>General</td>\n",
              "      <td>N</td>\n",
              "      <td>N</td>\n",
              "      <td>N</td>\n",
              "      <td>N</td>\n",
              "      <td>N</td>\n",
              "      <td>N</td>\n",
              "      <td>N</td>\n",
              "      <td>N</td>\n",
              "      <td>N</td>\n",
              "      <td>Y</td>\n",
              "      <td>2021-03-28T23:37:17.0Z</td>\n",
              "      <td>2021-03-29T00:06:01.0Z</td>\n",
              "      <td>2021-02-21T00:00:00.0Z</td>\n",
              "      <td>2021-11-20T23:59:00.0Z</td>\n",
              "      <td>2021-11-20</td>\n",
              "    </tr>\n",
              "    <tr>\n",
              "      <th>33141</th>\n",
              "      <td>20468</td>\n",
              "      <td>943</td>\n",
              "      <td>T:2 Ep:34 Programa De Talentos</td>\n",
              "      <td>Prog_De_Tal_T2_E34</td>\n",
              "      <td>El antagonista</td>\n",
              "      <td>TV</td>\n",
              "      <td>2011.0</td>\n",
              "      <td>US</td>\n",
              "      <td>Infantil/Comedia</td>\n",
              "      <td>Instituto,Amigos,Música</td>\n",
              "      <td>Fletcher crea una animación en la que parodia ...</td>\n",
              "      <td>Tres amigos acaban de convertirse en los nuevo...</td>\n",
              "      <td>Gülru arruinó el nuevo diseño de Gulfem.</td>\n",
              "      <td>Dan Signer</td>\n",
              "      <td>24.0</td>\n",
              "      <td>Teens</td>\n",
              "      <td>N</td>\n",
              "      <td>N</td>\n",
              "      <td>N</td>\n",
              "      <td>N</td>\n",
              "      <td>N</td>\n",
              "      <td>N</td>\n",
              "      <td>N</td>\n",
              "      <td>N</td>\n",
              "      <td>N</td>\n",
              "      <td>N</td>\n",
              "      <td>2021-02-23T10:57:32.0Z</td>\n",
              "      <td>2021-02-24T20:22:16.0Z</td>\n",
              "      <td>2021-02-17T00:00:00.0Z</td>\n",
              "      <td>2021-03-19T23:59:59.0Z</td>\n",
              "      <td>2021-03-19</td>\n",
              "    </tr>\n",
              "    <tr>\n",
              "      <th>33142</th>\n",
              "      <td>3779</td>\n",
              "      <td>1957</td>\n",
              "      <td>T:2 Ep:05 Batwoman</td>\n",
              "      <td>Batwoman_T2_E05</td>\n",
              "      <td>Gore sobre lienzo</td>\n",
              "      <td>Serie</td>\n",
              "      <td>2021.0</td>\n",
              "      <td>US</td>\n",
              "      <td>Acción/Aventura</td>\n",
              "      <td>DC Comics,Superhéroes,Mujeres,Comics</td>\n",
              "      <td>La tensión aumenta en el equipo cuando Luke y ...</td>\n",
              "      <td>La tensión aumenta en el equipo cuando Luke y ...</td>\n",
              "      <td>Javicia Leslie, Rachel Skarsten, Meagan Tandy,...</td>\n",
              "      <td>Holly Dale</td>\n",
              "      <td>42.0</td>\n",
              "      <td>General</td>\n",
              "      <td>N</td>\n",
              "      <td>N</td>\n",
              "      <td>N</td>\n",
              "      <td>N</td>\n",
              "      <td>N</td>\n",
              "      <td>N</td>\n",
              "      <td>N</td>\n",
              "      <td>N</td>\n",
              "      <td>N</td>\n",
              "      <td>Y</td>\n",
              "      <td>2021-03-26T09:49:52.0Z</td>\n",
              "      <td>2021-03-26T10:06:04.0Z</td>\n",
              "      <td>2021-02-26T00:00:00.0Z</td>\n",
              "      <td>2024-01-28T23:59:00.0Z</td>\n",
              "      <td>2024-01-28</td>\n",
              "    </tr>\n",
              "  </tbody>\n",
              "</table>\n",
              "<p>18145 rows × 31 columns</p>\n",
              "</div>\n",
              "      <button class=\"colab-df-convert\" onclick=\"convertToInteractive('df-ad8979aa-2196-4475-93dc-7be5e9bd9f05')\"\n",
              "              title=\"Convert this dataframe to an interactive table.\"\n",
              "              style=\"display:none;\">\n",
              "        \n",
              "  <svg xmlns=\"http://www.w3.org/2000/svg\" height=\"24px\"viewBox=\"0 0 24 24\"\n",
              "       width=\"24px\">\n",
              "    <path d=\"M0 0h24v24H0V0z\" fill=\"none\"/>\n",
              "    <path d=\"M18.56 5.44l.94 2.06.94-2.06 2.06-.94-2.06-.94-.94-2.06-.94 2.06-2.06.94zm-11 1L8.5 8.5l.94-2.06 2.06-.94-2.06-.94L8.5 2.5l-.94 2.06-2.06.94zm10 10l.94 2.06.94-2.06 2.06-.94-2.06-.94-.94-2.06-.94 2.06-2.06.94z\"/><path d=\"M17.41 7.96l-1.37-1.37c-.4-.4-.92-.59-1.43-.59-.52 0-1.04.2-1.43.59L10.3 9.45l-7.72 7.72c-.78.78-.78 2.05 0 2.83L4 21.41c.39.39.9.59 1.41.59.51 0 1.02-.2 1.41-.59l7.78-7.78 2.81-2.81c.8-.78.8-2.07 0-2.86zM5.41 20L4 18.59l7.72-7.72 1.47 1.35L5.41 20z\"/>\n",
              "  </svg>\n",
              "      </button>\n",
              "      \n",
              "  <style>\n",
              "    .colab-df-container {\n",
              "      display:flex;\n",
              "      flex-wrap:wrap;\n",
              "      gap: 12px;\n",
              "    }\n",
              "\n",
              "    .colab-df-convert {\n",
              "      background-color: #E8F0FE;\n",
              "      border: none;\n",
              "      border-radius: 50%;\n",
              "      cursor: pointer;\n",
              "      display: none;\n",
              "      fill: #1967D2;\n",
              "      height: 32px;\n",
              "      padding: 0 0 0 0;\n",
              "      width: 32px;\n",
              "    }\n",
              "\n",
              "    .colab-df-convert:hover {\n",
              "      background-color: #E2EBFA;\n",
              "      box-shadow: 0px 1px 2px rgba(60, 64, 67, 0.3), 0px 1px 3px 1px rgba(60, 64, 67, 0.15);\n",
              "      fill: #174EA6;\n",
              "    }\n",
              "\n",
              "    [theme=dark] .colab-df-convert {\n",
              "      background-color: #3B4455;\n",
              "      fill: #D2E3FC;\n",
              "    }\n",
              "\n",
              "    [theme=dark] .colab-df-convert:hover {\n",
              "      background-color: #434B5C;\n",
              "      box-shadow: 0px 1px 3px 1px rgba(0, 0, 0, 0.15);\n",
              "      filter: drop-shadow(0px 1px 2px rgba(0, 0, 0, 0.3));\n",
              "      fill: #FFFFFF;\n",
              "    }\n",
              "  </style>\n",
              "\n",
              "      <script>\n",
              "        const buttonEl =\n",
              "          document.querySelector('#df-ad8979aa-2196-4475-93dc-7be5e9bd9f05 button.colab-df-convert');\n",
              "        buttonEl.style.display =\n",
              "          google.colab.kernel.accessAllowed ? 'block' : 'none';\n",
              "\n",
              "        async function convertToInteractive(key) {\n",
              "          const element = document.querySelector('#df-ad8979aa-2196-4475-93dc-7be5e9bd9f05');\n",
              "          const dataTable =\n",
              "            await google.colab.kernel.invokeFunction('convertToInteractive',\n",
              "                                                     [key], {});\n",
              "          if (!dataTable) return;\n",
              "\n",
              "          const docLinkHtml = 'Like what you see? Visit the ' +\n",
              "            '<a target=\"_blank\" href=https://colab.research.google.com/notebooks/data_table.ipynb>data table notebook</a>'\n",
              "            + ' to learn more about interactive tables.';\n",
              "          element.innerHTML = '';\n",
              "          dataTable['output_type'] = 'display_data';\n",
              "          await google.colab.output.renderOutput(dataTable, element);\n",
              "          const docLink = document.createElement('div');\n",
              "          docLink.innerHTML = docLinkHtml;\n",
              "          element.appendChild(docLink);\n",
              "        }\n",
              "      </script>\n",
              "    </div>\n",
              "  </div>\n",
              "  "
            ],
            "text/plain": [
              "       asset_id content_id  ...            end_vod_date   finserie\n",
              "5         17760          5  ...  2021-07-27T23:59:59.0Z 2021-07-27\n",
              "145       31393         39  ...  2021-09-16T23:59:00.0Z 2021-09-16\n",
              "151       24801         39  ...  2021-09-17T23:59:00.0Z 2021-09-17\n",
              "184       16417         72  ...  2021-05-27T23:59:00.0Z 2021-05-27\n",
              "261        5344         89  ...  2023-11-27T23:59:00.0Z 2023-11-27\n",
              "...         ...        ...  ...                     ...        ...\n",
              "33136      9095       1979  ...  2021-11-20T23:59:00.0Z 2021-11-20\n",
              "33139      3683       1979  ...  2021-11-20T23:59:00.0Z 2021-11-20\n",
              "33140     16810       1979  ...  2021-11-20T23:59:00.0Z 2021-11-20\n",
              "33141     20468        943  ...  2021-03-19T23:59:59.0Z 2021-03-19\n",
              "33142      3779       1957  ...  2024-01-28T23:59:00.0Z 2024-01-28\n",
              "\n",
              "[18145 rows x 31 columns]"
            ]
          },
          "metadata": {},
          "execution_count": 46
        }
      ],
      "source": [
        "meta.loc[(meta.show_type=='Serie')|(meta.show_type=='TV')|(meta.show_type=='Series,Serie')] # se puede ver que los asset_id son diferentes aunque refieran a la misma serie "
      ]
    },
    {
      "cell_type": "code",
      "execution_count": null,
      "metadata": {
        "colab": {
          "base_uri": "https://localhost:8080/"
        },
        "id": "zUJeueNQa0MV",
        "outputId": "c25b854d-efd7-412d-f723-fe2771c4c665"
      },
      "outputs": [
        {
          "output_type": "execute_result",
          "data": {
            "text/plain": [
              "8689"
            ]
          },
          "metadata": {},
          "execution_count": 47
        }
      ],
      "source": [
        "meta.loc[meta.show_type=='Serie'].asset_id.nunique()# todas las filas corresponden a un valor "
      ]
    },
    {
      "cell_type": "code",
      "execution_count": null,
      "metadata": {
        "colab": {
          "base_uri": "https://localhost:8080/"
        },
        "id": "DbXmg3DteHgs",
        "outputId": "885c4c35-4edd-4118-9a3a-29a9263caef5"
      },
      "outputs": [
        {
          "output_type": "execute_result",
          "data": {
            "text/plain": [
              "383"
            ]
          },
          "metadata": {},
          "execution_count": 48
        }
      ],
      "source": [
        "meta.loc[meta.show_type=='Serie'].content_id.nunique()#código de identificación que agrupa los distintos asset_id asociados a un mismo contenido (por ejemplo, cada episodio de una misma serie tiene su propio asset_id, mientras que la serie se identifica con un content_id único)"
      ]
    },
    {
      "cell_type": "code",
      "execution_count": null,
      "metadata": {
        "id": "DR-JVAgvf3lm"
      },
      "outputs": [],
      "source": [
        "content=meta.loc[meta.show_type=='Serie'].content_id.unique()"
      ]
    },
    {
      "cell_type": "code",
      "execution_count": null,
      "metadata": {
        "colab": {
          "base_uri": "https://localhost:8080/"
        },
        "id": "GcRZ7pOyeIfz",
        "outputId": "7a51861e-8f94-43aa-d5ae-dfb317dc133b"
      },
      "outputs": [
        {
          "output_type": "execute_result",
          "data": {
            "text/plain": [
              "array([89.0, 97.0, 113.0, 116.0, 167.0, 177.0, 387.0, 423.0, 0.0, 624.0,\n",
              "       393.0, 509.0, 510.0, 670.0, 555.0, 674.0, 675.0, 676.0, 729.0,\n",
              "       1140.0, 1364.0, 1406.0, 1422.0, 1531.0, 1538.0, 1621.0, 1836.0,\n",
              "       115.0, 1845.0, 698.0, 1879.0, 1898.0, 1899.0, 1909.0, 1910.0,\n",
              "       1920.0, 176.0, 1957.0, 1978.0, 1979.0, 1982.0, 1983.0, 1984.0,\n",
              "       1985.0, 1998.0, 1999.0, 2000.0, 2001.0, 2002.0, 2005.0, 1611.0,\n",
              "       122.0, 2012.0, 2013.0, 119.0, 2016.0, 2017.0, 2022.0, 2023.0,\n",
              "       817.0, 2024.0, 120.0, 2028.0, 2032.0, 1539.0, 691.0, 1629.0,\n",
              "       2034.0, 1625.0, 2038.0, 2040.0, 117.0, 2041.0, 2042.0, 2043.0,\n",
              "       2044.0, 2045.0, 2046.0, 2048.0, 121.0, 1573.0, 1021.0, 2052.0,\n",
              "       2054.0, 2056.0, 2060.0, 2077.0, 1523.0, 2086.0, 2091.0, 2093.0,\n",
              "       2094.0, 2095.0, 2098.0, 909.0, 2100.0, 2101.0, 2120.0, 2121.0,\n",
              "       2127.0, 2129.0, 2131.0, 2134.0, 2135.0, 1097.0, 2140.0, 2144.0,\n",
              "       2145.0, 2148.0, 2152.0, 2153.0, 2159.0, 2161.0, 2162.0, 2165.0,\n",
              "       2167.0, 2168.0, 2173.0, 2177.0, 2181.0, 2183.0, 2185.0, 2186.0,\n",
              "       2190.0, 2191.0, 2196.0, 2200.0, 2202.0, 2243.0, 2247.0, 2262.0,\n",
              "       2263.0, 2269.0, 2282.0, 2293.0, 2297.0, 2299.0, 2308.0, 2314.0,\n",
              "       2317.0, 2330.0, 2334.0, 2335.0, 2339.0, 2341.0, 2343.0, 2344.0,\n",
              "       2347.0, 2353.0, 2355.0, 2356.0, 2357.0, 2362.0, 1096.0, 774.0,\n",
              "       2365.0, 2368.0, 2369.0, 2370.0, 2378.0, 2379.0, 2382.0, 2386.0,\n",
              "       2389.0, 2392.0, 2396.0, 2397.0, 2402.0, 2403.0, 2404.0, 2405.0,\n",
              "       2407.0, 2408.0, 2409.0, 2411.0, 6.0, 2416.0, 1235.0, 2419.0,\n",
              "       2422.0, 2423.0, 2424.0, 2425.0, 2426.0, 2441.0, 2443.0, 2456.0,\n",
              "       2472.0, 2476.0, 2478.0, 2480.0, 2486.0, 2487.0, 2513.0, 2520.0,\n",
              "       2522.0, 2523.0, 2530.0, 1553.0, 2540.0, 2546.0, 2549.0, 1260.0,\n",
              "       2569.0, 2572.0, 2574.0, 2584.0, 2590.0, 2617.0, 1036.0, 2623.0,\n",
              "       2627.0, 2641.0, 2642.0, 2646.0, 2657.0, 2665.0, 2666.0, 2682.0,\n",
              "       2698.0, 2742.0, 2756.0, 2764.0, 2769.0, 2771.0, 2773.0, 2781.0,\n",
              "       2789.0, 2792.0, 2795.0, 2805.0, 2823.0, 2825.0, 2826.0, 2829.0,\n",
              "       2830.0, 2835.0, 2837.0, 2841.0, 2848.0, 2865.0, 2868.0, 2883.0,\n",
              "       2884.0, 2887.0, 2900.0, 2901.0, 2903.0, 2904.0, 2920.0, 2923.0,\n",
              "       2933.0, 1766.0, 2942.0, 2945.0, 2946.0, 2951.0, 2954.0, 1800.0,\n",
              "       2969.0, 2973.0, 736.0, 2974.0, 2979.0, 2983.0, 2989.0, 2992.0,\n",
              "       2994.0, 2998.0, 3008.0, 3022.0, 3023.0, 3024.0, 3027.0, 1713.0,\n",
              "       3028.0, 3031.0, 3038.0, 3048.0, 3052.0, 3053.0, 3056.0, 3057.0,\n",
              "       3070.0, 3087.0, 3091.0, 3093.0, 3095.0, 3097.0, 3102.0, 378.0,\n",
              "       3138.0, 3152.0, 3156.0, 3168.0, 3212.0, 3243.0, 392.0, 430.0,\n",
              "       422.0, 426.0, 385.0, 3276.0, 3280.0, 3285.0, 370.0, 3313.0, 3324.0,\n",
              "       3326.0, 3350.0, 3353.0, 3368.0, 3370.0, 503.0, 3409.0, 391.0,\n",
              "       3413.0, 3425.0, 3426.0, 1462.0, 365.0, 290.0, 284.0, 3433.0,\n",
              "       3480.0, 185.0, 3532.0, 3533.0, 3541.0, 3548.0, 3603.0, 3616.0,\n",
              "       3669.0, 3670.0, 3679.0, 3680.0, 3685.0, 3689.0, 3704.0, 3708.0,\n",
              "       1049.0, 3716.0, 3738.0, 3739.0, 3749.0, 3752.0, 3757.0, 3766.0,\n",
              "       3770.0, 3775.0, 3780.0, 3805.0, 1209.0, 3816.0, 3821.0, 3832.0,\n",
              "       3836.0, 3840.0, 3853.0, 3856.0, 3857.0, 3858.0, 3866.0, 3900.0,\n",
              "       3902.0, 3920.0, 1399.0, 3942.0, 3951.0, 3979.0, 1308.0, 4046.0,\n",
              "       4133.0, 4154.0, 4155.0, 4170.0, 4184.0, 4213.0, 4222.0, 4271.0,\n",
              "       4272.0, 4273.0, 4316.0], dtype=object)"
            ]
          },
          "metadata": {},
          "execution_count": 50
        }
      ],
      "source": [
        "content\n"
      ]
    },
    {
      "cell_type": "code",
      "execution_count": null,
      "metadata": {
        "id": "1ygLyS0beaxL"
      },
      "outputs": [],
      "source": [
        "seriesc=meta.loc[meta.show_type=='Serie'].asset_id.unique()"
      ]
    },
    {
      "cell_type": "code",
      "execution_count": null,
      "metadata": {
        "colab": {
          "base_uri": "https://localhost:8080/",
          "height": 423
        },
        "id": "qunZHPNIe_b5",
        "outputId": "6963e87e-3831-4bbe-b52f-1bc54b54caaf"
      },
      "outputs": [
        {
          "output_type": "execute_result",
          "data": {
            "text/html": [
              "\n",
              "  <div id=\"df-57a59254-ff77-4e85-9d87-00a8be843324\">\n",
              "    <div class=\"colab-df-container\">\n",
              "      <div>\n",
              "<style scoped>\n",
              "    .dataframe tbody tr th:only-of-type {\n",
              "        vertical-align: middle;\n",
              "    }\n",
              "\n",
              "    .dataframe tbody tr th {\n",
              "        vertical-align: top;\n",
              "    }\n",
              "\n",
              "    .dataframe thead th {\n",
              "        text-align: right;\n",
              "    }\n",
              "</style>\n",
              "<table border=\"1\" class=\"dataframe\">\n",
              "  <thead>\n",
              "    <tr style=\"text-align: right;\">\n",
              "      <th></th>\n",
              "      <th>customer_id</th>\n",
              "      <th>account_id</th>\n",
              "      <th>device_type</th>\n",
              "      <th>asset_id</th>\n",
              "      <th>tunein</th>\n",
              "      <th>tuneout</th>\n",
              "      <th>resume</th>\n",
              "    </tr>\n",
              "  </thead>\n",
              "  <tbody>\n",
              "    <tr>\n",
              "      <th>0</th>\n",
              "      <td>0</td>\n",
              "      <td>90627</td>\n",
              "      <td>STATIONARY</td>\n",
              "      <td>18332.0</td>\n",
              "      <td>2021-02-18 22:52:00.0</td>\n",
              "      <td>2021-02-18 23:35:00.0</td>\n",
              "      <td>0</td>\n",
              "    </tr>\n",
              "    <tr>\n",
              "      <th>1</th>\n",
              "      <td>0</td>\n",
              "      <td>90627</td>\n",
              "      <td>STATIONARY</td>\n",
              "      <td>24727.0</td>\n",
              "      <td>2021-03-24 23:17:00.0</td>\n",
              "      <td>2021-03-25 00:01:00.0</td>\n",
              "      <td>0</td>\n",
              "    </tr>\n",
              "    <tr>\n",
              "      <th>2</th>\n",
              "      <td>1</td>\n",
              "      <td>3387</td>\n",
              "      <td>STB</td>\n",
              "      <td>895.0</td>\n",
              "      <td>2021-03-15 10:05:00.0</td>\n",
              "      <td>2021-03-15 10:23:00.0</td>\n",
              "      <td>0</td>\n",
              "    </tr>\n",
              "    <tr>\n",
              "      <th>3</th>\n",
              "      <td>1</td>\n",
              "      <td>3387</td>\n",
              "      <td>STB</td>\n",
              "      <td>895.0</td>\n",
              "      <td>2021-03-15 10:23:00.0</td>\n",
              "      <td>2021-03-15 11:18:00.0</td>\n",
              "      <td>1</td>\n",
              "    </tr>\n",
              "    <tr>\n",
              "      <th>4</th>\n",
              "      <td>1</td>\n",
              "      <td>3387</td>\n",
              "      <td>STB</td>\n",
              "      <td>26062.0</td>\n",
              "      <td>2021-03-16 09:24:00.0</td>\n",
              "      <td>2021-03-16 09:44:00.0</td>\n",
              "      <td>0</td>\n",
              "    </tr>\n",
              "    <tr>\n",
              "      <th>...</th>\n",
              "      <td>...</td>\n",
              "      <td>...</td>\n",
              "      <td>...</td>\n",
              "      <td>...</td>\n",
              "      <td>...</td>\n",
              "      <td>...</td>\n",
              "      <td>...</td>\n",
              "    </tr>\n",
              "    <tr>\n",
              "      <th>3657429</th>\n",
              "      <td>112338</td>\n",
              "      <td>82934</td>\n",
              "      <td>CLOUD_CLIENT</td>\n",
              "      <td>18332.0</td>\n",
              "      <td>2021-02-23 22:30:00.0</td>\n",
              "      <td>2021-02-23 22:46:00.0</td>\n",
              "      <td>0</td>\n",
              "    </tr>\n",
              "    <tr>\n",
              "      <th>3657430</th>\n",
              "      <td>112338</td>\n",
              "      <td>82934</td>\n",
              "      <td>CLOUD_CLIENT</td>\n",
              "      <td>18332.0</td>\n",
              "      <td>2021-02-27 14:18:00.0</td>\n",
              "      <td>2021-02-27 14:40:00.0</td>\n",
              "      <td>0</td>\n",
              "    </tr>\n",
              "    <tr>\n",
              "      <th>3657433</th>\n",
              "      <td>112338</td>\n",
              "      <td>82934</td>\n",
              "      <td>CLOUD_CLIENT</td>\n",
              "      <td>24727.0</td>\n",
              "      <td>2021-03-18 20:03:00.0</td>\n",
              "      <td>2021-03-18 20:14:00.0</td>\n",
              "      <td>0</td>\n",
              "    </tr>\n",
              "    <tr>\n",
              "      <th>3657434</th>\n",
              "      <td>112338</td>\n",
              "      <td>82934</td>\n",
              "      <td>CLOUD_CLIENT</td>\n",
              "      <td>24727.0</td>\n",
              "      <td>2021-03-18 20:14:00.0</td>\n",
              "      <td>2021-03-18 20:53:00.0</td>\n",
              "      <td>0</td>\n",
              "    </tr>\n",
              "    <tr>\n",
              "      <th>3657490</th>\n",
              "      <td>112339</td>\n",
              "      <td>3386</td>\n",
              "      <td>STATIONARY</td>\n",
              "      <td>27259.0</td>\n",
              "      <td>2021-02-03 00:57:00.0</td>\n",
              "      <td>2021-02-03 01:00:00.0</td>\n",
              "      <td>0</td>\n",
              "    </tr>\n",
              "  </tbody>\n",
              "</table>\n",
              "<p>1496207 rows × 7 columns</p>\n",
              "</div>\n",
              "      <button class=\"colab-df-convert\" onclick=\"convertToInteractive('df-57a59254-ff77-4e85-9d87-00a8be843324')\"\n",
              "              title=\"Convert this dataframe to an interactive table.\"\n",
              "              style=\"display:none;\">\n",
              "        \n",
              "  <svg xmlns=\"http://www.w3.org/2000/svg\" height=\"24px\"viewBox=\"0 0 24 24\"\n",
              "       width=\"24px\">\n",
              "    <path d=\"M0 0h24v24H0V0z\" fill=\"none\"/>\n",
              "    <path d=\"M18.56 5.44l.94 2.06.94-2.06 2.06-.94-2.06-.94-.94-2.06-.94 2.06-2.06.94zm-11 1L8.5 8.5l.94-2.06 2.06-.94-2.06-.94L8.5 2.5l-.94 2.06-2.06.94zm10 10l.94 2.06.94-2.06 2.06-.94-2.06-.94-.94-2.06-.94 2.06-2.06.94z\"/><path d=\"M17.41 7.96l-1.37-1.37c-.4-.4-.92-.59-1.43-.59-.52 0-1.04.2-1.43.59L10.3 9.45l-7.72 7.72c-.78.78-.78 2.05 0 2.83L4 21.41c.39.39.9.59 1.41.59.51 0 1.02-.2 1.41-.59l7.78-7.78 2.81-2.81c.8-.78.8-2.07 0-2.86zM5.41 20L4 18.59l7.72-7.72 1.47 1.35L5.41 20z\"/>\n",
              "  </svg>\n",
              "      </button>\n",
              "      \n",
              "  <style>\n",
              "    .colab-df-container {\n",
              "      display:flex;\n",
              "      flex-wrap:wrap;\n",
              "      gap: 12px;\n",
              "    }\n",
              "\n",
              "    .colab-df-convert {\n",
              "      background-color: #E8F0FE;\n",
              "      border: none;\n",
              "      border-radius: 50%;\n",
              "      cursor: pointer;\n",
              "      display: none;\n",
              "      fill: #1967D2;\n",
              "      height: 32px;\n",
              "      padding: 0 0 0 0;\n",
              "      width: 32px;\n",
              "    }\n",
              "\n",
              "    .colab-df-convert:hover {\n",
              "      background-color: #E2EBFA;\n",
              "      box-shadow: 0px 1px 2px rgba(60, 64, 67, 0.3), 0px 1px 3px 1px rgba(60, 64, 67, 0.15);\n",
              "      fill: #174EA6;\n",
              "    }\n",
              "\n",
              "    [theme=dark] .colab-df-convert {\n",
              "      background-color: #3B4455;\n",
              "      fill: #D2E3FC;\n",
              "    }\n",
              "\n",
              "    [theme=dark] .colab-df-convert:hover {\n",
              "      background-color: #434B5C;\n",
              "      box-shadow: 0px 1px 3px 1px rgba(0, 0, 0, 0.15);\n",
              "      filter: drop-shadow(0px 1px 2px rgba(0, 0, 0, 0.3));\n",
              "      fill: #FFFFFF;\n",
              "    }\n",
              "  </style>\n",
              "\n",
              "      <script>\n",
              "        const buttonEl =\n",
              "          document.querySelector('#df-57a59254-ff77-4e85-9d87-00a8be843324 button.colab-df-convert');\n",
              "        buttonEl.style.display =\n",
              "          google.colab.kernel.accessAllowed ? 'block' : 'none';\n",
              "\n",
              "        async function convertToInteractive(key) {\n",
              "          const element = document.querySelector('#df-57a59254-ff77-4e85-9d87-00a8be843324');\n",
              "          const dataTable =\n",
              "            await google.colab.kernel.invokeFunction('convertToInteractive',\n",
              "                                                     [key], {});\n",
              "          if (!dataTable) return;\n",
              "\n",
              "          const docLinkHtml = 'Like what you see? Visit the ' +\n",
              "            '<a target=\"_blank\" href=https://colab.research.google.com/notebooks/data_table.ipynb>data table notebook</a>'\n",
              "            + ' to learn more about interactive tables.';\n",
              "          element.innerHTML = '';\n",
              "          dataTable['output_type'] = 'display_data';\n",
              "          await google.colab.output.renderOutput(dataTable, element);\n",
              "          const docLink = document.createElement('div');\n",
              "          docLink.innerHTML = docLinkHtml;\n",
              "          element.appendChild(docLink);\n",
              "        }\n",
              "      </script>\n",
              "    </div>\n",
              "  </div>\n",
              "  "
            ],
            "text/plain": [
              "         customer_id  account_id  ...                tuneout  resume\n",
              "0                  0       90627  ...  2021-02-18 23:35:00.0       0\n",
              "1                  0       90627  ...  2021-03-25 00:01:00.0       0\n",
              "2                  1        3387  ...  2021-03-15 10:23:00.0       0\n",
              "3                  1        3387  ...  2021-03-15 11:18:00.0       1\n",
              "4                  1        3387  ...  2021-03-16 09:44:00.0       0\n",
              "...              ...         ...  ...                    ...     ...\n",
              "3657429       112338       82934  ...  2021-02-23 22:46:00.0       0\n",
              "3657430       112338       82934  ...  2021-02-27 14:40:00.0       0\n",
              "3657433       112338       82934  ...  2021-03-18 20:14:00.0       0\n",
              "3657434       112338       82934  ...  2021-03-18 20:53:00.0       0\n",
              "3657490       112339        3386  ...  2021-02-03 01:00:00.0       0\n",
              "\n",
              "[1496207 rows x 7 columns]"
            ]
          },
          "metadata": {},
          "execution_count": 52
        }
      ],
      "source": [
        "train.loc[train.asset_id.isin(seriesc)] # vemos que 1.4 millones de filas se corresponden con los asset_id de las series lo que se estaria repitiendo mucho con una misma serie"
      ]
    },
    {
      "cell_type": "code",
      "execution_count": null,
      "metadata": {
        "colab": {
          "base_uri": "https://localhost:8080/",
          "height": 1000
        },
        "id": "g94un2kjgePF",
        "outputId": "918cebd2-40e7-4e98-b835-33eafa3c3a67"
      },
      "outputs": [
        {
          "output_type": "execute_result",
          "data": {
            "text/html": [
              "\n",
              "  <div id=\"df-61f99041-a8c1-45e7-aa73-7fde27696ed7\">\n",
              "    <div class=\"colab-df-container\">\n",
              "      <div>\n",
              "<style scoped>\n",
              "    .dataframe tbody tr th:only-of-type {\n",
              "        vertical-align: middle;\n",
              "    }\n",
              "\n",
              "    .dataframe tbody tr th {\n",
              "        vertical-align: top;\n",
              "    }\n",
              "\n",
              "    .dataframe thead th {\n",
              "        text-align: right;\n",
              "    }\n",
              "</style>\n",
              "<table border=\"1\" class=\"dataframe\">\n",
              "  <thead>\n",
              "    <tr style=\"text-align: right;\">\n",
              "      <th></th>\n",
              "      <th>asset_id</th>\n",
              "      <th>content_id</th>\n",
              "      <th>title</th>\n",
              "      <th>reduced_title</th>\n",
              "      <th>episode_title</th>\n",
              "      <th>show_type</th>\n",
              "      <th>released_year</th>\n",
              "      <th>country_of_origin</th>\n",
              "      <th>category</th>\n",
              "      <th>keywords</th>\n",
              "      <th>description</th>\n",
              "      <th>reduced_desc</th>\n",
              "      <th>cast_first_name</th>\n",
              "      <th>credits_first_name</th>\n",
              "      <th>run_time_min</th>\n",
              "      <th>audience</th>\n",
              "      <th>made_for_tv</th>\n",
              "      <th>close_caption</th>\n",
              "      <th>sex_rating</th>\n",
              "      <th>violence_rating</th>\n",
              "      <th>language_rating</th>\n",
              "      <th>dialog_rating</th>\n",
              "      <th>fv_rating</th>\n",
              "      <th>pay_per_view</th>\n",
              "      <th>pack_premium_1</th>\n",
              "      <th>pack_premium_2</th>\n",
              "      <th>create_date</th>\n",
              "      <th>modify_date</th>\n",
              "      <th>start_vod_date</th>\n",
              "      <th>end_vod_date</th>\n",
              "      <th>finserie</th>\n",
              "    </tr>\n",
              "  </thead>\n",
              "  <tbody>\n",
              "    <tr>\n",
              "      <th>733</th>\n",
              "      <td>2100</td>\n",
              "      <td>178</td>\n",
              "      <td>T:1 Ep:20 El Día Que con Magnus Mefisto - Mani...</td>\n",
              "      <td>El_Dia_Que_c_T1_E20</td>\n",
              "      <td>El día que murió Maradona</td>\n",
              "      <td>TV</td>\n",
              "      <td>2020.0</td>\n",
              "      <td>AR</td>\n",
              "      <td>Entretenimiento</td>\n",
              "      <td>Historia,Narcos,Mafia,Crimen</td>\n",
              "      <td>D10S, El Die, Diegote, Pelusa. 60 años en la v...</td>\n",
              "      <td>D10S, El Die, Diegote, Pelusa. 60 años en la v...</td>\n",
              "      <td>Magnus Mefisto</td>\n",
              "      <td>NaN</td>\n",
              "      <td>16.0</td>\n",
              "      <td>Juvenil</td>\n",
              "      <td>N</td>\n",
              "      <td>N</td>\n",
              "      <td>N</td>\n",
              "      <td>N</td>\n",
              "      <td>N</td>\n",
              "      <td>N</td>\n",
              "      <td>N</td>\n",
              "      <td>N</td>\n",
              "      <td>N</td>\n",
              "      <td>N</td>\n",
              "      <td>2020-12-09T18:38:00.0Z</td>\n",
              "      <td>2020-12-09T20:06:08.0Z</td>\n",
              "      <td>2020-12-08T00:00:00.0Z</td>\n",
              "      <td>2023-12-08T23:59:00.0Z</td>\n",
              "      <td>2023-12-08</td>\n",
              "    </tr>\n",
              "    <tr>\n",
              "      <th>819</th>\n",
              "      <td>2405</td>\n",
              "      <td>184</td>\n",
              "      <td>T:1 Ep:53 Viví tu viaje</td>\n",
              "      <td>Vivi_tu_viaj_T1_E53</td>\n",
              "      <td>Róterdam: La ciudad del diseño y la arquitectura</td>\n",
              "      <td>TV</td>\n",
              "      <td>2019.0</td>\n",
              "      <td>AR</td>\n",
              "      <td>Documental/Viajes</td>\n",
              "      <td>Viajes,Cultura,Historia,Europa,Latinoamérica,Á...</td>\n",
              "      <td>Recorremos los grandes imperdibles arquitectón...</td>\n",
              "      <td>Recorremos los grandes imperdibles arquitectón...</td>\n",
              "      <td>NaN</td>\n",
              "      <td>NaN</td>\n",
              "      <td>3.0</td>\n",
              "      <td>General</td>\n",
              "      <td>N</td>\n",
              "      <td>N</td>\n",
              "      <td>N</td>\n",
              "      <td>N</td>\n",
              "      <td>N</td>\n",
              "      <td>N</td>\n",
              "      <td>N</td>\n",
              "      <td>N</td>\n",
              "      <td>N</td>\n",
              "      <td>N</td>\n",
              "      <td>2020-11-02T00:07:40.0Z</td>\n",
              "      <td>2020-11-02T00:07:40.0Z</td>\n",
              "      <td>2020-12-15T00:00:00.0Z</td>\n",
              "      <td>2030-02-04T23:59:59.0Z</td>\n",
              "      <td>2030-02-04</td>\n",
              "    </tr>\n",
              "    <tr>\n",
              "      <th>833</th>\n",
              "      <td>3533</td>\n",
              "      <td>185</td>\n",
              "      <td>T:1 Ep:08 Viví tu viaje: Grandes ciudades</td>\n",
              "      <td>Vivi_tu_viaj_T1_E08</td>\n",
              "      <td>Dubai</td>\n",
              "      <td>TV</td>\n",
              "      <td>2019.0</td>\n",
              "      <td>AR</td>\n",
              "      <td>Documental/Viajes</td>\n",
              "      <td>Viajes,Cultura,Historia,Europa,Latinoamérica,V...</td>\n",
              "      <td>Guía de viaje recorriendo los imperdibles de D...</td>\n",
              "      <td>Guía de viaje recorriendo los imperdibles de D...</td>\n",
              "      <td>NaN</td>\n",
              "      <td>NaN</td>\n",
              "      <td>5.0</td>\n",
              "      <td>General</td>\n",
              "      <td>N</td>\n",
              "      <td>N</td>\n",
              "      <td>N</td>\n",
              "      <td>N</td>\n",
              "      <td>N</td>\n",
              "      <td>N</td>\n",
              "      <td>N</td>\n",
              "      <td>N</td>\n",
              "      <td>N</td>\n",
              "      <td>N</td>\n",
              "      <td>2020-11-02T00:54:00.0Z</td>\n",
              "      <td>2020-11-02T00:54:00.0Z</td>\n",
              "      <td>2020-12-15T00:00:00.0Z</td>\n",
              "      <td>2030-02-04T23:59:59.0Z</td>\n",
              "      <td>2030-02-04</td>\n",
              "    </tr>\n",
              "    <tr>\n",
              "      <th>3402</th>\n",
              "      <td>3480</td>\n",
              "      <td>0</td>\n",
              "      <td>Ep:22 Tiempos compulsivos</td>\n",
              "      <td>Tiempos_Compul_E22</td>\n",
              "      <td>Episodio 22</td>\n",
              "      <td>Serie</td>\n",
              "      <td>2012.0</td>\n",
              "      <td>AR</td>\n",
              "      <td>Drama</td>\n",
              "      <td>Trastornos,Médicos,Tragicómica,Telenovela,Enfe...</td>\n",
              "      <td>Esteban atravesó momentos difíciles: su enferm...</td>\n",
              "      <td>Esteban atravesó momentos difíciles: su enferm...</td>\n",
              "      <td>Rodrigo De la Serna, Paola Krum, Fernán Mirás,...</td>\n",
              "      <td>Daniel Barone</td>\n",
              "      <td>37.0</td>\n",
              "      <td>General</td>\n",
              "      <td>N</td>\n",
              "      <td>N</td>\n",
              "      <td>N</td>\n",
              "      <td>N</td>\n",
              "      <td>N</td>\n",
              "      <td>N</td>\n",
              "      <td>N</td>\n",
              "      <td>N</td>\n",
              "      <td>N</td>\n",
              "      <td>N</td>\n",
              "      <td>2020-12-10T16:08:38.0Z</td>\n",
              "      <td>2020-12-10T16:08:38.0Z</td>\n",
              "      <td>2020-12-15T00:00:00.0Z</td>\n",
              "      <td>2030-12-01T23:59:59.0Z</td>\n",
              "      <td>2030-12-01</td>\n",
              "    </tr>\n",
              "    <tr>\n",
              "      <th>3455</th>\n",
              "      <td>2269</td>\n",
              "      <td>624</td>\n",
              "      <td>T:1 Ep:05 Historias veterinarias</td>\n",
              "      <td>Historias_ve_T1_E05</td>\n",
              "      <td>Susana y Lola</td>\n",
              "      <td>Serie</td>\n",
              "      <td>2020.0</td>\n",
              "      <td>AR</td>\n",
              "      <td>Documental/Animales</td>\n",
              "      <td>Mascotas,Animales,Veterinarios,Flow</td>\n",
              "      <td>La vejes trae consigo el entendimiento de que ...</td>\n",
              "      <td>La vejes trae consigo el entendimiento de que ...</td>\n",
              "      <td>Dr. Juan Romero</td>\n",
              "      <td>Mariano Hueter, Juan Irigoyen</td>\n",
              "      <td>25.0</td>\n",
              "      <td>General</td>\n",
              "      <td>N</td>\n",
              "      <td>N</td>\n",
              "      <td>N</td>\n",
              "      <td>N</td>\n",
              "      <td>N</td>\n",
              "      <td>N</td>\n",
              "      <td>N</td>\n",
              "      <td>N</td>\n",
              "      <td>N</td>\n",
              "      <td>N</td>\n",
              "      <td>2020-11-20T05:00:49.0Z</td>\n",
              "      <td>2020-11-25T01:06:05.0Z</td>\n",
              "      <td>2020-11-25T00:00:00.0Z</td>\n",
              "      <td>2030-11-25T23:59:00.0Z</td>\n",
              "      <td>2030-11-25</td>\n",
              "    </tr>\n",
              "    <tr>\n",
              "      <th>...</th>\n",
              "      <td>...</td>\n",
              "      <td>...</td>\n",
              "      <td>...</td>\n",
              "      <td>...</td>\n",
              "      <td>...</td>\n",
              "      <td>...</td>\n",
              "      <td>...</td>\n",
              "      <td>...</td>\n",
              "      <td>...</td>\n",
              "      <td>...</td>\n",
              "      <td>...</td>\n",
              "      <td>...</td>\n",
              "      <td>...</td>\n",
              "      <td>...</td>\n",
              "      <td>...</td>\n",
              "      <td>...</td>\n",
              "      <td>...</td>\n",
              "      <td>...</td>\n",
              "      <td>...</td>\n",
              "      <td>...</td>\n",
              "      <td>...</td>\n",
              "      <td>...</td>\n",
              "      <td>...</td>\n",
              "      <td>...</td>\n",
              "      <td>...</td>\n",
              "      <td>...</td>\n",
              "      <td>...</td>\n",
              "      <td>...</td>\n",
              "      <td>...</td>\n",
              "      <td>...</td>\n",
              "      <td>...</td>\n",
              "    </tr>\n",
              "    <tr>\n",
              "      <th>32510</th>\n",
              "      <td>4155</td>\n",
              "      <td>57</td>\n",
              "      <td>T:1 Ep:16 Marvel Spider-Man</td>\n",
              "      <td>Marvel_Spide_T1_E16</td>\n",
              "      <td>El surgimiento de Doc Ock - Primera parte</td>\n",
              "      <td>TV</td>\n",
              "      <td>2017.0</td>\n",
              "      <td>US</td>\n",
              "      <td>Infantil/Dibujos Animados</td>\n",
              "      <td>Marvel,Comics,Superhéroes</td>\n",
              "      <td>Después de que una explosión fusiona los brazo...</td>\n",
              "      <td>Peter Parker, un nuevo estudiante en el famoso...</td>\n",
              "      <td>NaN</td>\n",
              "      <td>NaN</td>\n",
              "      <td>24.0</td>\n",
              "      <td>Teens</td>\n",
              "      <td>N</td>\n",
              "      <td>N</td>\n",
              "      <td>N</td>\n",
              "      <td>N</td>\n",
              "      <td>N</td>\n",
              "      <td>N</td>\n",
              "      <td>N</td>\n",
              "      <td>N</td>\n",
              "      <td>N</td>\n",
              "      <td>N</td>\n",
              "      <td>2021-03-23T20:33:41.0Z</td>\n",
              "      <td>2021-03-24T02:06:08.0Z</td>\n",
              "      <td>2021-03-23T00:00:00.0Z</td>\n",
              "      <td>2021-04-22T23:59:00.0Z</td>\n",
              "      <td>2021-04-22</td>\n",
              "    </tr>\n",
              "    <tr>\n",
              "      <th>32686</th>\n",
              "      <td>624</td>\n",
              "      <td>4170</td>\n",
              "      <td>T:1 Ep:11 Física o química</td>\n",
              "      <td>Fisica_o_qui_T1_E11</td>\n",
              "      <td>Una cuestión de equilibrio</td>\n",
              "      <td>Serie</td>\n",
              "      <td>2008.0</td>\n",
              "      <td>ES</td>\n",
              "      <td>Drama/Romance</td>\n",
              "      <td>Adolescentes,Instituto,Europa</td>\n",
              "      <td>Irene consigue un nuevo trabajo en una tienda ...</td>\n",
              "      <td>Irene consigue un nuevo trabajo en una tienda ...</td>\n",
              "      <td>Ana Milán, Andrea Duro, Javier Calvo, Úrsula C...</td>\n",
              "      <td>Carlos Montero</td>\n",
              "      <td>74.0</td>\n",
              "      <td>General</td>\n",
              "      <td>N</td>\n",
              "      <td>N</td>\n",
              "      <td>N</td>\n",
              "      <td>N</td>\n",
              "      <td>N</td>\n",
              "      <td>N</td>\n",
              "      <td>N</td>\n",
              "      <td>N</td>\n",
              "      <td>N</td>\n",
              "      <td>N</td>\n",
              "      <td>2021-03-25T16:36:34.0Z</td>\n",
              "      <td>2021-03-25T16:36:34.0Z</td>\n",
              "      <td>2021-03-31T00:00:00.0Z</td>\n",
              "      <td>2022-04-30T23:59:59.0Z</td>\n",
              "      <td>2022-04-30</td>\n",
              "    </tr>\n",
              "    <tr>\n",
              "      <th>32772</th>\n",
              "      <td>2045</td>\n",
              "      <td>1041</td>\n",
              "      <td>T:1 Ep:26 Manzana y Cebollín</td>\n",
              "      <td>Manzana_y_Ce_T1_E26</td>\n",
              "      <td>Sigue tus sueños</td>\n",
              "      <td>TV</td>\n",
              "      <td>2017.0</td>\n",
              "      <td>US</td>\n",
              "      <td>Infantil/Dibujos Animados</td>\n",
              "      <td>Ingenioso,Amigos</td>\n",
              "      <td>Manzana y Cebollín necesitan encontrar un sueñ...</td>\n",
              "      <td>Manzana y Cebollín necesitan encontrar un sueñ...</td>\n",
              "      <td>Sayed Badreya, Richard Ayoade, George Gendi</td>\n",
              "      <td>Benton Connor</td>\n",
              "      <td>11.0</td>\n",
              "      <td>Teens</td>\n",
              "      <td>N</td>\n",
              "      <td>N</td>\n",
              "      <td>N</td>\n",
              "      <td>N</td>\n",
              "      <td>N</td>\n",
              "      <td>N</td>\n",
              "      <td>N</td>\n",
              "      <td>N</td>\n",
              "      <td>N</td>\n",
              "      <td>N</td>\n",
              "      <td>2021-03-25T22:30:51.0Z</td>\n",
              "      <td>2021-03-26T00:06:13.0Z</td>\n",
              "      <td>2021-03-01T00:00:00.0Z</td>\n",
              "      <td>2021-03-31T23:59:00.0Z</td>\n",
              "      <td>2021-03-31</td>\n",
              "    </tr>\n",
              "    <tr>\n",
              "      <th>32867</th>\n",
              "      <td>2145</td>\n",
              "      <td>4313</td>\n",
              "      <td>Jack Reacher: Sin regreso</td>\n",
              "      <td>Jack_Reacher__Sin_r</td>\n",
              "      <td>NaN</td>\n",
              "      <td>Película</td>\n",
              "      <td>2016.0</td>\n",
              "      <td>US</td>\n",
              "      <td>Acción/Crimen</td>\n",
              "      <td>Crimen,Adrenalina,Agentes,Detectives,Conspirat...</td>\n",
              "      <td>Cuando la Mayor del Ejército Susan Turner es c...</td>\n",
              "      <td>Cuando la Mayor del Ejército Susan Turner es c...</td>\n",
              "      <td>Tom Cruise, Cobie Smulders, Danika Yarosh, Ald...</td>\n",
              "      <td>Edward Zwick</td>\n",
              "      <td>114.0</td>\n",
              "      <td>Hombres</td>\n",
              "      <td>N</td>\n",
              "      <td>N</td>\n",
              "      <td>N</td>\n",
              "      <td>N</td>\n",
              "      <td>N</td>\n",
              "      <td>N</td>\n",
              "      <td>N</td>\n",
              "      <td>N</td>\n",
              "      <td>Y</td>\n",
              "      <td>N</td>\n",
              "      <td>2021-03-26T21:55:09.0Z</td>\n",
              "      <td>2021-03-29T01:06:05.0Z</td>\n",
              "      <td>2021-03-29T00:00:00.0Z</td>\n",
              "      <td>2021-06-30T23:59:00.0Z</td>\n",
              "      <td>2021-06-30</td>\n",
              "    </tr>\n",
              "    <tr>\n",
              "      <th>32999</th>\n",
              "      <td>2335</td>\n",
              "      <td>4326</td>\n",
              "      <td>Desmadre</td>\n",
              "      <td>Desmadre</td>\n",
              "      <td>NaN</td>\n",
              "      <td>Película</td>\n",
              "      <td>2012.0</td>\n",
              "      <td>AR</td>\n",
              "      <td>Comedia/Drama</td>\n",
              "      <td>Familia,Mujeres,Independientes,Tragicómica</td>\n",
              "      <td>Carla tiene 19 años, se crió sin padre y con u...</td>\n",
              "      <td>Carla tiene 19 años, se crió sin padre y con u...</td>\n",
              "      <td>Florencia Otero, Claudia Fontán, Luz Cipriota,...</td>\n",
              "      <td>Jazmín Stuart, Juan Pablo Martínez</td>\n",
              "      <td>104.0</td>\n",
              "      <td>General</td>\n",
              "      <td>N</td>\n",
              "      <td>N</td>\n",
              "      <td>N</td>\n",
              "      <td>N</td>\n",
              "      <td>N</td>\n",
              "      <td>N</td>\n",
              "      <td>N</td>\n",
              "      <td>N</td>\n",
              "      <td>N</td>\n",
              "      <td>N</td>\n",
              "      <td>2020-10-06T02:07:07.0Z</td>\n",
              "      <td>2020-10-08T01:25:19.0Z</td>\n",
              "      <td>2020-10-02T00:00:00.0Z</td>\n",
              "      <td>2021-10-02T23:59:59.0Z</td>\n",
              "      <td>2021-10-02</td>\n",
              "    </tr>\n",
              "  </tbody>\n",
              "</table>\n",
              "<p>268 rows × 31 columns</p>\n",
              "</div>\n",
              "      <button class=\"colab-df-convert\" onclick=\"convertToInteractive('df-61f99041-a8c1-45e7-aa73-7fde27696ed7')\"\n",
              "              title=\"Convert this dataframe to an interactive table.\"\n",
              "              style=\"display:none;\">\n",
              "        \n",
              "  <svg xmlns=\"http://www.w3.org/2000/svg\" height=\"24px\"viewBox=\"0 0 24 24\"\n",
              "       width=\"24px\">\n",
              "    <path d=\"M0 0h24v24H0V0z\" fill=\"none\"/>\n",
              "    <path d=\"M18.56 5.44l.94 2.06.94-2.06 2.06-.94-2.06-.94-.94-2.06-.94 2.06-2.06.94zm-11 1L8.5 8.5l.94-2.06 2.06-.94-2.06-.94L8.5 2.5l-.94 2.06-2.06.94zm10 10l.94 2.06.94-2.06 2.06-.94-2.06-.94-.94-2.06-.94 2.06-2.06.94z\"/><path d=\"M17.41 7.96l-1.37-1.37c-.4-.4-.92-.59-1.43-.59-.52 0-1.04.2-1.43.59L10.3 9.45l-7.72 7.72c-.78.78-.78 2.05 0 2.83L4 21.41c.39.39.9.59 1.41.59.51 0 1.02-.2 1.41-.59l7.78-7.78 2.81-2.81c.8-.78.8-2.07 0-2.86zM5.41 20L4 18.59l7.72-7.72 1.47 1.35L5.41 20z\"/>\n",
              "  </svg>\n",
              "      </button>\n",
              "      \n",
              "  <style>\n",
              "    .colab-df-container {\n",
              "      display:flex;\n",
              "      flex-wrap:wrap;\n",
              "      gap: 12px;\n",
              "    }\n",
              "\n",
              "    .colab-df-convert {\n",
              "      background-color: #E8F0FE;\n",
              "      border: none;\n",
              "      border-radius: 50%;\n",
              "      cursor: pointer;\n",
              "      display: none;\n",
              "      fill: #1967D2;\n",
              "      height: 32px;\n",
              "      padding: 0 0 0 0;\n",
              "      width: 32px;\n",
              "    }\n",
              "\n",
              "    .colab-df-convert:hover {\n",
              "      background-color: #E2EBFA;\n",
              "      box-shadow: 0px 1px 2px rgba(60, 64, 67, 0.3), 0px 1px 3px 1px rgba(60, 64, 67, 0.15);\n",
              "      fill: #174EA6;\n",
              "    }\n",
              "\n",
              "    [theme=dark] .colab-df-convert {\n",
              "      background-color: #3B4455;\n",
              "      fill: #D2E3FC;\n",
              "    }\n",
              "\n",
              "    [theme=dark] .colab-df-convert:hover {\n",
              "      background-color: #434B5C;\n",
              "      box-shadow: 0px 1px 3px 1px rgba(0, 0, 0, 0.15);\n",
              "      filter: drop-shadow(0px 1px 2px rgba(0, 0, 0, 0.3));\n",
              "      fill: #FFFFFF;\n",
              "    }\n",
              "  </style>\n",
              "\n",
              "      <script>\n",
              "        const buttonEl =\n",
              "          document.querySelector('#df-61f99041-a8c1-45e7-aa73-7fde27696ed7 button.colab-df-convert');\n",
              "        buttonEl.style.display =\n",
              "          google.colab.kernel.accessAllowed ? 'block' : 'none';\n",
              "\n",
              "        async function convertToInteractive(key) {\n",
              "          const element = document.querySelector('#df-61f99041-a8c1-45e7-aa73-7fde27696ed7');\n",
              "          const dataTable =\n",
              "            await google.colab.kernel.invokeFunction('convertToInteractive',\n",
              "                                                     [key], {});\n",
              "          if (!dataTable) return;\n",
              "\n",
              "          const docLinkHtml = 'Like what you see? Visit the ' +\n",
              "            '<a target=\"_blank\" href=https://colab.research.google.com/notebooks/data_table.ipynb>data table notebook</a>'\n",
              "            + ' to learn more about interactive tables.';\n",
              "          element.innerHTML = '';\n",
              "          dataTable['output_type'] = 'display_data';\n",
              "          await google.colab.output.renderOutput(dataTable, element);\n",
              "          const docLink = document.createElement('div');\n",
              "          docLink.innerHTML = docLinkHtml;\n",
              "          element.appendChild(docLink);\n",
              "        }\n",
              "      </script>\n",
              "    </div>\n",
              "  </div>\n",
              "  "
            ],
            "text/plain": [
              "       asset_id content_id  ...            end_vod_date   finserie\n",
              "733        2100        178  ...  2023-12-08T23:59:00.0Z 2023-12-08\n",
              "819        2405        184  ...  2030-02-04T23:59:59.0Z 2030-02-04\n",
              "833        3533        185  ...  2030-02-04T23:59:59.0Z 2030-02-04\n",
              "3402       3480          0  ...  2030-12-01T23:59:59.0Z 2030-12-01\n",
              "3455       2269        624  ...  2030-11-25T23:59:00.0Z 2030-11-25\n",
              "...         ...        ...  ...                     ...        ...\n",
              "32510      4155         57  ...  2021-04-22T23:59:00.0Z 2021-04-22\n",
              "32686       624       4170  ...  2022-04-30T23:59:59.0Z 2022-04-30\n",
              "32772      2045       1041  ...  2021-03-31T23:59:00.0Z 2021-03-31\n",
              "32867      2145       4313  ...  2021-06-30T23:59:00.0Z 2021-06-30\n",
              "32999      2335       4326  ...  2021-10-02T23:59:59.0Z 2021-10-02\n",
              "\n",
              "[268 rows x 31 columns]"
            ]
          },
          "metadata": {},
          "execution_count": 53
        }
      ],
      "source": [
        "meta.loc[meta.asset_id.isin(content)] #content_id ya esta en unso en asset_id por lo tanto no se podra utilizar el codigo de content en asset"
      ]
    },
    {
      "cell_type": "code",
      "execution_count": null,
      "metadata": {
        "colab": {
          "base_uri": "https://localhost:8080/"
        },
        "id": "2unc-wnP7g9_",
        "outputId": "413b690b-c68e-4862-8006-cd5a3781e86f"
      },
      "outputs": [
        {
          "output_type": "execute_result",
          "data": {
            "text/plain": [
              "3492"
            ]
          },
          "metadata": {},
          "execution_count": 54
        }
      ],
      "source": [
        "meta.content_id.nunique()"
      ]
    },
    {
      "cell_type": "code",
      "source": [
        ""
      ],
      "metadata": {
        "id": "yG28ZIRFRyx_"
      },
      "execution_count": null,
      "outputs": []
    },
    {
      "cell_type": "markdown",
      "metadata": {
        "id": "5AvxgbnDc7k_"
      },
      "source": [
        "# Nueva designación."
      ]
    },
    {
      "cell_type": "code",
      "execution_count": null,
      "metadata": {
        "id": "di3DwdfE3o1z"
      },
      "outputs": [],
      "source": [
        ""
      ]
    },
    {
      "cell_type": "code",
      "execution_count": null,
      "metadata": {
        "colab": {
          "base_uri": "https://localhost:8080/"
        },
        "id": "Umgkn8Yu3aIE",
        "outputId": "a858c18a-4ea7-4ca1-841c-a3c04dd09a9f"
      },
      "outputs": [
        {
          "output_type": "execute_result",
          "data": {
            "text/plain": [
              "1           1.0\n",
              "3           3.0\n",
              "5           5.0\n",
              "10          9.0\n",
              "142        36.0\n",
              "          ...  \n",
              "33138    4260.0\n",
              "33139    1979.0\n",
              "33140    1979.0\n",
              "33141     943.0\n",
              "33142    1957.0\n",
              "Name: content_id, Length: 22410, dtype: float64"
            ]
          },
          "metadata": {},
          "execution_count": 55
        }
      ],
      "source": [
        "pd.to_numeric(meta.content_id)"
      ]
    },
    {
      "cell_type": "code",
      "execution_count": null,
      "metadata": {
        "colab": {
          "base_uri": "https://localhost:8080/"
        },
        "id": "k-k-L3XscoQJ",
        "outputId": "1aeace46-5cc3-49b0-9e0a-b9ee4f4052d4"
      },
      "outputs": [
        {
          "output_type": "stream",
          "name": "stdout",
          "text": [
            "CPU times: user 3min 13s, sys: 2.09 s, total: 3min 15s\n",
            "Wall time: 3min 14s\n"
          ]
        }
      ],
      "source": [
        "%%time\n",
        "train['content_id']=0 # tarda ~5 min \n",
        "for x in meta.content_id.unique():\n",
        "  a=meta.loc[meta.content_id== x].asset_id.unique()\n",
        "  b=train.loc[train.asset_id.isin(a)].index\n",
        "  train.loc[b , 'content_id']= x"
      ]
    },
    {
      "cell_type": "code",
      "execution_count": null,
      "metadata": {
        "colab": {
          "base_uri": "https://localhost:8080/"
        },
        "id": "pWQs4rsc6a1r",
        "outputId": "3336f1bd-3a66-4356-a8a5-b3b57fda5dc8"
      },
      "outputs": [
        {
          "output_type": "execute_result",
          "data": {
            "text/plain": [
              "3454"
            ]
          },
          "metadata": {},
          "execution_count": 57
        }
      ],
      "source": [
        "train.content_id.nunique() # hay un contenido que no lo ha visto nadie ya que el conten_id de meta es mayor que e l de train."
      ]
    },
    {
      "cell_type": "code",
      "execution_count": null,
      "metadata": {
        "colab": {
          "base_uri": "https://localhost:8080/",
          "height": 206
        },
        "id": "YAnfEdfWxOUY",
        "outputId": "bca60e9c-aa5e-4a5f-bb75-ac67e0009dde"
      },
      "outputs": [
        {
          "output_type": "execute_result",
          "data": {
            "text/html": [
              "\n",
              "  <div id=\"df-3a650982-c10c-4dba-8ae0-226f7b1da131\">\n",
              "    <div class=\"colab-df-container\">\n",
              "      <div>\n",
              "<style scoped>\n",
              "    .dataframe tbody tr th:only-of-type {\n",
              "        vertical-align: middle;\n",
              "    }\n",
              "\n",
              "    .dataframe tbody tr th {\n",
              "        vertical-align: top;\n",
              "    }\n",
              "\n",
              "    .dataframe thead th {\n",
              "        text-align: right;\n",
              "    }\n",
              "</style>\n",
              "<table border=\"1\" class=\"dataframe\">\n",
              "  <thead>\n",
              "    <tr style=\"text-align: right;\">\n",
              "      <th></th>\n",
              "      <th>customer_id</th>\n",
              "      <th>account_id</th>\n",
              "      <th>device_type</th>\n",
              "      <th>asset_id</th>\n",
              "      <th>tunein</th>\n",
              "      <th>tuneout</th>\n",
              "      <th>resume</th>\n",
              "      <th>content_id</th>\n",
              "    </tr>\n",
              "  </thead>\n",
              "  <tbody>\n",
              "    <tr>\n",
              "      <th>0</th>\n",
              "      <td>0</td>\n",
              "      <td>90627</td>\n",
              "      <td>STATIONARY</td>\n",
              "      <td>18332.0</td>\n",
              "      <td>2021-02-18 22:52:00.0</td>\n",
              "      <td>2021-02-18 23:35:00.0</td>\n",
              "      <td>0</td>\n",
              "      <td>2040</td>\n",
              "    </tr>\n",
              "    <tr>\n",
              "      <th>1</th>\n",
              "      <td>0</td>\n",
              "      <td>90627</td>\n",
              "      <td>STATIONARY</td>\n",
              "      <td>24727.0</td>\n",
              "      <td>2021-03-24 23:17:00.0</td>\n",
              "      <td>2021-03-25 00:01:00.0</td>\n",
              "      <td>0</td>\n",
              "      <td>2040</td>\n",
              "    </tr>\n",
              "    <tr>\n",
              "      <th>2</th>\n",
              "      <td>1</td>\n",
              "      <td>3387</td>\n",
              "      <td>STB</td>\n",
              "      <td>895.0</td>\n",
              "      <td>2021-03-15 10:05:00.0</td>\n",
              "      <td>2021-03-15 10:23:00.0</td>\n",
              "      <td>0</td>\n",
              "      <td>1983</td>\n",
              "    </tr>\n",
              "    <tr>\n",
              "      <th>3</th>\n",
              "      <td>1</td>\n",
              "      <td>3387</td>\n",
              "      <td>STB</td>\n",
              "      <td>895.0</td>\n",
              "      <td>2021-03-15 10:23:00.0</td>\n",
              "      <td>2021-03-15 11:18:00.0</td>\n",
              "      <td>1</td>\n",
              "      <td>1983</td>\n",
              "    </tr>\n",
              "    <tr>\n",
              "      <th>4</th>\n",
              "      <td>1</td>\n",
              "      <td>3387</td>\n",
              "      <td>STB</td>\n",
              "      <td>26062.0</td>\n",
              "      <td>2021-03-16 09:24:00.0</td>\n",
              "      <td>2021-03-16 09:44:00.0</td>\n",
              "      <td>0</td>\n",
              "      <td>729</td>\n",
              "    </tr>\n",
              "  </tbody>\n",
              "</table>\n",
              "</div>\n",
              "      <button class=\"colab-df-convert\" onclick=\"convertToInteractive('df-3a650982-c10c-4dba-8ae0-226f7b1da131')\"\n",
              "              title=\"Convert this dataframe to an interactive table.\"\n",
              "              style=\"display:none;\">\n",
              "        \n",
              "  <svg xmlns=\"http://www.w3.org/2000/svg\" height=\"24px\"viewBox=\"0 0 24 24\"\n",
              "       width=\"24px\">\n",
              "    <path d=\"M0 0h24v24H0V0z\" fill=\"none\"/>\n",
              "    <path d=\"M18.56 5.44l.94 2.06.94-2.06 2.06-.94-2.06-.94-.94-2.06-.94 2.06-2.06.94zm-11 1L8.5 8.5l.94-2.06 2.06-.94-2.06-.94L8.5 2.5l-.94 2.06-2.06.94zm10 10l.94 2.06.94-2.06 2.06-.94-2.06-.94-.94-2.06-.94 2.06-2.06.94z\"/><path d=\"M17.41 7.96l-1.37-1.37c-.4-.4-.92-.59-1.43-.59-.52 0-1.04.2-1.43.59L10.3 9.45l-7.72 7.72c-.78.78-.78 2.05 0 2.83L4 21.41c.39.39.9.59 1.41.59.51 0 1.02-.2 1.41-.59l7.78-7.78 2.81-2.81c.8-.78.8-2.07 0-2.86zM5.41 20L4 18.59l7.72-7.72 1.47 1.35L5.41 20z\"/>\n",
              "  </svg>\n",
              "      </button>\n",
              "      \n",
              "  <style>\n",
              "    .colab-df-container {\n",
              "      display:flex;\n",
              "      flex-wrap:wrap;\n",
              "      gap: 12px;\n",
              "    }\n",
              "\n",
              "    .colab-df-convert {\n",
              "      background-color: #E8F0FE;\n",
              "      border: none;\n",
              "      border-radius: 50%;\n",
              "      cursor: pointer;\n",
              "      display: none;\n",
              "      fill: #1967D2;\n",
              "      height: 32px;\n",
              "      padding: 0 0 0 0;\n",
              "      width: 32px;\n",
              "    }\n",
              "\n",
              "    .colab-df-convert:hover {\n",
              "      background-color: #E2EBFA;\n",
              "      box-shadow: 0px 1px 2px rgba(60, 64, 67, 0.3), 0px 1px 3px 1px rgba(60, 64, 67, 0.15);\n",
              "      fill: #174EA6;\n",
              "    }\n",
              "\n",
              "    [theme=dark] .colab-df-convert {\n",
              "      background-color: #3B4455;\n",
              "      fill: #D2E3FC;\n",
              "    }\n",
              "\n",
              "    [theme=dark] .colab-df-convert:hover {\n",
              "      background-color: #434B5C;\n",
              "      box-shadow: 0px 1px 3px 1px rgba(0, 0, 0, 0.15);\n",
              "      filter: drop-shadow(0px 1px 2px rgba(0, 0, 0, 0.3));\n",
              "      fill: #FFFFFF;\n",
              "    }\n",
              "  </style>\n",
              "\n",
              "      <script>\n",
              "        const buttonEl =\n",
              "          document.querySelector('#df-3a650982-c10c-4dba-8ae0-226f7b1da131 button.colab-df-convert');\n",
              "        buttonEl.style.display =\n",
              "          google.colab.kernel.accessAllowed ? 'block' : 'none';\n",
              "\n",
              "        async function convertToInteractive(key) {\n",
              "          const element = document.querySelector('#df-3a650982-c10c-4dba-8ae0-226f7b1da131');\n",
              "          const dataTable =\n",
              "            await google.colab.kernel.invokeFunction('convertToInteractive',\n",
              "                                                     [key], {});\n",
              "          if (!dataTable) return;\n",
              "\n",
              "          const docLinkHtml = 'Like what you see? Visit the ' +\n",
              "            '<a target=\"_blank\" href=https://colab.research.google.com/notebooks/data_table.ipynb>data table notebook</a>'\n",
              "            + ' to learn more about interactive tables.';\n",
              "          element.innerHTML = '';\n",
              "          dataTable['output_type'] = 'display_data';\n",
              "          await google.colab.output.renderOutput(dataTable, element);\n",
              "          const docLink = document.createElement('div');\n",
              "          docLink.innerHTML = docLinkHtml;\n",
              "          element.appendChild(docLink);\n",
              "        }\n",
              "      </script>\n",
              "    </div>\n",
              "  </div>\n",
              "  "
            ],
            "text/plain": [
              "   customer_id  account_id  ... resume  content_id\n",
              "0            0       90627  ...      0        2040\n",
              "1            0       90627  ...      0        2040\n",
              "2            1        3387  ...      0        1983\n",
              "3            1        3387  ...      1        1983\n",
              "4            1        3387  ...      0         729\n",
              "\n",
              "[5 rows x 8 columns]"
            ]
          },
          "metadata": {},
          "execution_count": 58
        }
      ],
      "source": [
        "train.head()"
      ]
    },
    {
      "cell_type": "code",
      "execution_count": null,
      "metadata": {
        "colab": {
          "base_uri": "https://localhost:8080/"
        },
        "id": "pifZAKK8xeJE",
        "outputId": "30325b90-9ae7-489a-ee15-d877b9b9ffa1"
      },
      "outputs": [
        {
          "output_type": "execute_result",
          "data": {
            "text/plain": [
              "dtype('int64')"
            ]
          },
          "metadata": {},
          "execution_count": 59
        }
      ],
      "source": [
        "train.content_id.dtype"
      ]
    },
    {
      "cell_type": "code",
      "execution_count": null,
      "metadata": {
        "colab": {
          "base_uri": "https://localhost:8080/"
        },
        "id": "_bhpeygUxk0n",
        "outputId": "0b947431-8a9a-481d-91d9-56c204fc9c74"
      },
      "outputs": [
        {
          "output_type": "execute_result",
          "data": {
            "text/plain": [
              "0"
            ]
          },
          "metadata": {},
          "execution_count": 60
        }
      ],
      "source": [
        "train.content_id.isna().sum()"
      ]
    },
    {
      "cell_type": "markdown",
      "metadata": {
        "id": "ml6-O4H_8D8W"
      },
      "source": [
        "# Resumiendo \n",
        "\n",
        "\n",
        "*   Se cargaron los datos \n",
        "*   se evaluaron los datos faltantes, sobretodo en las columnas de show_type en donde se renombraron a peliculas, y en content_id los cuales los datos faltantes tenian que ver con los tutoriales para manejar la app.Estos ulimos se eliminaron del sist de recomendacion. Capaz que se puedan poner para los usuarios que recien comienzan a utilizar la app.\n",
        "\n",
        "*   Se eliminaron tanto del dataframe de train como de meta las peliculas/series cuyo contrato termina en Marzo del 2021.\n",
        "*   se vio la relacion de content_id con respecto a asset_id y se determino que content_id hace referencia al programa en si. Mientras que asset_id a los diferentes capitulos. Por lo tanto hace logica recomendar por content_id y no recomendar por capitulos (asset_id).\n",
        "* por ultimo se mapeo cada asset_id del dataframe de train con su respectivo content_id.\n",
        "\n",
        "\n",
        "\n"
      ]
    },
    {
      "cell_type": "code",
      "source": [
        ""
      ],
      "metadata": {
        "id": "vLKvYvz4SCCA"
      },
      "execution_count": null,
      "outputs": []
    },
    {
      "cell_type": "markdown",
      "metadata": {
        "id": "g9qAjY18n8QH"
      },
      "source": [
        "# Desarrollo del modelo final - inclusión de la variable tiempo de observacion -"
      ]
    },
    {
      "cell_type": "markdown",
      "metadata": {
        "id": "B3Lsx08ZJOQs"
      },
      "source": [
        "## Procesamiento de datos"
      ]
    },
    {
      "cell_type": "code",
      "execution_count": null,
      "metadata": {
        "colab": {
          "base_uri": "https://localhost:8080/"
        },
        "id": "D6rJ2243rCsO",
        "outputId": "87635c6f-f819-4411-a3b8-73b7251c540c"
      },
      "outputs": [
        {
          "output_type": "execute_result",
          "data": {
            "text/plain": [
              "(3354921, 8)"
            ]
          },
          "metadata": {},
          "execution_count": 61
        }
      ],
      "source": [
        "train.shape"
      ]
    },
    {
      "cell_type": "code",
      "execution_count": null,
      "metadata": {
        "colab": {
          "base_uri": "https://localhost:8080/",
          "height": 206
        },
        "id": "r5ivSg23plpK",
        "outputId": "2ec3688f-f5f5-458a-fda7-bc353bad6763"
      },
      "outputs": [
        {
          "output_type": "execute_result",
          "data": {
            "text/html": [
              "\n",
              "  <div id=\"df-b537a167-d736-465b-bd9d-2be37d30c87d\">\n",
              "    <div class=\"colab-df-container\">\n",
              "      <div>\n",
              "<style scoped>\n",
              "    .dataframe tbody tr th:only-of-type {\n",
              "        vertical-align: middle;\n",
              "    }\n",
              "\n",
              "    .dataframe tbody tr th {\n",
              "        vertical-align: top;\n",
              "    }\n",
              "\n",
              "    .dataframe thead th {\n",
              "        text-align: right;\n",
              "    }\n",
              "</style>\n",
              "<table border=\"1\" class=\"dataframe\">\n",
              "  <thead>\n",
              "    <tr style=\"text-align: right;\">\n",
              "      <th></th>\n",
              "      <th>customer_id</th>\n",
              "      <th>account_id</th>\n",
              "      <th>device_type</th>\n",
              "      <th>asset_id</th>\n",
              "      <th>tunein</th>\n",
              "      <th>tuneout</th>\n",
              "      <th>resume</th>\n",
              "      <th>content_id</th>\n",
              "    </tr>\n",
              "  </thead>\n",
              "  <tbody>\n",
              "    <tr>\n",
              "      <th>0</th>\n",
              "      <td>0</td>\n",
              "      <td>90627</td>\n",
              "      <td>STATIONARY</td>\n",
              "      <td>18332.0</td>\n",
              "      <td>2021-02-18 22:52:00.0</td>\n",
              "      <td>2021-02-18 23:35:00.0</td>\n",
              "      <td>0</td>\n",
              "      <td>2040</td>\n",
              "    </tr>\n",
              "    <tr>\n",
              "      <th>1</th>\n",
              "      <td>0</td>\n",
              "      <td>90627</td>\n",
              "      <td>STATIONARY</td>\n",
              "      <td>24727.0</td>\n",
              "      <td>2021-03-24 23:17:00.0</td>\n",
              "      <td>2021-03-25 00:01:00.0</td>\n",
              "      <td>0</td>\n",
              "      <td>2040</td>\n",
              "    </tr>\n",
              "    <tr>\n",
              "      <th>2</th>\n",
              "      <td>1</td>\n",
              "      <td>3387</td>\n",
              "      <td>STB</td>\n",
              "      <td>895.0</td>\n",
              "      <td>2021-03-15 10:05:00.0</td>\n",
              "      <td>2021-03-15 10:23:00.0</td>\n",
              "      <td>0</td>\n",
              "      <td>1983</td>\n",
              "    </tr>\n",
              "    <tr>\n",
              "      <th>3</th>\n",
              "      <td>1</td>\n",
              "      <td>3387</td>\n",
              "      <td>STB</td>\n",
              "      <td>895.0</td>\n",
              "      <td>2021-03-15 10:23:00.0</td>\n",
              "      <td>2021-03-15 11:18:00.0</td>\n",
              "      <td>1</td>\n",
              "      <td>1983</td>\n",
              "    </tr>\n",
              "    <tr>\n",
              "      <th>4</th>\n",
              "      <td>1</td>\n",
              "      <td>3387</td>\n",
              "      <td>STB</td>\n",
              "      <td>26062.0</td>\n",
              "      <td>2021-03-16 09:24:00.0</td>\n",
              "      <td>2021-03-16 09:44:00.0</td>\n",
              "      <td>0</td>\n",
              "      <td>729</td>\n",
              "    </tr>\n",
              "  </tbody>\n",
              "</table>\n",
              "</div>\n",
              "      <button class=\"colab-df-convert\" onclick=\"convertToInteractive('df-b537a167-d736-465b-bd9d-2be37d30c87d')\"\n",
              "              title=\"Convert this dataframe to an interactive table.\"\n",
              "              style=\"display:none;\">\n",
              "        \n",
              "  <svg xmlns=\"http://www.w3.org/2000/svg\" height=\"24px\"viewBox=\"0 0 24 24\"\n",
              "       width=\"24px\">\n",
              "    <path d=\"M0 0h24v24H0V0z\" fill=\"none\"/>\n",
              "    <path d=\"M18.56 5.44l.94 2.06.94-2.06 2.06-.94-2.06-.94-.94-2.06-.94 2.06-2.06.94zm-11 1L8.5 8.5l.94-2.06 2.06-.94-2.06-.94L8.5 2.5l-.94 2.06-2.06.94zm10 10l.94 2.06.94-2.06 2.06-.94-2.06-.94-.94-2.06-.94 2.06-2.06.94z\"/><path d=\"M17.41 7.96l-1.37-1.37c-.4-.4-.92-.59-1.43-.59-.52 0-1.04.2-1.43.59L10.3 9.45l-7.72 7.72c-.78.78-.78 2.05 0 2.83L4 21.41c.39.39.9.59 1.41.59.51 0 1.02-.2 1.41-.59l7.78-7.78 2.81-2.81c.8-.78.8-2.07 0-2.86zM5.41 20L4 18.59l7.72-7.72 1.47 1.35L5.41 20z\"/>\n",
              "  </svg>\n",
              "      </button>\n",
              "      \n",
              "  <style>\n",
              "    .colab-df-container {\n",
              "      display:flex;\n",
              "      flex-wrap:wrap;\n",
              "      gap: 12px;\n",
              "    }\n",
              "\n",
              "    .colab-df-convert {\n",
              "      background-color: #E8F0FE;\n",
              "      border: none;\n",
              "      border-radius: 50%;\n",
              "      cursor: pointer;\n",
              "      display: none;\n",
              "      fill: #1967D2;\n",
              "      height: 32px;\n",
              "      padding: 0 0 0 0;\n",
              "      width: 32px;\n",
              "    }\n",
              "\n",
              "    .colab-df-convert:hover {\n",
              "      background-color: #E2EBFA;\n",
              "      box-shadow: 0px 1px 2px rgba(60, 64, 67, 0.3), 0px 1px 3px 1px rgba(60, 64, 67, 0.15);\n",
              "      fill: #174EA6;\n",
              "    }\n",
              "\n",
              "    [theme=dark] .colab-df-convert {\n",
              "      background-color: #3B4455;\n",
              "      fill: #D2E3FC;\n",
              "    }\n",
              "\n",
              "    [theme=dark] .colab-df-convert:hover {\n",
              "      background-color: #434B5C;\n",
              "      box-shadow: 0px 1px 3px 1px rgba(0, 0, 0, 0.15);\n",
              "      filter: drop-shadow(0px 1px 2px rgba(0, 0, 0, 0.3));\n",
              "      fill: #FFFFFF;\n",
              "    }\n",
              "  </style>\n",
              "\n",
              "      <script>\n",
              "        const buttonEl =\n",
              "          document.querySelector('#df-b537a167-d736-465b-bd9d-2be37d30c87d button.colab-df-convert');\n",
              "        buttonEl.style.display =\n",
              "          google.colab.kernel.accessAllowed ? 'block' : 'none';\n",
              "\n",
              "        async function convertToInteractive(key) {\n",
              "          const element = document.querySelector('#df-b537a167-d736-465b-bd9d-2be37d30c87d');\n",
              "          const dataTable =\n",
              "            await google.colab.kernel.invokeFunction('convertToInteractive',\n",
              "                                                     [key], {});\n",
              "          if (!dataTable) return;\n",
              "\n",
              "          const docLinkHtml = 'Like what you see? Visit the ' +\n",
              "            '<a target=\"_blank\" href=https://colab.research.google.com/notebooks/data_table.ipynb>data table notebook</a>'\n",
              "            + ' to learn more about interactive tables.';\n",
              "          element.innerHTML = '';\n",
              "          dataTable['output_type'] = 'display_data';\n",
              "          await google.colab.output.renderOutput(dataTable, element);\n",
              "          const docLink = document.createElement('div');\n",
              "          docLink.innerHTML = docLinkHtml;\n",
              "          element.appendChild(docLink);\n",
              "        }\n",
              "      </script>\n",
              "    </div>\n",
              "  </div>\n",
              "  "
            ],
            "text/plain": [
              "   customer_id  account_id  ... resume  content_id\n",
              "0            0       90627  ...      0        2040\n",
              "1            0       90627  ...      0        2040\n",
              "2            1        3387  ...      0        1983\n",
              "3            1        3387  ...      1        1983\n",
              "4            1        3387  ...      0         729\n",
              "\n",
              "[5 rows x 8 columns]"
            ]
          },
          "metadata": {},
          "execution_count": 62
        }
      ],
      "source": [
        "train.head()\n"
      ]
    },
    {
      "cell_type": "code",
      "execution_count": null,
      "metadata": {
        "id": "iOIwOdlXpqqk"
      },
      "outputs": [],
      "source": [
        "col_a_util=['account_id', 'content_id','tunein','tuneout']"
      ]
    },
    {
      "cell_type": "code",
      "execution_count": null,
      "metadata": {
        "id": "sUAhMo-MqHDa"
      },
      "outputs": [],
      "source": [
        "train2= train[col_a_util].copy()"
      ]
    },
    {
      "cell_type": "code",
      "execution_count": null,
      "metadata": {
        "colab": {
          "base_uri": "https://localhost:8080/",
          "height": 206
        },
        "id": "pCDQHXM8qVZi",
        "outputId": "964c21f0-6bd6-441b-ad7e-64f132183cf9"
      },
      "outputs": [
        {
          "output_type": "execute_result",
          "data": {
            "text/html": [
              "\n",
              "  <div id=\"df-f665378b-5b13-493f-939f-8c1fa79f2d05\">\n",
              "    <div class=\"colab-df-container\">\n",
              "      <div>\n",
              "<style scoped>\n",
              "    .dataframe tbody tr th:only-of-type {\n",
              "        vertical-align: middle;\n",
              "    }\n",
              "\n",
              "    .dataframe tbody tr th {\n",
              "        vertical-align: top;\n",
              "    }\n",
              "\n",
              "    .dataframe thead th {\n",
              "        text-align: right;\n",
              "    }\n",
              "</style>\n",
              "<table border=\"1\" class=\"dataframe\">\n",
              "  <thead>\n",
              "    <tr style=\"text-align: right;\">\n",
              "      <th></th>\n",
              "      <th>account_id</th>\n",
              "      <th>content_id</th>\n",
              "      <th>tunein</th>\n",
              "      <th>tuneout</th>\n",
              "    </tr>\n",
              "  </thead>\n",
              "  <tbody>\n",
              "    <tr>\n",
              "      <th>0</th>\n",
              "      <td>90627</td>\n",
              "      <td>2040</td>\n",
              "      <td>2021-02-18 22:52:00.0</td>\n",
              "      <td>2021-02-18 23:35:00.0</td>\n",
              "    </tr>\n",
              "    <tr>\n",
              "      <th>1</th>\n",
              "      <td>90627</td>\n",
              "      <td>2040</td>\n",
              "      <td>2021-03-24 23:17:00.0</td>\n",
              "      <td>2021-03-25 00:01:00.0</td>\n",
              "    </tr>\n",
              "    <tr>\n",
              "      <th>2</th>\n",
              "      <td>3387</td>\n",
              "      <td>1983</td>\n",
              "      <td>2021-03-15 10:05:00.0</td>\n",
              "      <td>2021-03-15 10:23:00.0</td>\n",
              "    </tr>\n",
              "    <tr>\n",
              "      <th>3</th>\n",
              "      <td>3387</td>\n",
              "      <td>1983</td>\n",
              "      <td>2021-03-15 10:23:00.0</td>\n",
              "      <td>2021-03-15 11:18:00.0</td>\n",
              "    </tr>\n",
              "    <tr>\n",
              "      <th>4</th>\n",
              "      <td>3387</td>\n",
              "      <td>729</td>\n",
              "      <td>2021-03-16 09:24:00.0</td>\n",
              "      <td>2021-03-16 09:44:00.0</td>\n",
              "    </tr>\n",
              "  </tbody>\n",
              "</table>\n",
              "</div>\n",
              "      <button class=\"colab-df-convert\" onclick=\"convertToInteractive('df-f665378b-5b13-493f-939f-8c1fa79f2d05')\"\n",
              "              title=\"Convert this dataframe to an interactive table.\"\n",
              "              style=\"display:none;\">\n",
              "        \n",
              "  <svg xmlns=\"http://www.w3.org/2000/svg\" height=\"24px\"viewBox=\"0 0 24 24\"\n",
              "       width=\"24px\">\n",
              "    <path d=\"M0 0h24v24H0V0z\" fill=\"none\"/>\n",
              "    <path d=\"M18.56 5.44l.94 2.06.94-2.06 2.06-.94-2.06-.94-.94-2.06-.94 2.06-2.06.94zm-11 1L8.5 8.5l.94-2.06 2.06-.94-2.06-.94L8.5 2.5l-.94 2.06-2.06.94zm10 10l.94 2.06.94-2.06 2.06-.94-2.06-.94-.94-2.06-.94 2.06-2.06.94z\"/><path d=\"M17.41 7.96l-1.37-1.37c-.4-.4-.92-.59-1.43-.59-.52 0-1.04.2-1.43.59L10.3 9.45l-7.72 7.72c-.78.78-.78 2.05 0 2.83L4 21.41c.39.39.9.59 1.41.59.51 0 1.02-.2 1.41-.59l7.78-7.78 2.81-2.81c.8-.78.8-2.07 0-2.86zM5.41 20L4 18.59l7.72-7.72 1.47 1.35L5.41 20z\"/>\n",
              "  </svg>\n",
              "      </button>\n",
              "      \n",
              "  <style>\n",
              "    .colab-df-container {\n",
              "      display:flex;\n",
              "      flex-wrap:wrap;\n",
              "      gap: 12px;\n",
              "    }\n",
              "\n",
              "    .colab-df-convert {\n",
              "      background-color: #E8F0FE;\n",
              "      border: none;\n",
              "      border-radius: 50%;\n",
              "      cursor: pointer;\n",
              "      display: none;\n",
              "      fill: #1967D2;\n",
              "      height: 32px;\n",
              "      padding: 0 0 0 0;\n",
              "      width: 32px;\n",
              "    }\n",
              "\n",
              "    .colab-df-convert:hover {\n",
              "      background-color: #E2EBFA;\n",
              "      box-shadow: 0px 1px 2px rgba(60, 64, 67, 0.3), 0px 1px 3px 1px rgba(60, 64, 67, 0.15);\n",
              "      fill: #174EA6;\n",
              "    }\n",
              "\n",
              "    [theme=dark] .colab-df-convert {\n",
              "      background-color: #3B4455;\n",
              "      fill: #D2E3FC;\n",
              "    }\n",
              "\n",
              "    [theme=dark] .colab-df-convert:hover {\n",
              "      background-color: #434B5C;\n",
              "      box-shadow: 0px 1px 3px 1px rgba(0, 0, 0, 0.15);\n",
              "      filter: drop-shadow(0px 1px 2px rgba(0, 0, 0, 0.3));\n",
              "      fill: #FFFFFF;\n",
              "    }\n",
              "  </style>\n",
              "\n",
              "      <script>\n",
              "        const buttonEl =\n",
              "          document.querySelector('#df-f665378b-5b13-493f-939f-8c1fa79f2d05 button.colab-df-convert');\n",
              "        buttonEl.style.display =\n",
              "          google.colab.kernel.accessAllowed ? 'block' : 'none';\n",
              "\n",
              "        async function convertToInteractive(key) {\n",
              "          const element = document.querySelector('#df-f665378b-5b13-493f-939f-8c1fa79f2d05');\n",
              "          const dataTable =\n",
              "            await google.colab.kernel.invokeFunction('convertToInteractive',\n",
              "                                                     [key], {});\n",
              "          if (!dataTable) return;\n",
              "\n",
              "          const docLinkHtml = 'Like what you see? Visit the ' +\n",
              "            '<a target=\"_blank\" href=https://colab.research.google.com/notebooks/data_table.ipynb>data table notebook</a>'\n",
              "            + ' to learn more about interactive tables.';\n",
              "          element.innerHTML = '';\n",
              "          dataTable['output_type'] = 'display_data';\n",
              "          await google.colab.output.renderOutput(dataTable, element);\n",
              "          const docLink = document.createElement('div');\n",
              "          docLink.innerHTML = docLinkHtml;\n",
              "          element.appendChild(docLink);\n",
              "        }\n",
              "      </script>\n",
              "    </div>\n",
              "  </div>\n",
              "  "
            ],
            "text/plain": [
              "   account_id  content_id                 tunein                tuneout\n",
              "0       90627        2040  2021-02-18 22:52:00.0  2021-02-18 23:35:00.0\n",
              "1       90627        2040  2021-03-24 23:17:00.0  2021-03-25 00:01:00.0\n",
              "2        3387        1983  2021-03-15 10:05:00.0  2021-03-15 10:23:00.0\n",
              "3        3387        1983  2021-03-15 10:23:00.0  2021-03-15 11:18:00.0\n",
              "4        3387         729  2021-03-16 09:24:00.0  2021-03-16 09:44:00.0"
            ]
          },
          "metadata": {},
          "execution_count": 65
        }
      ],
      "source": [
        "train2.head()"
      ]
    },
    {
      "cell_type": "code",
      "execution_count": null,
      "metadata": {
        "id": "OvgVVKQwrmd6"
      },
      "outputs": [],
      "source": [
        "train2.tunein=pd.to_datetime(train2.tunein, format='%Y/%m/%d')"
      ]
    },
    {
      "cell_type": "code",
      "execution_count": null,
      "metadata": {
        "colab": {
          "base_uri": "https://localhost:8080/"
        },
        "id": "Ip9hd0c0rmd7",
        "outputId": "a2d00779-818a-4171-bc9d-d1a5ee30b2e7"
      },
      "outputs": [
        {
          "output_type": "execute_result",
          "data": {
            "text/plain": [
              "dtype('<M8[ns]')"
            ]
          },
          "metadata": {},
          "execution_count": 67
        }
      ],
      "source": [
        "train2.tunein.dtype"
      ]
    },
    {
      "cell_type": "code",
      "execution_count": null,
      "metadata": {
        "id": "97Qndxnfrmd7"
      },
      "outputs": [],
      "source": [
        "train2['YMD']=train2.tunein.dt.strftime('%Y-%m-%d')"
      ]
    },
    {
      "cell_type": "code",
      "execution_count": null,
      "metadata": {
        "colab": {
          "base_uri": "https://localhost:8080/"
        },
        "id": "PlXz1B8QsnJp",
        "outputId": "db35dc7f-53a9-41e4-b7d0-415dd8f61d7f"
      },
      "outputs": [
        {
          "output_type": "execute_result",
          "data": {
            "text/plain": [
              "0          2021-02-18\n",
              "1          2021-03-24\n",
              "2          2021-03-15\n",
              "3          2021-03-15\n",
              "4          2021-03-16\n",
              "              ...    \n",
              "3657796    2021-03-31\n",
              "3657797    2021-03-31\n",
              "3657798    2021-03-31\n",
              "3657799    2021-03-31\n",
              "3657800    2021-03-31\n",
              "Name: YMD, Length: 3354921, dtype: object"
            ]
          },
          "metadata": {},
          "execution_count": 69
        }
      ],
      "source": [
        "train2.YMD"
      ]
    },
    {
      "cell_type": "code",
      "execution_count": null,
      "metadata": {
        "id": "3uh3zfldzSSW"
      },
      "outputs": [],
      "source": [
        "train2.YMD=pd.to_datetime(train2.YMD , format='%Y/%m/%d')"
      ]
    },
    {
      "cell_type": "code",
      "execution_count": null,
      "metadata": {
        "id": "zB364MLNwuBt"
      },
      "outputs": [],
      "source": [
        "train2.tuneout=pd.to_datetime(train2.tuneout, format='%Y/%m/%d')"
      ]
    },
    {
      "cell_type": "code",
      "execution_count": null,
      "metadata": {
        "id": "ak00YsNaxPOk"
      },
      "outputs": [],
      "source": [
        "train2['tvisto']=train2.tuneout-train2.tunein #obtenemos la diferencia, es decir el tiempo visto."
      ]
    },
    {
      "cell_type": "code",
      "execution_count": null,
      "metadata": {
        "id": "RT_bXJwezpO1"
      },
      "outputs": [],
      "source": [
        "train2.tvisto= train2.tvisto.apply(lambda x : str(x) ) #Los pasamos a str para poder realizar  un split"
      ]
    },
    {
      "cell_type": "code",
      "execution_count": null,
      "metadata": {
        "colab": {
          "base_uri": "https://localhost:8080/"
        },
        "id": "mamS-nGZzAzn",
        "outputId": "ef11c13e-866e-4285-8384-582b01f2db2d"
      },
      "outputs": [
        {
          "output_type": "execute_result",
          "data": {
            "text/plain": [
              "0          0 days 00:43:00\n",
              "1          0 days 00:44:00\n",
              "2          0 days 00:18:00\n",
              "3          0 days 00:55:00\n",
              "4          0 days 00:20:00\n",
              "                ...       \n",
              "3657796    0 days 00:12:00\n",
              "3657797    0 days 00:12:00\n",
              "3657798    0 days 00:12:00\n",
              "3657799    0 days 00:04:00\n",
              "3657800    0 days 00:11:00\n",
              "Name: tvisto, Length: 3354921, dtype: object"
            ]
          },
          "metadata": {},
          "execution_count": 74
        }
      ],
      "source": [
        "train2.tvisto "
      ]
    },
    {
      "cell_type": "code",
      "execution_count": null,
      "metadata": {
        "id": "dnYDvGRO40GZ"
      },
      "outputs": [],
      "source": [
        "train2.tvisto= train2.tvisto.apply(lambda x : x.split(':',2)[1] ) #nos quedamos con los minutos "
      ]
    },
    {
      "cell_type": "code",
      "execution_count": null,
      "metadata": {
        "colab": {
          "base_uri": "https://localhost:8080/"
        },
        "id": "8JiHfqcZ5LMV",
        "outputId": "370200d0-361a-475d-89f4-b507cf3c6bc5"
      },
      "outputs": [
        {
          "output_type": "execute_result",
          "data": {
            "text/plain": [
              "0    43\n",
              "1    44\n",
              "2    18\n",
              "3    55\n",
              "4    20\n",
              "Name: tvisto, dtype: object"
            ]
          },
          "metadata": {},
          "execution_count": 76
        }
      ],
      "source": [
        "train2.tvisto.head()"
      ]
    },
    {
      "cell_type": "code",
      "execution_count": null,
      "metadata": {
        "colab": {
          "base_uri": "https://localhost:8080/"
        },
        "id": "ayNMaDcg5Qwd",
        "outputId": "92f2ba2c-6f23-435b-d07e-a608187cfc63"
      },
      "outputs": [
        {
          "output_type": "execute_result",
          "data": {
            "text/plain": [
              "0          43\n",
              "1          44\n",
              "2          18\n",
              "3          55\n",
              "4          20\n",
              "           ..\n",
              "3657796    12\n",
              "3657797    12\n",
              "3657798    12\n",
              "3657799     4\n",
              "3657800    11\n",
              "Name: tvisto, Length: 3354921, dtype: int64"
            ]
          },
          "metadata": {},
          "execution_count": 77
        }
      ],
      "source": [
        "train2.tvisto.astype(int) # Los pasamos de str a int."
      ]
    },
    {
      "cell_type": "code",
      "execution_count": null,
      "metadata": {
        "colab": {
          "base_uri": "https://localhost:8080/",
          "height": 206
        },
        "id": "AIutg4YZ5XBn",
        "outputId": "9ff8177d-9339-420b-9e90-8af2dd3aad1e"
      },
      "outputs": [
        {
          "output_type": "execute_result",
          "data": {
            "text/html": [
              "\n",
              "  <div id=\"df-b2201309-4ad0-4a8b-beb7-83a0596cf6b9\">\n",
              "    <div class=\"colab-df-container\">\n",
              "      <div>\n",
              "<style scoped>\n",
              "    .dataframe tbody tr th:only-of-type {\n",
              "        vertical-align: middle;\n",
              "    }\n",
              "\n",
              "    .dataframe tbody tr th {\n",
              "        vertical-align: top;\n",
              "    }\n",
              "\n",
              "    .dataframe thead th {\n",
              "        text-align: right;\n",
              "    }\n",
              "</style>\n",
              "<table border=\"1\" class=\"dataframe\">\n",
              "  <thead>\n",
              "    <tr style=\"text-align: right;\">\n",
              "      <th></th>\n",
              "      <th>account_id</th>\n",
              "      <th>content_id</th>\n",
              "      <th>tunein</th>\n",
              "      <th>tuneout</th>\n",
              "      <th>YMD</th>\n",
              "      <th>tvisto</th>\n",
              "    </tr>\n",
              "  </thead>\n",
              "  <tbody>\n",
              "    <tr>\n",
              "      <th>0</th>\n",
              "      <td>90627</td>\n",
              "      <td>2040</td>\n",
              "      <td>2021-02-18 22:52:00</td>\n",
              "      <td>2021-02-18 23:35:00</td>\n",
              "      <td>2021-02-18</td>\n",
              "      <td>43</td>\n",
              "    </tr>\n",
              "    <tr>\n",
              "      <th>1</th>\n",
              "      <td>90627</td>\n",
              "      <td>2040</td>\n",
              "      <td>2021-03-24 23:17:00</td>\n",
              "      <td>2021-03-25 00:01:00</td>\n",
              "      <td>2021-03-24</td>\n",
              "      <td>44</td>\n",
              "    </tr>\n",
              "    <tr>\n",
              "      <th>2</th>\n",
              "      <td>3387</td>\n",
              "      <td>1983</td>\n",
              "      <td>2021-03-15 10:05:00</td>\n",
              "      <td>2021-03-15 10:23:00</td>\n",
              "      <td>2021-03-15</td>\n",
              "      <td>18</td>\n",
              "    </tr>\n",
              "    <tr>\n",
              "      <th>3</th>\n",
              "      <td>3387</td>\n",
              "      <td>1983</td>\n",
              "      <td>2021-03-15 10:23:00</td>\n",
              "      <td>2021-03-15 11:18:00</td>\n",
              "      <td>2021-03-15</td>\n",
              "      <td>55</td>\n",
              "    </tr>\n",
              "    <tr>\n",
              "      <th>4</th>\n",
              "      <td>3387</td>\n",
              "      <td>729</td>\n",
              "      <td>2021-03-16 09:24:00</td>\n",
              "      <td>2021-03-16 09:44:00</td>\n",
              "      <td>2021-03-16</td>\n",
              "      <td>20</td>\n",
              "    </tr>\n",
              "  </tbody>\n",
              "</table>\n",
              "</div>\n",
              "      <button class=\"colab-df-convert\" onclick=\"convertToInteractive('df-b2201309-4ad0-4a8b-beb7-83a0596cf6b9')\"\n",
              "              title=\"Convert this dataframe to an interactive table.\"\n",
              "              style=\"display:none;\">\n",
              "        \n",
              "  <svg xmlns=\"http://www.w3.org/2000/svg\" height=\"24px\"viewBox=\"0 0 24 24\"\n",
              "       width=\"24px\">\n",
              "    <path d=\"M0 0h24v24H0V0z\" fill=\"none\"/>\n",
              "    <path d=\"M18.56 5.44l.94 2.06.94-2.06 2.06-.94-2.06-.94-.94-2.06-.94 2.06-2.06.94zm-11 1L8.5 8.5l.94-2.06 2.06-.94-2.06-.94L8.5 2.5l-.94 2.06-2.06.94zm10 10l.94 2.06.94-2.06 2.06-.94-2.06-.94-.94-2.06-.94 2.06-2.06.94z\"/><path d=\"M17.41 7.96l-1.37-1.37c-.4-.4-.92-.59-1.43-.59-.52 0-1.04.2-1.43.59L10.3 9.45l-7.72 7.72c-.78.78-.78 2.05 0 2.83L4 21.41c.39.39.9.59 1.41.59.51 0 1.02-.2 1.41-.59l7.78-7.78 2.81-2.81c.8-.78.8-2.07 0-2.86zM5.41 20L4 18.59l7.72-7.72 1.47 1.35L5.41 20z\"/>\n",
              "  </svg>\n",
              "      </button>\n",
              "      \n",
              "  <style>\n",
              "    .colab-df-container {\n",
              "      display:flex;\n",
              "      flex-wrap:wrap;\n",
              "      gap: 12px;\n",
              "    }\n",
              "\n",
              "    .colab-df-convert {\n",
              "      background-color: #E8F0FE;\n",
              "      border: none;\n",
              "      border-radius: 50%;\n",
              "      cursor: pointer;\n",
              "      display: none;\n",
              "      fill: #1967D2;\n",
              "      height: 32px;\n",
              "      padding: 0 0 0 0;\n",
              "      width: 32px;\n",
              "    }\n",
              "\n",
              "    .colab-df-convert:hover {\n",
              "      background-color: #E2EBFA;\n",
              "      box-shadow: 0px 1px 2px rgba(60, 64, 67, 0.3), 0px 1px 3px 1px rgba(60, 64, 67, 0.15);\n",
              "      fill: #174EA6;\n",
              "    }\n",
              "\n",
              "    [theme=dark] .colab-df-convert {\n",
              "      background-color: #3B4455;\n",
              "      fill: #D2E3FC;\n",
              "    }\n",
              "\n",
              "    [theme=dark] .colab-df-convert:hover {\n",
              "      background-color: #434B5C;\n",
              "      box-shadow: 0px 1px 3px 1px rgba(0, 0, 0, 0.15);\n",
              "      filter: drop-shadow(0px 1px 2px rgba(0, 0, 0, 0.3));\n",
              "      fill: #FFFFFF;\n",
              "    }\n",
              "  </style>\n",
              "\n",
              "      <script>\n",
              "        const buttonEl =\n",
              "          document.querySelector('#df-b2201309-4ad0-4a8b-beb7-83a0596cf6b9 button.colab-df-convert');\n",
              "        buttonEl.style.display =\n",
              "          google.colab.kernel.accessAllowed ? 'block' : 'none';\n",
              "\n",
              "        async function convertToInteractive(key) {\n",
              "          const element = document.querySelector('#df-b2201309-4ad0-4a8b-beb7-83a0596cf6b9');\n",
              "          const dataTable =\n",
              "            await google.colab.kernel.invokeFunction('convertToInteractive',\n",
              "                                                     [key], {});\n",
              "          if (!dataTable) return;\n",
              "\n",
              "          const docLinkHtml = 'Like what you see? Visit the ' +\n",
              "            '<a target=\"_blank\" href=https://colab.research.google.com/notebooks/data_table.ipynb>data table notebook</a>'\n",
              "            + ' to learn more about interactive tables.';\n",
              "          element.innerHTML = '';\n",
              "          dataTable['output_type'] = 'display_data';\n",
              "          await google.colab.output.renderOutput(dataTable, element);\n",
              "          const docLink = document.createElement('div');\n",
              "          docLink.innerHTML = docLinkHtml;\n",
              "          element.appendChild(docLink);\n",
              "        }\n",
              "      </script>\n",
              "    </div>\n",
              "  </div>\n",
              "  "
            ],
            "text/plain": [
              "   account_id  content_id  ...        YMD tvisto\n",
              "0       90627        2040  ... 2021-02-18     43\n",
              "1       90627        2040  ... 2021-03-24     44\n",
              "2        3387        1983  ... 2021-03-15     18\n",
              "3        3387        1983  ... 2021-03-15     55\n",
              "4        3387         729  ... 2021-03-16     20\n",
              "\n",
              "[5 rows x 6 columns]"
            ]
          },
          "metadata": {},
          "execution_count": 78
        }
      ],
      "source": [
        "train2.head()"
      ]
    },
    {
      "cell_type": "code",
      "execution_count": null,
      "metadata": {
        "colab": {
          "base_uri": "https://localhost:8080/"
        },
        "id": "ZzXUoudzw1rF",
        "outputId": "357fa38c-7984-4b39-e9ec-959047e23e6d"
      },
      "outputs": [
        {
          "output_type": "execute_result",
          "data": {
            "text/plain": [
              "0   2021-02-18 23:35:00\n",
              "1   2021-03-25 00:01:00\n",
              "2   2021-03-15 10:23:00\n",
              "3   2021-03-15 11:18:00\n",
              "4   2021-03-16 09:44:00\n",
              "Name: tuneout, dtype: datetime64[ns]"
            ]
          },
          "metadata": {},
          "execution_count": 79
        }
      ],
      "source": [
        "train2.tuneout.head()"
      ]
    },
    {
      "cell_type": "code",
      "execution_count": null,
      "metadata": {
        "id": "iG_sr0kpJeYX"
      },
      "outputs": [],
      "source": [
        "train2.tvisto=train2.tvisto.astype(int)"
      ]
    },
    {
      "cell_type": "code",
      "execution_count": null,
      "metadata": {
        "colab": {
          "base_uri": "https://localhost:8080/"
        },
        "id": "bSF9_AQMJ6RF",
        "outputId": "86d02ac3-776e-4c19-a5d6-a2669173d594"
      },
      "outputs": [
        {
          "output_type": "execute_result",
          "data": {
            "text/plain": [
              "Int64Index([3167232, 3167248, 3167249, 3167251], dtype='int64')"
            ]
          },
          "metadata": {},
          "execution_count": 81
        }
      ],
      "source": [
        "train2.loc[(train2.account_id == 2) & (train2.content_id == 6 )].index"
      ]
    },
    {
      "cell_type": "code",
      "execution_count": null,
      "metadata": {
        "colab": {
          "base_uri": "https://localhost:8080/"
        },
        "id": "Camnnk9xJX4n",
        "outputId": "6a03f632-f2a4-4b1b-87a5-26c07ea4e93c"
      },
      "outputs": [
        {
          "output_type": "execute_result",
          "data": {
            "text/plain": [
              "7.0"
            ]
          },
          "metadata": {},
          "execution_count": 82
        }
      ],
      "source": [
        "train2.loc[3167232, 'tvisto'].mean()"
      ]
    },
    {
      "cell_type": "code",
      "execution_count": null,
      "metadata": {
        "colab": {
          "base_uri": "https://localhost:8080/"
        },
        "id": "u4V0qNd8OFhR",
        "outputId": "838f5bda-2373-4970-a215-0ca4c9a8312b"
      },
      "outputs": [
        {
          "output_type": "execute_result",
          "data": {
            "text/plain": [
              "array([   6,  557, 1582,  433])"
            ]
          },
          "metadata": {},
          "execution_count": 83
        }
      ],
      "source": [
        "train2.loc[train2.account_id == 2 ].content_id.unique()"
      ]
    },
    {
      "cell_type": "code",
      "execution_count": null,
      "metadata": {
        "colab": {
          "base_uri": "https://localhost:8080/"
        },
        "id": "Pb4zZ4cBOIQK",
        "outputId": "fe9e68ee-8e2a-4986-d427-a16d3a030ad8"
      },
      "outputs": [
        {
          "output_type": "execute_result",
          "data": {
            "text/plain": [
              "array([90627,  3387,  3388, ...,  3385, 82934,  3386])"
            ]
          },
          "metadata": {},
          "execution_count": 84
        }
      ],
      "source": [
        "train2.account_id.unique()\n"
      ]
    },
    {
      "cell_type": "code",
      "execution_count": null,
      "metadata": {
        "colab": {
          "base_uri": "https://localhost:8080/",
          "height": 174
        },
        "id": "aXCIoyapOSAp",
        "outputId": "a6a0d3b5-741e-42ed-ba8b-dbe3e5b619da"
      },
      "outputs": [
        {
          "output_type": "execute_result",
          "data": {
            "text/html": [
              "\n",
              "  <div id=\"df-e0135a5d-28eb-4e50-b948-915d2d8645f8\">\n",
              "    <div class=\"colab-df-container\">\n",
              "      <div>\n",
              "<style scoped>\n",
              "    .dataframe tbody tr th:only-of-type {\n",
              "        vertical-align: middle;\n",
              "    }\n",
              "\n",
              "    .dataframe tbody tr th {\n",
              "        vertical-align: top;\n",
              "    }\n",
              "\n",
              "    .dataframe thead th {\n",
              "        text-align: right;\n",
              "    }\n",
              "</style>\n",
              "<table border=\"1\" class=\"dataframe\">\n",
              "  <thead>\n",
              "    <tr style=\"text-align: right;\">\n",
              "      <th></th>\n",
              "      <th>account_id</th>\n",
              "      <th>content_id</th>\n",
              "      <th>tunein</th>\n",
              "      <th>tuneout</th>\n",
              "      <th>YMD</th>\n",
              "      <th>tvisto</th>\n",
              "    </tr>\n",
              "  </thead>\n",
              "  <tbody>\n",
              "    <tr>\n",
              "      <th>3167232</th>\n",
              "      <td>2</td>\n",
              "      <td>6</td>\n",
              "      <td>2021-01-03 20:44:00</td>\n",
              "      <td>2021-01-03 21:51:00</td>\n",
              "      <td>2021-01-03</td>\n",
              "      <td>7</td>\n",
              "    </tr>\n",
              "    <tr>\n",
              "      <th>3167248</th>\n",
              "      <td>2</td>\n",
              "      <td>6</td>\n",
              "      <td>2021-01-20 18:52:00</td>\n",
              "      <td>2021-01-20 19:47:00</td>\n",
              "      <td>2021-01-20</td>\n",
              "      <td>55</td>\n",
              "    </tr>\n",
              "    <tr>\n",
              "      <th>3167249</th>\n",
              "      <td>2</td>\n",
              "      <td>6</td>\n",
              "      <td>2021-01-20 21:51:00</td>\n",
              "      <td>2021-01-20 22:46:00</td>\n",
              "      <td>2021-01-20</td>\n",
              "      <td>55</td>\n",
              "    </tr>\n",
              "    <tr>\n",
              "      <th>3167251</th>\n",
              "      <td>2</td>\n",
              "      <td>6</td>\n",
              "      <td>2021-01-20 22:46:00</td>\n",
              "      <td>2021-01-20 23:42:00</td>\n",
              "      <td>2021-01-20</td>\n",
              "      <td>56</td>\n",
              "    </tr>\n",
              "  </tbody>\n",
              "</table>\n",
              "</div>\n",
              "      <button class=\"colab-df-convert\" onclick=\"convertToInteractive('df-e0135a5d-28eb-4e50-b948-915d2d8645f8')\"\n",
              "              title=\"Convert this dataframe to an interactive table.\"\n",
              "              style=\"display:none;\">\n",
              "        \n",
              "  <svg xmlns=\"http://www.w3.org/2000/svg\" height=\"24px\"viewBox=\"0 0 24 24\"\n",
              "       width=\"24px\">\n",
              "    <path d=\"M0 0h24v24H0V0z\" fill=\"none\"/>\n",
              "    <path d=\"M18.56 5.44l.94 2.06.94-2.06 2.06-.94-2.06-.94-.94-2.06-.94 2.06-2.06.94zm-11 1L8.5 8.5l.94-2.06 2.06-.94-2.06-.94L8.5 2.5l-.94 2.06-2.06.94zm10 10l.94 2.06.94-2.06 2.06-.94-2.06-.94-.94-2.06-.94 2.06-2.06.94z\"/><path d=\"M17.41 7.96l-1.37-1.37c-.4-.4-.92-.59-1.43-.59-.52 0-1.04.2-1.43.59L10.3 9.45l-7.72 7.72c-.78.78-.78 2.05 0 2.83L4 21.41c.39.39.9.59 1.41.59.51 0 1.02-.2 1.41-.59l7.78-7.78 2.81-2.81c.8-.78.8-2.07 0-2.86zM5.41 20L4 18.59l7.72-7.72 1.47 1.35L5.41 20z\"/>\n",
              "  </svg>\n",
              "      </button>\n",
              "      \n",
              "  <style>\n",
              "    .colab-df-container {\n",
              "      display:flex;\n",
              "      flex-wrap:wrap;\n",
              "      gap: 12px;\n",
              "    }\n",
              "\n",
              "    .colab-df-convert {\n",
              "      background-color: #E8F0FE;\n",
              "      border: none;\n",
              "      border-radius: 50%;\n",
              "      cursor: pointer;\n",
              "      display: none;\n",
              "      fill: #1967D2;\n",
              "      height: 32px;\n",
              "      padding: 0 0 0 0;\n",
              "      width: 32px;\n",
              "    }\n",
              "\n",
              "    .colab-df-convert:hover {\n",
              "      background-color: #E2EBFA;\n",
              "      box-shadow: 0px 1px 2px rgba(60, 64, 67, 0.3), 0px 1px 3px 1px rgba(60, 64, 67, 0.15);\n",
              "      fill: #174EA6;\n",
              "    }\n",
              "\n",
              "    [theme=dark] .colab-df-convert {\n",
              "      background-color: #3B4455;\n",
              "      fill: #D2E3FC;\n",
              "    }\n",
              "\n",
              "    [theme=dark] .colab-df-convert:hover {\n",
              "      background-color: #434B5C;\n",
              "      box-shadow: 0px 1px 3px 1px rgba(0, 0, 0, 0.15);\n",
              "      filter: drop-shadow(0px 1px 2px rgba(0, 0, 0, 0.3));\n",
              "      fill: #FFFFFF;\n",
              "    }\n",
              "  </style>\n",
              "\n",
              "      <script>\n",
              "        const buttonEl =\n",
              "          document.querySelector('#df-e0135a5d-28eb-4e50-b948-915d2d8645f8 button.colab-df-convert');\n",
              "        buttonEl.style.display =\n",
              "          google.colab.kernel.accessAllowed ? 'block' : 'none';\n",
              "\n",
              "        async function convertToInteractive(key) {\n",
              "          const element = document.querySelector('#df-e0135a5d-28eb-4e50-b948-915d2d8645f8');\n",
              "          const dataTable =\n",
              "            await google.colab.kernel.invokeFunction('convertToInteractive',\n",
              "                                                     [key], {});\n",
              "          if (!dataTable) return;\n",
              "\n",
              "          const docLinkHtml = 'Like what you see? Visit the ' +\n",
              "            '<a target=\"_blank\" href=https://colab.research.google.com/notebooks/data_table.ipynb>data table notebook</a>'\n",
              "            + ' to learn more about interactive tables.';\n",
              "          element.innerHTML = '';\n",
              "          dataTable['output_type'] = 'display_data';\n",
              "          await google.colab.output.renderOutput(dataTable, element);\n",
              "          const docLink = document.createElement('div');\n",
              "          docLink.innerHTML = docLinkHtml;\n",
              "          element.appendChild(docLink);\n",
              "        }\n",
              "      </script>\n",
              "    </div>\n",
              "  </div>\n",
              "  "
            ],
            "text/plain": [
              "         account_id  content_id  ...        YMD tvisto\n",
              "3167232           2           6  ... 2021-01-03      7\n",
              "3167248           2           6  ... 2021-01-20     55\n",
              "3167249           2           6  ... 2021-01-20     55\n",
              "3167251           2           6  ... 2021-01-20     56\n",
              "\n",
              "[4 rows x 6 columns]"
            ]
          },
          "metadata": {},
          "execution_count": 85
        }
      ],
      "source": [
        "train2.loc[[3167232, 3167248, 3167249, 3167251]]"
      ]
    },
    {
      "cell_type": "code",
      "execution_count": null,
      "metadata": {
        "colab": {
          "base_uri": "https://localhost:8080/",
          "height": 206
        },
        "id": "glvTi7GrsC4Q",
        "outputId": "3170ce99-32cb-4264-d912-c2d3f1246eae"
      },
      "outputs": [
        {
          "output_type": "execute_result",
          "data": {
            "text/html": [
              "\n",
              "  <div id=\"df-8cca810c-aef4-433c-9838-d309b5341f80\">\n",
              "    <div class=\"colab-df-container\">\n",
              "      <div>\n",
              "<style scoped>\n",
              "    .dataframe tbody tr th:only-of-type {\n",
              "        vertical-align: middle;\n",
              "    }\n",
              "\n",
              "    .dataframe tbody tr th {\n",
              "        vertical-align: top;\n",
              "    }\n",
              "\n",
              "    .dataframe thead th {\n",
              "        text-align: right;\n",
              "    }\n",
              "</style>\n",
              "<table border=\"1\" class=\"dataframe\">\n",
              "  <thead>\n",
              "    <tr style=\"text-align: right;\">\n",
              "      <th></th>\n",
              "      <th>account_id</th>\n",
              "      <th>content_id</th>\n",
              "      <th>tunein</th>\n",
              "      <th>tuneout</th>\n",
              "      <th>YMD</th>\n",
              "      <th>tvisto</th>\n",
              "    </tr>\n",
              "  </thead>\n",
              "  <tbody>\n",
              "    <tr>\n",
              "      <th>0</th>\n",
              "      <td>90627</td>\n",
              "      <td>2040</td>\n",
              "      <td>2021-02-18 22:52:00</td>\n",
              "      <td>2021-02-18 23:35:00</td>\n",
              "      <td>2021-02-18</td>\n",
              "      <td>43</td>\n",
              "    </tr>\n",
              "    <tr>\n",
              "      <th>1</th>\n",
              "      <td>90627</td>\n",
              "      <td>2040</td>\n",
              "      <td>2021-03-24 23:17:00</td>\n",
              "      <td>2021-03-25 00:01:00</td>\n",
              "      <td>2021-03-24</td>\n",
              "      <td>44</td>\n",
              "    </tr>\n",
              "    <tr>\n",
              "      <th>2</th>\n",
              "      <td>3387</td>\n",
              "      <td>1983</td>\n",
              "      <td>2021-03-15 10:05:00</td>\n",
              "      <td>2021-03-15 10:23:00</td>\n",
              "      <td>2021-03-15</td>\n",
              "      <td>18</td>\n",
              "    </tr>\n",
              "    <tr>\n",
              "      <th>3</th>\n",
              "      <td>3387</td>\n",
              "      <td>1983</td>\n",
              "      <td>2021-03-15 10:23:00</td>\n",
              "      <td>2021-03-15 11:18:00</td>\n",
              "      <td>2021-03-15</td>\n",
              "      <td>55</td>\n",
              "    </tr>\n",
              "    <tr>\n",
              "      <th>4</th>\n",
              "      <td>3387</td>\n",
              "      <td>729</td>\n",
              "      <td>2021-03-16 09:24:00</td>\n",
              "      <td>2021-03-16 09:44:00</td>\n",
              "      <td>2021-03-16</td>\n",
              "      <td>20</td>\n",
              "    </tr>\n",
              "  </tbody>\n",
              "</table>\n",
              "</div>\n",
              "      <button class=\"colab-df-convert\" onclick=\"convertToInteractive('df-8cca810c-aef4-433c-9838-d309b5341f80')\"\n",
              "              title=\"Convert this dataframe to an interactive table.\"\n",
              "              style=\"display:none;\">\n",
              "        \n",
              "  <svg xmlns=\"http://www.w3.org/2000/svg\" height=\"24px\"viewBox=\"0 0 24 24\"\n",
              "       width=\"24px\">\n",
              "    <path d=\"M0 0h24v24H0V0z\" fill=\"none\"/>\n",
              "    <path d=\"M18.56 5.44l.94 2.06.94-2.06 2.06-.94-2.06-.94-.94-2.06-.94 2.06-2.06.94zm-11 1L8.5 8.5l.94-2.06 2.06-.94-2.06-.94L8.5 2.5l-.94 2.06-2.06.94zm10 10l.94 2.06.94-2.06 2.06-.94-2.06-.94-.94-2.06-.94 2.06-2.06.94z\"/><path d=\"M17.41 7.96l-1.37-1.37c-.4-.4-.92-.59-1.43-.59-.52 0-1.04.2-1.43.59L10.3 9.45l-7.72 7.72c-.78.78-.78 2.05 0 2.83L4 21.41c.39.39.9.59 1.41.59.51 0 1.02-.2 1.41-.59l7.78-7.78 2.81-2.81c.8-.78.8-2.07 0-2.86zM5.41 20L4 18.59l7.72-7.72 1.47 1.35L5.41 20z\"/>\n",
              "  </svg>\n",
              "      </button>\n",
              "      \n",
              "  <style>\n",
              "    .colab-df-container {\n",
              "      display:flex;\n",
              "      flex-wrap:wrap;\n",
              "      gap: 12px;\n",
              "    }\n",
              "\n",
              "    .colab-df-convert {\n",
              "      background-color: #E8F0FE;\n",
              "      border: none;\n",
              "      border-radius: 50%;\n",
              "      cursor: pointer;\n",
              "      display: none;\n",
              "      fill: #1967D2;\n",
              "      height: 32px;\n",
              "      padding: 0 0 0 0;\n",
              "      width: 32px;\n",
              "    }\n",
              "\n",
              "    .colab-df-convert:hover {\n",
              "      background-color: #E2EBFA;\n",
              "      box-shadow: 0px 1px 2px rgba(60, 64, 67, 0.3), 0px 1px 3px 1px rgba(60, 64, 67, 0.15);\n",
              "      fill: #174EA6;\n",
              "    }\n",
              "\n",
              "    [theme=dark] .colab-df-convert {\n",
              "      background-color: #3B4455;\n",
              "      fill: #D2E3FC;\n",
              "    }\n",
              "\n",
              "    [theme=dark] .colab-df-convert:hover {\n",
              "      background-color: #434B5C;\n",
              "      box-shadow: 0px 1px 3px 1px rgba(0, 0, 0, 0.15);\n",
              "      filter: drop-shadow(0px 1px 2px rgba(0, 0, 0, 0.3));\n",
              "      fill: #FFFFFF;\n",
              "    }\n",
              "  </style>\n",
              "\n",
              "      <script>\n",
              "        const buttonEl =\n",
              "          document.querySelector('#df-8cca810c-aef4-433c-9838-d309b5341f80 button.colab-df-convert');\n",
              "        buttonEl.style.display =\n",
              "          google.colab.kernel.accessAllowed ? 'block' : 'none';\n",
              "\n",
              "        async function convertToInteractive(key) {\n",
              "          const element = document.querySelector('#df-8cca810c-aef4-433c-9838-d309b5341f80');\n",
              "          const dataTable =\n",
              "            await google.colab.kernel.invokeFunction('convertToInteractive',\n",
              "                                                     [key], {});\n",
              "          if (!dataTable) return;\n",
              "\n",
              "          const docLinkHtml = 'Like what you see? Visit the ' +\n",
              "            '<a target=\"_blank\" href=https://colab.research.google.com/notebooks/data_table.ipynb>data table notebook</a>'\n",
              "            + ' to learn more about interactive tables.';\n",
              "          element.innerHTML = '';\n",
              "          dataTable['output_type'] = 'display_data';\n",
              "          await google.colab.output.renderOutput(dataTable, element);\n",
              "          const docLink = document.createElement('div');\n",
              "          docLink.innerHTML = docLinkHtml;\n",
              "          element.appendChild(docLink);\n",
              "        }\n",
              "      </script>\n",
              "    </div>\n",
              "  </div>\n",
              "  "
            ],
            "text/plain": [
              "   account_id  content_id  ...        YMD tvisto\n",
              "0       90627        2040  ... 2021-02-18     43\n",
              "1       90627        2040  ... 2021-03-24     44\n",
              "2        3387        1983  ... 2021-03-15     18\n",
              "3        3387        1983  ... 2021-03-15     55\n",
              "4        3387         729  ... 2021-03-16     20\n",
              "\n",
              "[5 rows x 6 columns]"
            ]
          },
          "metadata": {},
          "execution_count": 86
        }
      ],
      "source": [
        "train2.head()"
      ]
    },
    {
      "cell_type": "markdown",
      "metadata": {
        "id": "uH7Z2olBHgBG"
      },
      "source": [
        "## Divisón en train y test\n",
        "\n",
        "\n",
        "\n"
      ]
    },
    {
      "cell_type": "code",
      "execution_count": null,
      "metadata": {
        "id": "fkiN5Ha7sJ6h"
      },
      "outputs": [],
      "source": [
        "train3=train2.loc[(train2.tunein <= datetime(year=2021, month=3, day=1))].copy()"
      ]
    },
    {
      "cell_type": "code",
      "execution_count": null,
      "metadata": {
        "id": "6PFDHvsDsxgD"
      },
      "outputs": [],
      "source": [
        "test2=train2.loc[(train2.tunein >= datetime(year=2021, month=3, day=1))].copy()"
      ]
    },
    {
      "cell_type": "markdown",
      "metadata": {
        "id": "9D1GImjfHywi"
      },
      "source": [
        "## Greneracion de la vas variables long y dif."
      ]
    },
    {
      "cell_type": "code",
      "execution_count": null,
      "metadata": {
        "id": "3bC5XDRI6yOo",
        "colab": {
          "base_uri": "https://localhost:8080/"
        },
        "outputId": "22c2b3b6-a57d-48c1-f0c9-7052032ae431"
      },
      "outputs": [
        {
          "output_type": "stream",
          "name": "stderr",
          "text": [
            "100%|██████████| 3492/3492 [01:27<00:00, 39.84it/s]\n"
          ]
        }
      ],
      "source": [
        "train3['long']=0\n",
        "\n",
        "for cont in tqdm.tqdm(meta.content_id.unique()):\n",
        "  inde=train3.loc[train3.content_id == cont].index \n",
        "  train3.loc[inde, 'long']=round(meta.loc[meta.content_id == cont].run_time_min.median())"
      ]
    },
    {
      "cell_type": "code",
      "source": [
        "train3.head()"
      ],
      "metadata": {
        "colab": {
          "base_uri": "https://localhost:8080/",
          "height": 206
        },
        "id": "Q0Tu3n-qU8Sl",
        "outputId": "d2eb8ee3-ce7c-4760-94fb-736dea233bba"
      },
      "execution_count": null,
      "outputs": [
        {
          "output_type": "execute_result",
          "data": {
            "text/html": [
              "\n",
              "  <div id=\"df-dea0c654-f8a6-44ce-92a8-1efb895742dd\">\n",
              "    <div class=\"colab-df-container\">\n",
              "      <div>\n",
              "<style scoped>\n",
              "    .dataframe tbody tr th:only-of-type {\n",
              "        vertical-align: middle;\n",
              "    }\n",
              "\n",
              "    .dataframe tbody tr th {\n",
              "        vertical-align: top;\n",
              "    }\n",
              "\n",
              "    .dataframe thead th {\n",
              "        text-align: right;\n",
              "    }\n",
              "</style>\n",
              "<table border=\"1\" class=\"dataframe\">\n",
              "  <thead>\n",
              "    <tr style=\"text-align: right;\">\n",
              "      <th></th>\n",
              "      <th>account_id</th>\n",
              "      <th>content_id</th>\n",
              "      <th>tunein</th>\n",
              "      <th>tuneout</th>\n",
              "      <th>YMD</th>\n",
              "      <th>tvisto</th>\n",
              "      <th>long</th>\n",
              "    </tr>\n",
              "  </thead>\n",
              "  <tbody>\n",
              "    <tr>\n",
              "      <th>0</th>\n",
              "      <td>90627</td>\n",
              "      <td>2040</td>\n",
              "      <td>2021-02-18 22:52:00</td>\n",
              "      <td>2021-02-18 23:35:00</td>\n",
              "      <td>2021-02-18</td>\n",
              "      <td>43</td>\n",
              "      <td>42</td>\n",
              "    </tr>\n",
              "    <tr>\n",
              "      <th>6</th>\n",
              "      <td>3388</td>\n",
              "      <td>2100</td>\n",
              "      <td>2021-01-01 02:22:00</td>\n",
              "      <td>2021-01-01 02:34:00</td>\n",
              "      <td>2021-01-01</td>\n",
              "      <td>12</td>\n",
              "      <td>43</td>\n",
              "    </tr>\n",
              "    <tr>\n",
              "      <th>7</th>\n",
              "      <td>3388</td>\n",
              "      <td>2100</td>\n",
              "      <td>2021-01-02 01:02:00</td>\n",
              "      <td>2021-01-02 01:08:00</td>\n",
              "      <td>2021-01-02</td>\n",
              "      <td>6</td>\n",
              "      <td>43</td>\n",
              "    </tr>\n",
              "    <tr>\n",
              "      <th>8</th>\n",
              "      <td>3388</td>\n",
              "      <td>2100</td>\n",
              "      <td>2021-01-02 01:08:00</td>\n",
              "      <td>2021-01-02 01:21:00</td>\n",
              "      <td>2021-01-02</td>\n",
              "      <td>13</td>\n",
              "      <td>43</td>\n",
              "    </tr>\n",
              "    <tr>\n",
              "      <th>9</th>\n",
              "      <td>3388</td>\n",
              "      <td>2100</td>\n",
              "      <td>2021-01-04 01:32:00</td>\n",
              "      <td>2021-01-04 01:35:00</td>\n",
              "      <td>2021-01-04</td>\n",
              "      <td>3</td>\n",
              "      <td>43</td>\n",
              "    </tr>\n",
              "  </tbody>\n",
              "</table>\n",
              "</div>\n",
              "      <button class=\"colab-df-convert\" onclick=\"convertToInteractive('df-dea0c654-f8a6-44ce-92a8-1efb895742dd')\"\n",
              "              title=\"Convert this dataframe to an interactive table.\"\n",
              "              style=\"display:none;\">\n",
              "        \n",
              "  <svg xmlns=\"http://www.w3.org/2000/svg\" height=\"24px\"viewBox=\"0 0 24 24\"\n",
              "       width=\"24px\">\n",
              "    <path d=\"M0 0h24v24H0V0z\" fill=\"none\"/>\n",
              "    <path d=\"M18.56 5.44l.94 2.06.94-2.06 2.06-.94-2.06-.94-.94-2.06-.94 2.06-2.06.94zm-11 1L8.5 8.5l.94-2.06 2.06-.94-2.06-.94L8.5 2.5l-.94 2.06-2.06.94zm10 10l.94 2.06.94-2.06 2.06-.94-2.06-.94-.94-2.06-.94 2.06-2.06.94z\"/><path d=\"M17.41 7.96l-1.37-1.37c-.4-.4-.92-.59-1.43-.59-.52 0-1.04.2-1.43.59L10.3 9.45l-7.72 7.72c-.78.78-.78 2.05 0 2.83L4 21.41c.39.39.9.59 1.41.59.51 0 1.02-.2 1.41-.59l7.78-7.78 2.81-2.81c.8-.78.8-2.07 0-2.86zM5.41 20L4 18.59l7.72-7.72 1.47 1.35L5.41 20z\"/>\n",
              "  </svg>\n",
              "      </button>\n",
              "      \n",
              "  <style>\n",
              "    .colab-df-container {\n",
              "      display:flex;\n",
              "      flex-wrap:wrap;\n",
              "      gap: 12px;\n",
              "    }\n",
              "\n",
              "    .colab-df-convert {\n",
              "      background-color: #E8F0FE;\n",
              "      border: none;\n",
              "      border-radius: 50%;\n",
              "      cursor: pointer;\n",
              "      display: none;\n",
              "      fill: #1967D2;\n",
              "      height: 32px;\n",
              "      padding: 0 0 0 0;\n",
              "      width: 32px;\n",
              "    }\n",
              "\n",
              "    .colab-df-convert:hover {\n",
              "      background-color: #E2EBFA;\n",
              "      box-shadow: 0px 1px 2px rgba(60, 64, 67, 0.3), 0px 1px 3px 1px rgba(60, 64, 67, 0.15);\n",
              "      fill: #174EA6;\n",
              "    }\n",
              "\n",
              "    [theme=dark] .colab-df-convert {\n",
              "      background-color: #3B4455;\n",
              "      fill: #D2E3FC;\n",
              "    }\n",
              "\n",
              "    [theme=dark] .colab-df-convert:hover {\n",
              "      background-color: #434B5C;\n",
              "      box-shadow: 0px 1px 3px 1px rgba(0, 0, 0, 0.15);\n",
              "      filter: drop-shadow(0px 1px 2px rgba(0, 0, 0, 0.3));\n",
              "      fill: #FFFFFF;\n",
              "    }\n",
              "  </style>\n",
              "\n",
              "      <script>\n",
              "        const buttonEl =\n",
              "          document.querySelector('#df-dea0c654-f8a6-44ce-92a8-1efb895742dd button.colab-df-convert');\n",
              "        buttonEl.style.display =\n",
              "          google.colab.kernel.accessAllowed ? 'block' : 'none';\n",
              "\n",
              "        async function convertToInteractive(key) {\n",
              "          const element = document.querySelector('#df-dea0c654-f8a6-44ce-92a8-1efb895742dd');\n",
              "          const dataTable =\n",
              "            await google.colab.kernel.invokeFunction('convertToInteractive',\n",
              "                                                     [key], {});\n",
              "          if (!dataTable) return;\n",
              "\n",
              "          const docLinkHtml = 'Like what you see? Visit the ' +\n",
              "            '<a target=\"_blank\" href=https://colab.research.google.com/notebooks/data_table.ipynb>data table notebook</a>'\n",
              "            + ' to learn more about interactive tables.';\n",
              "          element.innerHTML = '';\n",
              "          dataTable['output_type'] = 'display_data';\n",
              "          await google.colab.output.renderOutput(dataTable, element);\n",
              "          const docLink = document.createElement('div');\n",
              "          docLink.innerHTML = docLinkHtml;\n",
              "          element.appendChild(docLink);\n",
              "        }\n",
              "      </script>\n",
              "    </div>\n",
              "  </div>\n",
              "  "
            ],
            "text/plain": [
              "   account_id  content_id              tunein  ...        YMD tvisto  long\n",
              "0       90627        2040 2021-02-18 22:52:00  ... 2021-02-18     43    42\n",
              "6        3388        2100 2021-01-01 02:22:00  ... 2021-01-01     12    43\n",
              "7        3388        2100 2021-01-02 01:02:00  ... 2021-01-02      6    43\n",
              "8        3388        2100 2021-01-02 01:08:00  ... 2021-01-02     13    43\n",
              "9        3388        2100 2021-01-04 01:32:00  ... 2021-01-04      3    43\n",
              "\n",
              "[5 rows x 7 columns]"
            ]
          },
          "metadata": {},
          "execution_count": 145
        }
      ]
    },
    {
      "cell_type": "code",
      "source": [
        ""
      ],
      "metadata": {
        "id": "POivYQeTXILX"
      },
      "execution_count": null,
      "outputs": []
    },
    {
      "cell_type": "code",
      "source": [
        "train3['dif']=train3.tvisto/train3.long"
      ],
      "metadata": {
        "id": "zhHEyFrlUvM-"
      },
      "execution_count": null,
      "outputs": []
    },
    {
      "cell_type": "code",
      "source": [
        "sns.boxplot(train3.dif)\n",
        "plt.show()"
      ],
      "metadata": {
        "colab": {
          "base_uri": "https://localhost:8080/",
          "height": 335
        },
        "id": "M7x-bkWcVChd",
        "outputId": "f87172da-5af8-4e6e-f6e0-32b57dce60e2"
      },
      "execution_count": null,
      "outputs": [
        {
          "output_type": "stream",
          "name": "stderr",
          "text": [
            "/usr/local/lib/python3.7/dist-packages/seaborn/_decorators.py:43: FutureWarning: Pass the following variable as a keyword arg: x. From version 0.12, the only valid positional argument will be `data`, and passing other arguments without an explicit keyword will result in an error or misinterpretation.\n",
            "  FutureWarning\n"
          ]
        },
        {
          "output_type": "display_data",
          "data": {
            "image/png": "[encoded data removed]",
            "text/plain": [
              "<Figure size 432x288 with 1 Axes>"
            ]
          },
          "metadata": {
            "needs_background": "light"
          }
        }
      ]
    },
    {
      "cell_type": "code",
      "source": [
        "def unos(df, x ):\n",
        "  for c in df.index:\n",
        "    if (df.loc[c, 'tvisto'] >= df.loc[c, 'long']):\n",
        "      x=1\n",
        "    return x"
      ],
      "metadata": {
        "id": "Ktk5m-l5Xxku"
      },
      "execution_count": null,
      "outputs": []
    },
    {
      "cell_type": "code",
      "source": [
        "train3.dif.apply(lambda x : unos(train3 , x))"
      ],
      "metadata": {
        "colab": {
          "base_uri": "https://localhost:8080/"
        },
        "id": "FbshT67UZC1L",
        "outputId": "82ac7c95-a1f9-4426-a5ac-2ea9dc03eefd"
      },
      "execution_count": null,
      "outputs": [
        {
          "output_type": "execute_result",
          "data": {
            "text/plain": [
              "0          1\n",
              "6          1\n",
              "7          1\n",
              "8          1\n",
              "9          1\n",
              "          ..\n",
              "3657519    1\n",
              "3657520    1\n",
              "3657521    1\n",
              "3657522    1\n",
              "3657523    1\n",
              "Name: dif, Length: 2036896, dtype: int64"
            ]
          },
          "metadata": {},
          "execution_count": 149
        }
      ]
    },
    {
      "cell_type": "code",
      "source": [
        "sns.boxplot(train3.dif)\n",
        "plt.show()"
      ],
      "metadata": {
        "colab": {
          "base_uri": "https://localhost:8080/",
          "height": 335
        },
        "id": "5zIFOoBcZyoB",
        "outputId": "48606934-2dac-45cf-c910-4a27fcc60deb"
      },
      "execution_count": null,
      "outputs": [
        {
          "output_type": "stream",
          "name": "stderr",
          "text": [
            "/usr/local/lib/python3.7/dist-packages/seaborn/_decorators.py:43: FutureWarning: Pass the following variable as a keyword arg: x. From version 0.12, the only valid positional argument will be `data`, and passing other arguments without an explicit keyword will result in an error or misinterpretation.\n",
            "  FutureWarning\n"
          ]
        },
        {
          "output_type": "display_data",
          "data": {
            "image/png": "[encoded data removed]",
            "text/plain": [
              "<Figure size 432x288 with 1 Axes>"
            ]
          },
          "metadata": {
            "needs_background": "light"
          }
        }
      ]
    },
    {
      "cell_type": "code",
      "source": [
        "train3.loc[train3.loc[train3.dif>=1].index, 'dif']=1"
      ],
      "metadata": {
        "id": "O-bMIcWnVpkT"
      },
      "execution_count": null,
      "outputs": []
    },
    {
      "cell_type": "code",
      "source": [
        "sns.boxplot(train3.dif)\n",
        "plt.show()"
      ],
      "metadata": {
        "colab": {
          "base_uri": "https://localhost:8080/",
          "height": 335
        },
        "id": "9KLaMugIVyGi",
        "outputId": "9060ee91-7078-4c9f-d81c-582fc0b18db2"
      },
      "execution_count": null,
      "outputs": [
        {
          "output_type": "stream",
          "name": "stderr",
          "text": [
            "/usr/local/lib/python3.7/dist-packages/seaborn/_decorators.py:43: FutureWarning: Pass the following variable as a keyword arg: x. From version 0.12, the only valid positional argument will be `data`, and passing other arguments without an explicit keyword will result in an error or misinterpretation.\n",
            "  FutureWarning\n"
          ]
        },
        {
          "output_type": "display_data",
          "data": {
            "image/png": "[encoded data removed]",
            "text/plain": [
              "<Figure size 432x288 with 1 Axes>"
            ]
          },
          "metadata": {
            "needs_background": "light"
          }
        }
      ]
    },
    {
      "cell_type": "code",
      "source": [
        "train3=train3.groupby(['content_id','account_id'], as_index=False).agg({'dif':'median', 'tvisto':'mean','long':'mean'})"
      ],
      "metadata": {
        "id": "FJHkWwWYV9Mr"
      },
      "execution_count": null,
      "outputs": []
    },
    {
      "cell_type": "code",
      "execution_count": null,
      "metadata": {
        "id": "UDnaTtbeqWID"
      },
      "outputs": [],
      "source": [
        "top10v=train3.groupby('content_id',as_index= False).agg({'tvisto':'sum'}).sort_values(by = 'tvisto', ascending=False).head(10)"
      ]
    },
    {
      "cell_type": "markdown",
      "metadata": {
        "id": "wQ3dV6XX1n17"
      },
      "source": [
        "## Eda de los contenidos vistos "
      ]
    },
    {
      "cell_type": "markdown",
      "metadata": {
        "id": "DwUJkb7RseuF"
      },
      "source": [
        "El contenido mas tiempo visto"
      ]
    },
    {
      "cell_type": "code",
      "execution_count": null,
      "metadata": {
        "id": "8w9jdaQTpCYm",
        "colab": {
          "base_uri": "https://localhost:8080/",
          "height": 280
        },
        "outputId": "8fbd23bf-c347-4992-cc5c-078964322119"
      },
      "outputs": [
        {
          "output_type": "display_data",
          "data": {
            "image/png": "[encoded data removed]",
            "text/plain": [
              "<Figure size 432x288 with 1 Axes>"
            ]
          },
          "metadata": {
            "needs_background": "light"
          }
        }
      ],
      "source": [
        "sns.barplot(x=top10v.content_id, y=top10v.tvisto, order=top10v.loc[top10v.tvisto.sort_values(ascending=False).index].content_id.values)\n",
        "plt.show()"
      ]
    },
    {
      "cell_type": "code",
      "execution_count": null,
      "metadata": {
        "id": "yfQZd3hOtC9d"
      },
      "outputs": [],
      "source": [
        "top10l=train3.groupby('content_id',as_index= False).agg({'long':'sum'}).sort_values(by = 'long', ascending=False).head(10)"
      ]
    },
    {
      "cell_type": "code",
      "execution_count": null,
      "metadata": {
        "id": "KfGY0qdLtOYr",
        "colab": {
          "base_uri": "https://localhost:8080/",
          "height": 363
        },
        "outputId": "4a8cc410-3af8-45fb-c721-43cfec8d66cc"
      },
      "outputs": [
        {
          "output_type": "execute_result",
          "data": {
            "text/html": [
              "\n",
              "  <div id=\"df-a492d09d-eb7b-4995-a4e7-d33057234e8d\">\n",
              "    <div class=\"colab-df-container\">\n",
              "      <div>\n",
              "<style scoped>\n",
              "    .dataframe tbody tr th:only-of-type {\n",
              "        vertical-align: middle;\n",
              "    }\n",
              "\n",
              "    .dataframe tbody tr th {\n",
              "        vertical-align: top;\n",
              "    }\n",
              "\n",
              "    .dataframe thead th {\n",
              "        text-align: right;\n",
              "    }\n",
              "</style>\n",
              "<table border=\"1\" class=\"dataframe\">\n",
              "  <thead>\n",
              "    <tr style=\"text-align: right;\">\n",
              "      <th></th>\n",
              "      <th>content_id</th>\n",
              "      <th>long</th>\n",
              "    </tr>\n",
              "  </thead>\n",
              "  <tbody>\n",
              "    <tr>\n",
              "      <th>2804</th>\n",
              "      <td>3806</td>\n",
              "      <td>578292</td>\n",
              "    </tr>\n",
              "    <tr>\n",
              "      <th>1059</th>\n",
              "      <td>2040</td>\n",
              "      <td>482202</td>\n",
              "    </tr>\n",
              "    <tr>\n",
              "      <th>2552</th>\n",
              "      <td>3550</td>\n",
              "      <td>462978</td>\n",
              "    </tr>\n",
              "    <tr>\n",
              "      <th>2387</th>\n",
              "      <td>3381</td>\n",
              "      <td>408330</td>\n",
              "    </tr>\n",
              "    <tr>\n",
              "      <th>2600</th>\n",
              "      <td>3598</td>\n",
              "      <td>380972</td>\n",
              "    </tr>\n",
              "    <tr>\n",
              "      <th>2390</th>\n",
              "      <td>3384</td>\n",
              "      <td>355652</td>\n",
              "    </tr>\n",
              "    <tr>\n",
              "      <th>1979</th>\n",
              "      <td>2972</td>\n",
              "      <td>343680</td>\n",
              "    </tr>\n",
              "    <tr>\n",
              "      <th>2216</th>\n",
              "      <td>3210</td>\n",
              "      <td>337928</td>\n",
              "    </tr>\n",
              "    <tr>\n",
              "      <th>562</th>\n",
              "      <td>724</td>\n",
              "      <td>324750</td>\n",
              "    </tr>\n",
              "    <tr>\n",
              "      <th>2709</th>\n",
              "      <td>3711</td>\n",
              "      <td>298248</td>\n",
              "    </tr>\n",
              "  </tbody>\n",
              "</table>\n",
              "</div>\n",
              "      <button class=\"colab-df-convert\" onclick=\"convertToInteractive('df-a492d09d-eb7b-4995-a4e7-d33057234e8d')\"\n",
              "              title=\"Convert this dataframe to an interactive table.\"\n",
              "              style=\"display:none;\">\n",
              "        \n",
              "  <svg xmlns=\"http://www.w3.org/2000/svg\" height=\"24px\"viewBox=\"0 0 24 24\"\n",
              "       width=\"24px\">\n",
              "    <path d=\"M0 0h24v24H0V0z\" fill=\"none\"/>\n",
              "    <path d=\"M18.56 5.44l.94 2.06.94-2.06 2.06-.94-2.06-.94-.94-2.06-.94 2.06-2.06.94zm-11 1L8.5 8.5l.94-2.06 2.06-.94-2.06-.94L8.5 2.5l-.94 2.06-2.06.94zm10 10l.94 2.06.94-2.06 2.06-.94-2.06-.94-.94-2.06-.94 2.06-2.06.94z\"/><path d=\"M17.41 7.96l-1.37-1.37c-.4-.4-.92-.59-1.43-.59-.52 0-1.04.2-1.43.59L10.3 9.45l-7.72 7.72c-.78.78-.78 2.05 0 2.83L4 21.41c.39.39.9.59 1.41.59.51 0 1.02-.2 1.41-.59l7.78-7.78 2.81-2.81c.8-.78.8-2.07 0-2.86zM5.41 20L4 18.59l7.72-7.72 1.47 1.35L5.41 20z\"/>\n",
              "  </svg>\n",
              "      </button>\n",
              "      \n",
              "  <style>\n",
              "    .colab-df-container {\n",
              "      display:flex;\n",
              "      flex-wrap:wrap;\n",
              "      gap: 12px;\n",
              "    }\n",
              "\n",
              "    .colab-df-convert {\n",
              "      background-color: #E8F0FE;\n",
              "      border: none;\n",
              "      border-radius: 50%;\n",
              "      cursor: pointer;\n",
              "      display: none;\n",
              "      fill: #1967D2;\n",
              "      height: 32px;\n",
              "      padding: 0 0 0 0;\n",
              "      width: 32px;\n",
              "    }\n",
              "\n",
              "    .colab-df-convert:hover {\n",
              "      background-color: #E2EBFA;\n",
              "      box-shadow: 0px 1px 2px rgba(60, 64, 67, 0.3), 0px 1px 3px 1px rgba(60, 64, 67, 0.15);\n",
              "      fill: #174EA6;\n",
              "    }\n",
              "\n",
              "    [theme=dark] .colab-df-convert {\n",
              "      background-color: #3B4455;\n",
              "      fill: #D2E3FC;\n",
              "    }\n",
              "\n",
              "    [theme=dark] .colab-df-convert:hover {\n",
              "      background-color: #434B5C;\n",
              "      box-shadow: 0px 1px 3px 1px rgba(0, 0, 0, 0.15);\n",
              "      filter: drop-shadow(0px 1px 2px rgba(0, 0, 0, 0.3));\n",
              "      fill: #FFFFFF;\n",
              "    }\n",
              "  </style>\n",
              "\n",
              "      <script>\n",
              "        const buttonEl =\n",
              "          document.querySelector('#df-a492d09d-eb7b-4995-a4e7-d33057234e8d button.colab-df-convert');\n",
              "        buttonEl.style.display =\n",
              "          google.colab.kernel.accessAllowed ? 'block' : 'none';\n",
              "\n",
              "        async function convertToInteractive(key) {\n",
              "          const element = document.querySelector('#df-a492d09d-eb7b-4995-a4e7-d33057234e8d');\n",
              "          const dataTable =\n",
              "            await google.colab.kernel.invokeFunction('convertToInteractive',\n",
              "                                                     [key], {});\n",
              "          if (!dataTable) return;\n",
              "\n",
              "          const docLinkHtml = 'Like what you see? Visit the ' +\n",
              "            '<a target=\"_blank\" href=https://colab.research.google.com/notebooks/data_table.ipynb>data table notebook</a>'\n",
              "            + ' to learn more about interactive tables.';\n",
              "          element.innerHTML = '';\n",
              "          dataTable['output_type'] = 'display_data';\n",
              "          await google.colab.output.renderOutput(dataTable, element);\n",
              "          const docLink = document.createElement('div');\n",
              "          docLink.innerHTML = docLinkHtml;\n",
              "          element.appendChild(docLink);\n",
              "        }\n",
              "      </script>\n",
              "    </div>\n",
              "  </div>\n",
              "  "
            ],
            "text/plain": [
              "      content_id    long\n",
              "2804        3806  578292\n",
              "1059        2040  482202\n",
              "2552        3550  462978\n",
              "2387        3381  408330\n",
              "2600        3598  380972\n",
              "2390        3384  355652\n",
              "1979        2972  343680\n",
              "2216        3210  337928\n",
              "562          724  324750\n",
              "2709        3711  298248"
            ]
          },
          "metadata": {},
          "execution_count": 158
        }
      ],
      "source": [
        "top10l"
      ]
    },
    {
      "cell_type": "markdown",
      "metadata": {
        "id": "xa_cTyYit5bK"
      },
      "source": [
        "Longitud del contenido"
      ]
    },
    {
      "cell_type": "code",
      "execution_count": null,
      "metadata": {
        "id": "vULg1kTOthRr",
        "colab": {
          "base_uri": "https://localhost:8080/",
          "height": 282
        },
        "outputId": "07e7f2a1-d3c6-4b58-eb65-3477601d58c3"
      },
      "outputs": [
        {
          "output_type": "display_data",
          "data": {
            "image/png": "[encoded data removed]",
            "text/plain": [
              "<Figure size 432x288 with 1 Axes>"
            ]
          },
          "metadata": {
            "needs_background": "light"
          }
        }
      ],
      "source": [
        "sns.barplot(x=top10l.content_id, y=top10l.long, order=top10l.loc[top10l.long.sort_values(ascending=False).index].content_id.values)\n",
        "plt.show()"
      ]
    },
    {
      "cell_type": "markdown",
      "metadata": {
        "id": "Ia20CEUat-Vi"
      },
      "source": [
        "Vemos que la longitud del contenido casi que no cambia en el primer contenido (2040) es una serie muy vista y larga por lo que podemos observar.\n",
        "Los contenidos sucesivos cambiand de ranking , pero se mantienen dentro del top 10 de contenido mas tiempo visto. "
      ]
    },
    {
      "cell_type": "code",
      "execution_count": null,
      "metadata": {
        "id": "jdXbgTiTu4om",
        "colab": {
          "base_uri": "https://localhost:8080/",
          "height": 282
        },
        "outputId": "b2c3a3d0-ce5a-4026-a955-72523b256b6a"
      },
      "outputs": [
        {
          "output_type": "display_data",
          "data": {
            "image/png": "[encoded data removed]",
            "text/plain": [
              "<Figure size 432x288 with 1 Axes>"
            ]
          },
          "metadata": {
            "needs_background": "light"
          }
        }
      ],
      "source": [
        "sns.barplot(x=top10l.content_id, y=top10l.long, order=top10v.loc[top10v.tvisto.sort_values(ascending=False).index].content_id.values )\n",
        "sns.barplot(x=top10v.content_id, y=top10v.tvisto, order=top10v.loc[top10v.tvisto.sort_values(ascending=False).index].content_id.values,palette =\"viridis\")\n",
        "\n",
        "plt.show()"
      ]
    },
    {
      "cell_type": "markdown",
      "metadata": {
        "id": "WEuUpSFYvgr2"
      },
      "source": [
        "Podemos comparar la longitud del contenido con lo visto, y pareciera que en general la gente no consume todo el capitulo, o muchos entran a ver  el capitulo y deciden que es suficiente.\n",
        "\n",
        "La mayoria de los contendios Son series exepto el cont. 3806.Es una pelicula (Cosas de minas).El cual es uno de los contenidos mas vistos. junto con fuga de pretoria , tengo gans de ti y Ip Man 4 \n",
        "\n",
        "La mas interesante es 3900 la cual tiene una relacion de tiempo visto y duracion mayor que las demas.\n"
      ]
    },
    {
      "cell_type": "markdown",
      "metadata": {
        "id": "Ef0w6LC61gxr"
      },
      "source": [
        "Nombre de los contenidos mas vistos "
      ]
    },
    {
      "cell_type": "code",
      "execution_count": null,
      "metadata": {
        "id": "2XXY0GqBvfEW",
        "colab": {
          "base_uri": "https://localhost:8080/"
        },
        "outputId": "2aa24908-7758-4013-edac-466b6f7b2292"
      },
      "outputs": [
        {
          "output_type": "stream",
          "name": "stdout",
          "text": [
            "T:1 Ep:01 This is Us\n",
            "Cosa de minas\n",
            "T:1 Ep:01 The Collapse\n",
            "3 metros sobre el cielo\n",
            "Fuga de pretoria\n",
            "Tengo ganas de ti\n",
            "Badur hogar\n",
            "T:1 Ep:01 La vida prometida\n",
            "Ip Man 4\n",
            "T:1 Ep:04 The Undoing\n"
          ]
        }
      ],
      "source": [
        "los=[]\n",
        "for x in (top10v.loc[top10v.tvisto.sort_values(ascending=False).index].content_id.values) :\n",
        "  los.append(meta.loc[meta.content_id==x].title.values[0])\n",
        "  \n",
        "for l in los :\n",
        "  print(l)"
      ]
    },
    {
      "cell_type": "markdown",
      "metadata": {
        "id": "si2FyMBE9-XM"
      },
      "source": [
        "## Obtención de la matriz"
      ]
    },
    {
      "cell_type": "code",
      "source": [
        "train3.dif=train3.dif.apply(lambda x : round(x,2))"
      ],
      "metadata": {
        "id": "0CV9L8DacToQ"
      },
      "execution_count": null,
      "outputs": []
    },
    {
      "cell_type": "code",
      "source": [
        "train3.tvisto=train3.tvisto.apply(lambda x : round(x,2))"
      ],
      "metadata": {
        "id": "qJjB7J39cj4X"
      },
      "execution_count": null,
      "outputs": []
    },
    {
      "cell_type": "code",
      "execution_count": null,
      "metadata": {
        "id": "DTEtC8Xw6ie_"
      },
      "outputs": [],
      "source": [
        "train_piv=train3.pivot(index=\"account_id\", columns=\"content_id\", values=\"dif\")"
      ]
    },
    {
      "cell_type": "code",
      "execution_count": null,
      "metadata": {
        "colab": {
          "base_uri": "https://localhost:8080/"
        },
        "id": "BrAFoSEd7-mu",
        "outputId": "ab875754-4b66-44bb-a058-3b2696530f38"
      },
      "outputs": [
        {
          "output_type": "execute_result",
          "data": {
            "text/plain": [
              "(97509, 3017)"
            ]
          },
          "metadata": {},
          "execution_count": 171
        }
      ],
      "source": [
        "train_piv.shape\n"
      ]
    },
    {
      "cell_type": "markdown",
      "metadata": {
        "id": "0g8jhss4psgH"
      },
      "source": [
        "Se eliminan peliculas poco vistas para simplificar el modelo."
      ]
    },
    {
      "cell_type": "code",
      "execution_count": null,
      "metadata": {
        "id": "2NQei60p7wSc"
      },
      "outputs": [],
      "source": [
        "train_piv=train_piv.dropna(thresh=10 , axis=1).fillna(0) "
      ]
    },
    {
      "cell_type": "code",
      "execution_count": null,
      "metadata": {
        "colab": {
          "base_uri": "https://localhost:8080/",
          "height": 331
        },
        "id": "UIkx0QgB-1_9",
        "outputId": "bed25bcc-3646-4825-81ac-4355f65cc621"
      },
      "outputs": [
        {
          "output_type": "execute_result",
          "data": {
            "text/html": [
              "\n",
              "  <div id=\"df-0a0a23d7-9de4-4387-be25-48c90aab3303\">\n",
              "    <div class=\"colab-df-container\">\n",
              "      <div>\n",
              "<style scoped>\n",
              "    .dataframe tbody tr th:only-of-type {\n",
              "        vertical-align: middle;\n",
              "    }\n",
              "\n",
              "    .dataframe tbody tr th {\n",
              "        vertical-align: top;\n",
              "    }\n",
              "\n",
              "    .dataframe thead th {\n",
              "        text-align: right;\n",
              "    }\n",
              "</style>\n",
              "<table border=\"1\" class=\"dataframe\">\n",
              "  <thead>\n",
              "    <tr style=\"text-align: right;\">\n",
              "      <th>content_id</th>\n",
              "      <th>0</th>\n",
              "      <th>1</th>\n",
              "      <th>3</th>\n",
              "      <th>6</th>\n",
              "      <th>7</th>\n",
              "      <th>8</th>\n",
              "      <th>9</th>\n",
              "      <th>18</th>\n",
              "      <th>19</th>\n",
              "      <th>20</th>\n",
              "      <th>22</th>\n",
              "      <th>23</th>\n",
              "      <th>24</th>\n",
              "      <th>26</th>\n",
              "      <th>33</th>\n",
              "      <th>36</th>\n",
              "      <th>37</th>\n",
              "      <th>38</th>\n",
              "      <th>39</th>\n",
              "      <th>40</th>\n",
              "      <th>43</th>\n",
              "      <th>45</th>\n",
              "      <th>46</th>\n",
              "      <th>47</th>\n",
              "      <th>48</th>\n",
              "      <th>49</th>\n",
              "      <th>50</th>\n",
              "      <th>51</th>\n",
              "      <th>52</th>\n",
              "      <th>53</th>\n",
              "      <th>54</th>\n",
              "      <th>55</th>\n",
              "      <th>56</th>\n",
              "      <th>57</th>\n",
              "      <th>58</th>\n",
              "      <th>59</th>\n",
              "      <th>60</th>\n",
              "      <th>61</th>\n",
              "      <th>62</th>\n",
              "      <th>66</th>\n",
              "      <th>...</th>\n",
              "      <th>4326</th>\n",
              "      <th>4327</th>\n",
              "      <th>4328</th>\n",
              "      <th>4329</th>\n",
              "      <th>4330</th>\n",
              "      <th>4331</th>\n",
              "      <th>4332</th>\n",
              "      <th>4333</th>\n",
              "      <th>4334</th>\n",
              "      <th>4335</th>\n",
              "      <th>4336</th>\n",
              "      <th>4337</th>\n",
              "      <th>4338</th>\n",
              "      <th>4339</th>\n",
              "      <th>4340</th>\n",
              "      <th>4341</th>\n",
              "      <th>4343</th>\n",
              "      <th>4344</th>\n",
              "      <th>4345</th>\n",
              "      <th>4346</th>\n",
              "      <th>4347</th>\n",
              "      <th>4348</th>\n",
              "      <th>4349</th>\n",
              "      <th>4350</th>\n",
              "      <th>4351</th>\n",
              "      <th>4352</th>\n",
              "      <th>4353</th>\n",
              "      <th>4354</th>\n",
              "      <th>4355</th>\n",
              "      <th>4356</th>\n",
              "      <th>4357</th>\n",
              "      <th>4358</th>\n",
              "      <th>4359</th>\n",
              "      <th>4360</th>\n",
              "      <th>4361</th>\n",
              "      <th>4362</th>\n",
              "      <th>4363</th>\n",
              "      <th>4364</th>\n",
              "      <th>4365</th>\n",
              "      <th>4366</th>\n",
              "    </tr>\n",
              "    <tr>\n",
              "      <th>account_id</th>\n",
              "      <th></th>\n",
              "      <th></th>\n",
              "      <th></th>\n",
              "      <th></th>\n",
              "      <th></th>\n",
              "      <th></th>\n",
              "      <th></th>\n",
              "      <th></th>\n",
              "      <th></th>\n",
              "      <th></th>\n",
              "      <th></th>\n",
              "      <th></th>\n",
              "      <th></th>\n",
              "      <th></th>\n",
              "      <th></th>\n",
              "      <th></th>\n",
              "      <th></th>\n",
              "      <th></th>\n",
              "      <th></th>\n",
              "      <th></th>\n",
              "      <th></th>\n",
              "      <th></th>\n",
              "      <th></th>\n",
              "      <th></th>\n",
              "      <th></th>\n",
              "      <th></th>\n",
              "      <th></th>\n",
              "      <th></th>\n",
              "      <th></th>\n",
              "      <th></th>\n",
              "      <th></th>\n",
              "      <th></th>\n",
              "      <th></th>\n",
              "      <th></th>\n",
              "      <th></th>\n",
              "      <th></th>\n",
              "      <th></th>\n",
              "      <th></th>\n",
              "      <th></th>\n",
              "      <th></th>\n",
              "      <th></th>\n",
              "      <th></th>\n",
              "      <th></th>\n",
              "      <th></th>\n",
              "      <th></th>\n",
              "      <th></th>\n",
              "      <th></th>\n",
              "      <th></th>\n",
              "      <th></th>\n",
              "      <th></th>\n",
              "      <th></th>\n",
              "      <th></th>\n",
              "      <th></th>\n",
              "      <th></th>\n",
              "      <th></th>\n",
              "      <th></th>\n",
              "      <th></th>\n",
              "      <th></th>\n",
              "      <th></th>\n",
              "      <th></th>\n",
              "      <th></th>\n",
              "      <th></th>\n",
              "      <th></th>\n",
              "      <th></th>\n",
              "      <th></th>\n",
              "      <th></th>\n",
              "      <th></th>\n",
              "      <th></th>\n",
              "      <th></th>\n",
              "      <th></th>\n",
              "      <th></th>\n",
              "      <th></th>\n",
              "      <th></th>\n",
              "      <th></th>\n",
              "      <th></th>\n",
              "      <th></th>\n",
              "      <th></th>\n",
              "      <th></th>\n",
              "      <th></th>\n",
              "      <th></th>\n",
              "      <th></th>\n",
              "    </tr>\n",
              "  </thead>\n",
              "  <tbody>\n",
              "    <tr>\n",
              "      <th>0</th>\n",
              "      <td>0.0</td>\n",
              "      <td>0.0</td>\n",
              "      <td>0.0</td>\n",
              "      <td>0.0</td>\n",
              "      <td>0.0</td>\n",
              "      <td>0.0</td>\n",
              "      <td>0.0</td>\n",
              "      <td>0.0</td>\n",
              "      <td>0.0</td>\n",
              "      <td>0.0</td>\n",
              "      <td>0.0</td>\n",
              "      <td>0.0</td>\n",
              "      <td>0.0</td>\n",
              "      <td>0.0</td>\n",
              "      <td>0.0</td>\n",
              "      <td>0.0</td>\n",
              "      <td>0.0</td>\n",
              "      <td>0.0</td>\n",
              "      <td>0.0</td>\n",
              "      <td>0.0</td>\n",
              "      <td>0.0</td>\n",
              "      <td>0.0</td>\n",
              "      <td>0.0</td>\n",
              "      <td>0.0</td>\n",
              "      <td>0.0</td>\n",
              "      <td>0.0</td>\n",
              "      <td>0.0</td>\n",
              "      <td>0.0</td>\n",
              "      <td>0.0</td>\n",
              "      <td>0.0</td>\n",
              "      <td>0.0</td>\n",
              "      <td>0.0</td>\n",
              "      <td>0.0</td>\n",
              "      <td>0.0</td>\n",
              "      <td>0.0</td>\n",
              "      <td>0.0</td>\n",
              "      <td>0.0</td>\n",
              "      <td>0.0</td>\n",
              "      <td>0.0</td>\n",
              "      <td>0.0</td>\n",
              "      <td>...</td>\n",
              "      <td>0.0</td>\n",
              "      <td>0.0</td>\n",
              "      <td>0.0</td>\n",
              "      <td>0.0</td>\n",
              "      <td>0.0</td>\n",
              "      <td>0.0</td>\n",
              "      <td>0.0</td>\n",
              "      <td>0.0</td>\n",
              "      <td>0.0</td>\n",
              "      <td>0.0</td>\n",
              "      <td>0.0</td>\n",
              "      <td>0.0</td>\n",
              "      <td>0.00</td>\n",
              "      <td>0.0</td>\n",
              "      <td>0.0</td>\n",
              "      <td>0.0</td>\n",
              "      <td>0.0</td>\n",
              "      <td>0.0</td>\n",
              "      <td>0.0</td>\n",
              "      <td>0.0</td>\n",
              "      <td>0.0</td>\n",
              "      <td>0.0</td>\n",
              "      <td>0.0</td>\n",
              "      <td>0.0</td>\n",
              "      <td>0.0</td>\n",
              "      <td>0.00</td>\n",
              "      <td>0.0</td>\n",
              "      <td>0.0</td>\n",
              "      <td>0.0</td>\n",
              "      <td>0.0</td>\n",
              "      <td>0.0</td>\n",
              "      <td>0.0</td>\n",
              "      <td>0.0</td>\n",
              "      <td>0.0</td>\n",
              "      <td>0.0</td>\n",
              "      <td>0.0</td>\n",
              "      <td>0.0</td>\n",
              "      <td>0.0</td>\n",
              "      <td>0.0</td>\n",
              "      <td>0.0</td>\n",
              "    </tr>\n",
              "    <tr>\n",
              "      <th>2</th>\n",
              "      <td>0.0</td>\n",
              "      <td>0.0</td>\n",
              "      <td>0.0</td>\n",
              "      <td>1.0</td>\n",
              "      <td>0.0</td>\n",
              "      <td>0.0</td>\n",
              "      <td>0.0</td>\n",
              "      <td>0.0</td>\n",
              "      <td>0.0</td>\n",
              "      <td>0.0</td>\n",
              "      <td>0.0</td>\n",
              "      <td>0.0</td>\n",
              "      <td>0.0</td>\n",
              "      <td>0.0</td>\n",
              "      <td>0.0</td>\n",
              "      <td>0.0</td>\n",
              "      <td>0.0</td>\n",
              "      <td>0.0</td>\n",
              "      <td>0.0</td>\n",
              "      <td>0.0</td>\n",
              "      <td>0.0</td>\n",
              "      <td>0.0</td>\n",
              "      <td>0.0</td>\n",
              "      <td>0.0</td>\n",
              "      <td>0.0</td>\n",
              "      <td>0.0</td>\n",
              "      <td>0.0</td>\n",
              "      <td>0.0</td>\n",
              "      <td>0.0</td>\n",
              "      <td>0.0</td>\n",
              "      <td>0.0</td>\n",
              "      <td>0.0</td>\n",
              "      <td>0.0</td>\n",
              "      <td>0.0</td>\n",
              "      <td>0.0</td>\n",
              "      <td>0.0</td>\n",
              "      <td>0.0</td>\n",
              "      <td>0.0</td>\n",
              "      <td>0.0</td>\n",
              "      <td>0.0</td>\n",
              "      <td>...</td>\n",
              "      <td>0.0</td>\n",
              "      <td>0.0</td>\n",
              "      <td>0.0</td>\n",
              "      <td>0.0</td>\n",
              "      <td>0.0</td>\n",
              "      <td>0.0</td>\n",
              "      <td>0.0</td>\n",
              "      <td>0.0</td>\n",
              "      <td>0.0</td>\n",
              "      <td>0.0</td>\n",
              "      <td>0.0</td>\n",
              "      <td>0.0</td>\n",
              "      <td>0.00</td>\n",
              "      <td>0.0</td>\n",
              "      <td>0.0</td>\n",
              "      <td>0.0</td>\n",
              "      <td>0.0</td>\n",
              "      <td>0.0</td>\n",
              "      <td>0.0</td>\n",
              "      <td>0.0</td>\n",
              "      <td>0.0</td>\n",
              "      <td>0.0</td>\n",
              "      <td>0.0</td>\n",
              "      <td>0.0</td>\n",
              "      <td>0.0</td>\n",
              "      <td>0.00</td>\n",
              "      <td>0.0</td>\n",
              "      <td>0.0</td>\n",
              "      <td>0.0</td>\n",
              "      <td>0.0</td>\n",
              "      <td>0.0</td>\n",
              "      <td>0.0</td>\n",
              "      <td>0.0</td>\n",
              "      <td>0.0</td>\n",
              "      <td>0.0</td>\n",
              "      <td>0.0</td>\n",
              "      <td>0.0</td>\n",
              "      <td>0.0</td>\n",
              "      <td>0.0</td>\n",
              "      <td>0.0</td>\n",
              "    </tr>\n",
              "    <tr>\n",
              "      <th>3</th>\n",
              "      <td>0.0</td>\n",
              "      <td>0.0</td>\n",
              "      <td>0.0</td>\n",
              "      <td>0.0</td>\n",
              "      <td>0.0</td>\n",
              "      <td>0.0</td>\n",
              "      <td>0.0</td>\n",
              "      <td>0.0</td>\n",
              "      <td>0.0</td>\n",
              "      <td>0.0</td>\n",
              "      <td>0.0</td>\n",
              "      <td>0.0</td>\n",
              "      <td>0.0</td>\n",
              "      <td>0.0</td>\n",
              "      <td>0.0</td>\n",
              "      <td>0.0</td>\n",
              "      <td>0.0</td>\n",
              "      <td>0.0</td>\n",
              "      <td>0.0</td>\n",
              "      <td>0.0</td>\n",
              "      <td>0.0</td>\n",
              "      <td>0.0</td>\n",
              "      <td>0.0</td>\n",
              "      <td>0.0</td>\n",
              "      <td>0.0</td>\n",
              "      <td>0.0</td>\n",
              "      <td>0.0</td>\n",
              "      <td>0.0</td>\n",
              "      <td>0.0</td>\n",
              "      <td>0.0</td>\n",
              "      <td>0.0</td>\n",
              "      <td>0.0</td>\n",
              "      <td>0.0</td>\n",
              "      <td>0.0</td>\n",
              "      <td>0.0</td>\n",
              "      <td>0.0</td>\n",
              "      <td>0.0</td>\n",
              "      <td>0.0</td>\n",
              "      <td>0.0</td>\n",
              "      <td>0.0</td>\n",
              "      <td>...</td>\n",
              "      <td>0.0</td>\n",
              "      <td>0.0</td>\n",
              "      <td>0.0</td>\n",
              "      <td>0.0</td>\n",
              "      <td>0.0</td>\n",
              "      <td>0.0</td>\n",
              "      <td>0.0</td>\n",
              "      <td>0.0</td>\n",
              "      <td>0.0</td>\n",
              "      <td>0.0</td>\n",
              "      <td>0.0</td>\n",
              "      <td>0.0</td>\n",
              "      <td>0.00</td>\n",
              "      <td>0.0</td>\n",
              "      <td>0.0</td>\n",
              "      <td>0.0</td>\n",
              "      <td>0.0</td>\n",
              "      <td>0.0</td>\n",
              "      <td>0.0</td>\n",
              "      <td>0.0</td>\n",
              "      <td>0.0</td>\n",
              "      <td>0.0</td>\n",
              "      <td>0.0</td>\n",
              "      <td>0.0</td>\n",
              "      <td>0.0</td>\n",
              "      <td>0.00</td>\n",
              "      <td>0.0</td>\n",
              "      <td>0.0</td>\n",
              "      <td>0.0</td>\n",
              "      <td>0.0</td>\n",
              "      <td>0.0</td>\n",
              "      <td>0.0</td>\n",
              "      <td>0.0</td>\n",
              "      <td>0.0</td>\n",
              "      <td>0.0</td>\n",
              "      <td>0.0</td>\n",
              "      <td>0.0</td>\n",
              "      <td>0.0</td>\n",
              "      <td>0.0</td>\n",
              "      <td>0.0</td>\n",
              "    </tr>\n",
              "    <tr>\n",
              "      <th>4</th>\n",
              "      <td>0.0</td>\n",
              "      <td>0.0</td>\n",
              "      <td>0.0</td>\n",
              "      <td>0.0</td>\n",
              "      <td>0.0</td>\n",
              "      <td>0.0</td>\n",
              "      <td>0.0</td>\n",
              "      <td>0.0</td>\n",
              "      <td>0.0</td>\n",
              "      <td>0.0</td>\n",
              "      <td>0.0</td>\n",
              "      <td>0.0</td>\n",
              "      <td>0.0</td>\n",
              "      <td>0.0</td>\n",
              "      <td>0.0</td>\n",
              "      <td>0.0</td>\n",
              "      <td>0.0</td>\n",
              "      <td>0.0</td>\n",
              "      <td>0.0</td>\n",
              "      <td>0.0</td>\n",
              "      <td>0.0</td>\n",
              "      <td>0.0</td>\n",
              "      <td>0.0</td>\n",
              "      <td>0.0</td>\n",
              "      <td>0.0</td>\n",
              "      <td>0.0</td>\n",
              "      <td>0.0</td>\n",
              "      <td>0.0</td>\n",
              "      <td>0.0</td>\n",
              "      <td>0.0</td>\n",
              "      <td>0.0</td>\n",
              "      <td>0.0</td>\n",
              "      <td>0.0</td>\n",
              "      <td>0.0</td>\n",
              "      <td>0.0</td>\n",
              "      <td>0.0</td>\n",
              "      <td>0.0</td>\n",
              "      <td>0.0</td>\n",
              "      <td>0.0</td>\n",
              "      <td>0.0</td>\n",
              "      <td>...</td>\n",
              "      <td>0.0</td>\n",
              "      <td>0.0</td>\n",
              "      <td>0.0</td>\n",
              "      <td>0.0</td>\n",
              "      <td>0.0</td>\n",
              "      <td>0.0</td>\n",
              "      <td>0.0</td>\n",
              "      <td>0.0</td>\n",
              "      <td>0.0</td>\n",
              "      <td>0.0</td>\n",
              "      <td>0.0</td>\n",
              "      <td>0.0</td>\n",
              "      <td>0.17</td>\n",
              "      <td>0.0</td>\n",
              "      <td>0.0</td>\n",
              "      <td>0.0</td>\n",
              "      <td>0.0</td>\n",
              "      <td>0.0</td>\n",
              "      <td>0.0</td>\n",
              "      <td>0.0</td>\n",
              "      <td>0.0</td>\n",
              "      <td>0.0</td>\n",
              "      <td>0.0</td>\n",
              "      <td>0.0</td>\n",
              "      <td>0.0</td>\n",
              "      <td>0.45</td>\n",
              "      <td>0.0</td>\n",
              "      <td>0.0</td>\n",
              "      <td>0.0</td>\n",
              "      <td>0.0</td>\n",
              "      <td>0.0</td>\n",
              "      <td>0.0</td>\n",
              "      <td>0.0</td>\n",
              "      <td>0.0</td>\n",
              "      <td>0.0</td>\n",
              "      <td>0.0</td>\n",
              "      <td>0.0</td>\n",
              "      <td>0.0</td>\n",
              "      <td>0.0</td>\n",
              "      <td>0.0</td>\n",
              "    </tr>\n",
              "    <tr>\n",
              "      <th>5</th>\n",
              "      <td>0.0</td>\n",
              "      <td>0.0</td>\n",
              "      <td>0.0</td>\n",
              "      <td>0.0</td>\n",
              "      <td>0.0</td>\n",
              "      <td>0.0</td>\n",
              "      <td>0.0</td>\n",
              "      <td>0.0</td>\n",
              "      <td>0.0</td>\n",
              "      <td>0.0</td>\n",
              "      <td>0.0</td>\n",
              "      <td>0.0</td>\n",
              "      <td>0.0</td>\n",
              "      <td>0.0</td>\n",
              "      <td>0.0</td>\n",
              "      <td>0.0</td>\n",
              "      <td>0.0</td>\n",
              "      <td>0.0</td>\n",
              "      <td>0.0</td>\n",
              "      <td>0.0</td>\n",
              "      <td>0.0</td>\n",
              "      <td>0.0</td>\n",
              "      <td>0.0</td>\n",
              "      <td>0.0</td>\n",
              "      <td>0.0</td>\n",
              "      <td>0.0</td>\n",
              "      <td>0.0</td>\n",
              "      <td>0.0</td>\n",
              "      <td>0.0</td>\n",
              "      <td>0.0</td>\n",
              "      <td>0.0</td>\n",
              "      <td>0.0</td>\n",
              "      <td>0.0</td>\n",
              "      <td>0.0</td>\n",
              "      <td>0.0</td>\n",
              "      <td>0.0</td>\n",
              "      <td>0.0</td>\n",
              "      <td>0.0</td>\n",
              "      <td>0.0</td>\n",
              "      <td>0.0</td>\n",
              "      <td>...</td>\n",
              "      <td>0.0</td>\n",
              "      <td>0.0</td>\n",
              "      <td>0.0</td>\n",
              "      <td>0.0</td>\n",
              "      <td>0.0</td>\n",
              "      <td>0.0</td>\n",
              "      <td>0.0</td>\n",
              "      <td>0.0</td>\n",
              "      <td>0.0</td>\n",
              "      <td>0.0</td>\n",
              "      <td>0.0</td>\n",
              "      <td>0.0</td>\n",
              "      <td>0.00</td>\n",
              "      <td>0.0</td>\n",
              "      <td>0.0</td>\n",
              "      <td>0.0</td>\n",
              "      <td>0.0</td>\n",
              "      <td>0.0</td>\n",
              "      <td>0.0</td>\n",
              "      <td>0.0</td>\n",
              "      <td>0.0</td>\n",
              "      <td>0.0</td>\n",
              "      <td>0.0</td>\n",
              "      <td>0.0</td>\n",
              "      <td>0.0</td>\n",
              "      <td>0.00</td>\n",
              "      <td>0.0</td>\n",
              "      <td>0.0</td>\n",
              "      <td>0.0</td>\n",
              "      <td>0.0</td>\n",
              "      <td>0.0</td>\n",
              "      <td>0.0</td>\n",
              "      <td>0.0</td>\n",
              "      <td>0.0</td>\n",
              "      <td>0.0</td>\n",
              "      <td>0.0</td>\n",
              "      <td>0.0</td>\n",
              "      <td>0.0</td>\n",
              "      <td>0.0</td>\n",
              "      <td>0.0</td>\n",
              "    </tr>\n",
              "  </tbody>\n",
              "</table>\n",
              "<p>5 rows × 2660 columns</p>\n",
              "</div>\n",
              "      <button class=\"colab-df-convert\" onclick=\"convertToInteractive('df-0a0a23d7-9de4-4387-be25-48c90aab3303')\"\n",
              "              title=\"Convert this dataframe to an interactive table.\"\n",
              "              style=\"display:none;\">\n",
              "        \n",
              "  <svg xmlns=\"http://www.w3.org/2000/svg\" height=\"24px\"viewBox=\"0 0 24 24\"\n",
              "       width=\"24px\">\n",
              "    <path d=\"M0 0h24v24H0V0z\" fill=\"none\"/>\n",
              "    <path d=\"M18.56 5.44l.94 2.06.94-2.06 2.06-.94-2.06-.94-.94-2.06-.94 2.06-2.06.94zm-11 1L8.5 8.5l.94-2.06 2.06-.94-2.06-.94L8.5 2.5l-.94 2.06-2.06.94zm10 10l.94 2.06.94-2.06 2.06-.94-2.06-.94-.94-2.06-.94 2.06-2.06.94z\"/><path d=\"M17.41 7.96l-1.37-1.37c-.4-.4-.92-.59-1.43-.59-.52 0-1.04.2-1.43.59L10.3 9.45l-7.72 7.72c-.78.78-.78 2.05 0 2.83L4 21.41c.39.39.9.59 1.41.59.51 0 1.02-.2 1.41-.59l7.78-7.78 2.81-2.81c.8-.78.8-2.07 0-2.86zM5.41 20L4 18.59l7.72-7.72 1.47 1.35L5.41 20z\"/>\n",
              "  </svg>\n",
              "      </button>\n",
              "      \n",
              "  <style>\n",
              "    .colab-df-container {\n",
              "      display:flex;\n",
              "      flex-wrap:wrap;\n",
              "      gap: 12px;\n",
              "    }\n",
              "\n",
              "    .colab-df-convert {\n",
              "      background-color: #E8F0FE;\n",
              "      border: none;\n",
              "      border-radius: 50%;\n",
              "      cursor: pointer;\n",
              "      display: none;\n",
              "      fill: #1967D2;\n",
              "      height: 32px;\n",
              "      padding: 0 0 0 0;\n",
              "      width: 32px;\n",
              "    }\n",
              "\n",
              "    .colab-df-convert:hover {\n",
              "      background-color: #E2EBFA;\n",
              "      box-shadow: 0px 1px 2px rgba(60, 64, 67, 0.3), 0px 1px 3px 1px rgba(60, 64, 67, 0.15);\n",
              "      fill: #174EA6;\n",
              "    }\n",
              "\n",
              "    [theme=dark] .colab-df-convert {\n",
              "      background-color: #3B4455;\n",
              "      fill: #D2E3FC;\n",
              "    }\n",
              "\n",
              "    [theme=dark] .colab-df-convert:hover {\n",
              "      background-color: #434B5C;\n",
              "      box-shadow: 0px 1px 3px 1px rgba(0, 0, 0, 0.15);\n",
              "      filter: drop-shadow(0px 1px 2px rgba(0, 0, 0, 0.3));\n",
              "      fill: #FFFFFF;\n",
              "    }\n",
              "  </style>\n",
              "\n",
              "      <script>\n",
              "        const buttonEl =\n",
              "          document.querySelector('#df-0a0a23d7-9de4-4387-be25-48c90aab3303 button.colab-df-convert');\n",
              "        buttonEl.style.display =\n",
              "          google.colab.kernel.accessAllowed ? 'block' : 'none';\n",
              "\n",
              "        async function convertToInteractive(key) {\n",
              "          const element = document.querySelector('#df-0a0a23d7-9de4-4387-be25-48c90aab3303');\n",
              "          const dataTable =\n",
              "            await google.colab.kernel.invokeFunction('convertToInteractive',\n",
              "                                                     [key], {});\n",
              "          if (!dataTable) return;\n",
              "\n",
              "          const docLinkHtml = 'Like what you see? Visit the ' +\n",
              "            '<a target=\"_blank\" href=https://colab.research.google.com/notebooks/data_table.ipynb>data table notebook</a>'\n",
              "            + ' to learn more about interactive tables.';\n",
              "          element.innerHTML = '';\n",
              "          dataTable['output_type'] = 'display_data';\n",
              "          await google.colab.output.renderOutput(dataTable, element);\n",
              "          const docLink = document.createElement('div');\n",
              "          docLink.innerHTML = docLinkHtml;\n",
              "          element.appendChild(docLink);\n",
              "        }\n",
              "      </script>\n",
              "    </div>\n",
              "  </div>\n",
              "  "
            ],
            "text/plain": [
              "content_id  0     1     3     6     7     ...  4362  4363  4364  4365  4366\n",
              "account_id                                ...                              \n",
              "0            0.0   0.0   0.0   0.0   0.0  ...   0.0   0.0   0.0   0.0   0.0\n",
              "2            0.0   0.0   0.0   1.0   0.0  ...   0.0   0.0   0.0   0.0   0.0\n",
              "3            0.0   0.0   0.0   0.0   0.0  ...   0.0   0.0   0.0   0.0   0.0\n",
              "4            0.0   0.0   0.0   0.0   0.0  ...   0.0   0.0   0.0   0.0   0.0\n",
              "5            0.0   0.0   0.0   0.0   0.0  ...   0.0   0.0   0.0   0.0   0.0\n",
              "\n",
              "[5 rows x 2660 columns]"
            ]
          },
          "metadata": {},
          "execution_count": 173
        }
      ],
      "source": [
        "train_piv.head()"
      ]
    },
    {
      "cell_type": "code",
      "execution_count": null,
      "metadata": {
        "colab": {
          "base_uri": "https://localhost:8080/"
        },
        "id": "HcrZ970yARiE",
        "outputId": "26362363-6070-45da-99d0-db3c1b93d6a9"
      },
      "outputs": [
        {
          "output_type": "execute_result",
          "data": {
            "text/plain": [
              "(97509, 2660)"
            ]
          },
          "metadata": {},
          "execution_count": 175
        }
      ],
      "source": [
        "train_piv.shape"
      ]
    },
    {
      "cell_type": "code",
      "execution_count": null,
      "metadata": {
        "id": "pUcTqLHU_r4Y"
      },
      "outputs": [],
      "source": [
        "train_piv_csr = csr_matrix(train_piv.values)"
      ]
    },
    {
      "cell_type": "code",
      "execution_count": null,
      "metadata": {
        "colab": {
          "base_uri": "https://localhost:8080/"
        },
        "id": "K66KIbbAAKok",
        "outputId": "00dc541b-99ff-41ef-c4bd-f31d2f2205db"
      },
      "outputs": [
        {
          "output_type": "execute_result",
          "data": {
            "text/plain": [
              "<97509x2660 sparse matrix of type '<class 'numpy.float64'>'\n",
              "\twith 586564 stored elements in Compressed Sparse Row format>"
            ]
          },
          "metadata": {},
          "execution_count": 177
        }
      ],
      "source": [
        "train_piv_csr"
      ]
    },
    {
      "cell_type": "markdown",
      "metadata": {
        "id": "Br_7-zCXA3Jb"
      },
      "source": [
        "## Geración y entrenamiento del modelo"
      ]
    },
    {
      "cell_type": "code",
      "execution_count": null,
      "metadata": {
        "id": "nD3AocowAkFG"
      },
      "outputs": [],
      "source": [
        "modelo1= LightFM(no_components=100, random_state=100, learning_rate=0.03, loss='warp')"
      ]
    },
    {
      "cell_type": "code",
      "execution_count": null,
      "metadata": {
        "colab": {
          "base_uri": "https://localhost:8080/"
        },
        "id": "Ag-gXdkaBOEj",
        "outputId": "cfd9f307-9a1e-4d4c-deac-551618d973c5"
      },
      "outputs": [
        {
          "output_type": "stream",
          "name": "stderr",
          "text": [
            "Epoch: 100%|██████████| 100/100 [03:42<00:00,  2.23s/it]"
          ]
        },
        {
          "output_type": "stream",
          "name": "stdout",
          "text": [
            "CPU times: user 7min 10s, sys: 506 ms, total: 7min 11s\n",
            "Wall time: 3min 43s\n"
          ]
        },
        {
          "output_type": "stream",
          "name": "stderr",
          "text": [
            "\n"
          ]
        }
      ],
      "source": [
        "%%time\n",
        "\n",
        "modelo = modelo1.fit(train_piv_csr, epochs=100,\n",
        "                  num_threads=16, verbose=True)"
      ]
    },
    {
      "cell_type": "code",
      "execution_count": null,
      "metadata": {
        "id": "HQjG4kNiDmoX"
      },
      "outputs": [],
      "source": [
        "item_id = list(train_piv.columns)\n",
        "item_dict = {}\n",
        "counter = 0 \n",
        "for i in item_id:\n",
        "    item_dict[i] = counter\n",
        "    counter += 1"
      ]
    },
    {
      "cell_type": "code",
      "execution_count": null,
      "metadata": {
        "id": "juUK_JWAANuX"
      },
      "outputs": [],
      "source": [
        "user_ids = list(train_piv.index)\n",
        "user_dict = {}\n",
        "counter = 0 \n",
        "for i in user_ids:\n",
        "    user_dict[i] = counter\n",
        "    counter += 1"
      ]
    },
    {
      "cell_type": "code",
      "execution_count": null,
      "metadata": {
        "id": "pUgGMRsMDmoX"
      },
      "outputs": [],
      "source": [
        "def recomm(model, interactions, user_id, user_dict, item_dict, nrec_items = 10, show = True):\n",
        "\n",
        "    n_users, n_items = interactions.shape\n",
        "    user_x = user_dict[user_id]\n",
        "\n",
        "    scores = pd.Series(model.predict(user_x,np.arange(n_items)))\n",
        "    scores.index = interactions.columns\n",
        "    scores = list(pd.Series(scores.sort_values(ascending=False).index))\n",
        "    \n",
        "    known_items = list(pd.Series(interactions.loc[user_id,:] \\\n",
        "                                [interactions.loc[user_id,:] > 0].index).sort_values(ascending=False))\n",
        "    \n",
        "    #Filtro de items que ya vió el usuario\n",
        "    scores = [x for x in scores if x not in known_items]\n",
        "    recomms = scores[0:nrec_items]\n",
        "\n",
        "    if show == True:\n",
        "        print (\"User: \" + str(user_id))\n",
        "        print(\"Known Likes:\")\n",
        "        counter = 1\n",
        "        for i in known_items:\n",
        "            print(str(counter) + '- ' + str(i))\n",
        "            counter+=1\n",
        "\n",
        "        print(\"\\n Recommended Items:\")\n",
        "        \n",
        "        counter = 1\n",
        "        for i in recomms:\n",
        "            print(str(counter) + '- ' + str(i))\n",
        "            counter+=1\n",
        "\n",
        "    return recomms"
      ]
    },
    {
      "cell_type": "markdown",
      "source": [
        "## Cold Start recomms"
      ],
      "metadata": {
        "id": "WrAOok9lhGu0"
      }
    },
    {
      "cell_type": "code",
      "execution_count": null,
      "metadata": {
        "id": "kCQ_QSDhDmoY"
      },
      "outputs": [],
      "source": [
        "cold_start_recomms =   train3\\\n",
        "                      .groupby(\"content_id\")\\\n",
        "                      .agg({\"dif\": \"sum\"})\\\n",
        "                      .sort_values(by=\"dif\", ascending=False)\\\n",
        "                      .head(20)\\\n",
        "                      .index\\\n",
        "                      .to_list()"
      ]
    },
    {
      "cell_type": "code",
      "execution_count": null,
      "metadata": {
        "colab": {
          "base_uri": "https://localhost:8080/"
        },
        "id": "hCfJ-5e5DmoY",
        "outputId": "9defa21e-a47a-446c-d2a9-abe6bc32a564"
      },
      "outputs": [
        {
          "output_type": "stream",
          "name": "stdout",
          "text": [
            "T:1 Ep:01 This is Us\n",
            "T:1 Ep:01 The Collapse\n",
            "T:1 Ep:01 Paw Patrol, Patrulla Canina\n",
            "Cosa de minas\n",
            "T:7 Ep:08 Peppa Pig\n",
            "T:1 Ep:01 Bluey\n",
            "T:1 Ep:01 Mi amigo hormiga\n",
            "T:1 Ep:01 ALT ESC\n",
            "T:3 Ep:01 Famoso\n",
            "T:1 Ep:01 La Granja de Zenón\n",
            "T:1 Ep:01 La vida prometida\n",
            "T:1 Ep:01 Los visitantes\n",
            "T:2 Ep:78 Puppy Dog Pals\n",
            "T:2 Ep:63 Vampirina\n",
            "T:4 Ep:96 Junior Express\n",
            "T:1 Ep:04 The Undoing\n",
            "T:1 Ep:01 The Fall\n",
            "T:1 Ep:01 Stand Up Argentina\n",
            "T:1 Ep:01 The Outpost\n",
            "T:17 Ep:01 Grey's Anatomy\n"
          ]
        }
      ],
      "source": [
        "los=[]\n",
        "for x in cold_start_recomms :\n",
        "  los.append(meta.loc[meta.content_id==x].title.values[0])\n",
        "  \n",
        "for l in los :\n",
        "  print(l)"
      ]
    },
    {
      "cell_type": "markdown",
      "metadata": {
        "id": "eePOk9bVGckq"
      },
      "source": [
        "##Metricas del modelo "
      ]
    },
    {
      "cell_type": "code",
      "execution_count": null,
      "metadata": {
        "colab": {
          "base_uri": "https://localhost:8080/"
        },
        "id": "qTfvTkxzGucc",
        "outputId": "b173e32e-c60f-4708-e2c0-6e4d42a5e933"
      },
      "outputs": [
        {
          "output_type": "stream",
          "name": "stdout",
          "text": [
            "112755 97509\n"
          ]
        }
      ],
      "source": [
        "users = train.account_id.unique()\n",
        "non_cold_users = train3.account_id.unique()\n",
        "\n",
        "print(len(users), len(non_cold_users))"
      ]
    },
    {
      "cell_type": "code",
      "execution_count": null,
      "metadata": {
        "colab": {
          "base_uri": "https://localhost:8080/"
        },
        "id": "XZP3pWALGucd",
        "outputId": "7d6f1867-6b3c-4a35-b5e7-ceeed873e36f"
      },
      "outputs": [
        {
          "output_type": "stream",
          "name": "stdout",
          "text": [
            "El porcentaje de cold start users es : 13.52% \n"
          ]
        }
      ],
      "source": [
        "print(f\"El porcentaje de cold start users es : {round((len(users)-len(non_cold_users))/len(users)*100,2)}% \")"
      ]
    },
    {
      "cell_type": "code",
      "execution_count": null,
      "metadata": {
        "colab": {
          "base_uri": "https://localhost:8080/"
        },
        "id": "sK315TkPGucd",
        "outputId": "3d06cf3f-ba02-4d48-a088-8a3c72d449ad"
      },
      "outputs": [
        {
          "output_type": "stream",
          "name": "stderr",
          "text": [
            "100%|██████████| 112755/112755 [08:04<00:00, 232.65it/s]\n"
          ]
        }
      ],
      "source": [
        "recomms_dict = {\n",
        "    \"user\": [],\n",
        "    \"recomms\": [],\n",
        "    \"cold\": []\n",
        "}\n",
        "\n",
        "for user in tqdm.tqdm(users):\n",
        "  \n",
        "  # Recomms personalizadas\n",
        "  if user in non_cold_users:\n",
        "    user_recomms = recomm(modelo1, train_piv , user, user_dict, item_dict, nrec_items = 20, show = False)\n",
        "    recomms_dict[\"user\"].append(user)\n",
        "    recomms_dict[\"recomms\"].append(user_recomms)\n",
        "    recomms_dict[\"cold\"].append(False) #Para luego tener identificados a los usuarios cold\n",
        "  \n",
        "  # Recomms cold\n",
        "  else:\n",
        "    recomms_dict[\"user\"].append(user)\n",
        "    recomms_dict[\"recomms\"].append(cold_start_recomms)\n",
        "    recomms_dict[\"cold\"].append(True) #Para luego tener identificados a los usuarios cold"
      ]
    },
    {
      "cell_type": "code",
      "execution_count": null,
      "metadata": {
        "id": "wf31JZwEGucd"
      },
      "outputs": [],
      "source": [
        "recomms_df = pd.DataFrame(recomms_dict)"
      ]
    },
    {
      "cell_type": "code",
      "execution_count": null,
      "metadata": {
        "colab": {
          "base_uri": "https://localhost:8080/",
          "height": 206
        },
        "id": "sWvivIhBGucd",
        "outputId": "095fc1d4-dcd1-45f2-d280-565a099134ec"
      },
      "outputs": [
        {
          "output_type": "execute_result",
          "data": {
            "text/html": [
              "\n",
              "  <div id=\"df-14fdaa72-cad1-47e6-b5c5-b8b40cb705f6\">\n",
              "    <div class=\"colab-df-container\">\n",
              "      <div>\n",
              "<style scoped>\n",
              "    .dataframe tbody tr th:only-of-type {\n",
              "        vertical-align: middle;\n",
              "    }\n",
              "\n",
              "    .dataframe tbody tr th {\n",
              "        vertical-align: top;\n",
              "    }\n",
              "\n",
              "    .dataframe thead th {\n",
              "        text-align: right;\n",
              "    }\n",
              "</style>\n",
              "<table border=\"1\" class=\"dataframe\">\n",
              "  <thead>\n",
              "    <tr style=\"text-align: right;\">\n",
              "      <th></th>\n",
              "      <th>user</th>\n",
              "      <th>recomms</th>\n",
              "      <th>cold</th>\n",
              "    </tr>\n",
              "  </thead>\n",
              "  <tbody>\n",
              "    <tr>\n",
              "      <th>0</th>\n",
              "      <td>90627</td>\n",
              "      <td>[116, 3578, 724, 1898, 1539, 1140, 97, 2641, 1...</td>\n",
              "      <td>False</td>\n",
              "    </tr>\n",
              "    <tr>\n",
              "      <th>1</th>\n",
              "      <td>3387</td>\n",
              "      <td>[2040, 3900, 2160, 3806, 1316, 1139, 3775, 372...</td>\n",
              "      <td>True</td>\n",
              "    </tr>\n",
              "    <tr>\n",
              "      <th>2</th>\n",
              "      <td>3388</td>\n",
              "      <td>[97, 724, 2383, 1898, 3752, 2044, 2408, 2946, ...</td>\n",
              "      <td>False</td>\n",
              "    </tr>\n",
              "    <tr>\n",
              "      <th>3</th>\n",
              "      <td>3389</td>\n",
              "      <td>[3097, 3234, 3783, 3182, 3566, 2177, 2012, 308...</td>\n",
              "      <td>False</td>\n",
              "    </tr>\n",
              "    <tr>\n",
              "      <th>4</th>\n",
              "      <td>3390</td>\n",
              "      <td>[1008, 3697, 3213, 3711, 2901, 3732, 3262, 353...</td>\n",
              "      <td>False</td>\n",
              "    </tr>\n",
              "  </tbody>\n",
              "</table>\n",
              "</div>\n",
              "      <button class=\"colab-df-convert\" onclick=\"convertToInteractive('df-14fdaa72-cad1-47e6-b5c5-b8b40cb705f6')\"\n",
              "              title=\"Convert this dataframe to an interactive table.\"\n",
              "              style=\"display:none;\">\n",
              "        \n",
              "  <svg xmlns=\"http://www.w3.org/2000/svg\" height=\"24px\"viewBox=\"0 0 24 24\"\n",
              "       width=\"24px\">\n",
              "    <path d=\"M0 0h24v24H0V0z\" fill=\"none\"/>\n",
              "    <path d=\"M18.56 5.44l.94 2.06.94-2.06 2.06-.94-2.06-.94-.94-2.06-.94 2.06-2.06.94zm-11 1L8.5 8.5l.94-2.06 2.06-.94-2.06-.94L8.5 2.5l-.94 2.06-2.06.94zm10 10l.94 2.06.94-2.06 2.06-.94-2.06-.94-.94-2.06-.94 2.06-2.06.94z\"/><path d=\"M17.41 7.96l-1.37-1.37c-.4-.4-.92-.59-1.43-.59-.52 0-1.04.2-1.43.59L10.3 9.45l-7.72 7.72c-.78.78-.78 2.05 0 2.83L4 21.41c.39.39.9.59 1.41.59.51 0 1.02-.2 1.41-.59l7.78-7.78 2.81-2.81c.8-.78.8-2.07 0-2.86zM5.41 20L4 18.59l7.72-7.72 1.47 1.35L5.41 20z\"/>\n",
              "  </svg>\n",
              "      </button>\n",
              "      \n",
              "  <style>\n",
              "    .colab-df-container {\n",
              "      display:flex;\n",
              "      flex-wrap:wrap;\n",
              "      gap: 12px;\n",
              "    }\n",
              "\n",
              "    .colab-df-convert {\n",
              "      background-color: #E8F0FE;\n",
              "      border: none;\n",
              "      border-radius: 50%;\n",
              "      cursor: pointer;\n",
              "      display: none;\n",
              "      fill: #1967D2;\n",
              "      height: 32px;\n",
              "      padding: 0 0 0 0;\n",
              "      width: 32px;\n",
              "    }\n",
              "\n",
              "    .colab-df-convert:hover {\n",
              "      background-color: #E2EBFA;\n",
              "      box-shadow: 0px 1px 2px rgba(60, 64, 67, 0.3), 0px 1px 3px 1px rgba(60, 64, 67, 0.15);\n",
              "      fill: #174EA6;\n",
              "    }\n",
              "\n",
              "    [theme=dark] .colab-df-convert {\n",
              "      background-color: #3B4455;\n",
              "      fill: #D2E3FC;\n",
              "    }\n",
              "\n",
              "    [theme=dark] .colab-df-convert:hover {\n",
              "      background-color: #434B5C;\n",
              "      box-shadow: 0px 1px 3px 1px rgba(0, 0, 0, 0.15);\n",
              "      filter: drop-shadow(0px 1px 2px rgba(0, 0, 0, 0.3));\n",
              "      fill: #FFFFFF;\n",
              "    }\n",
              "  </style>\n",
              "\n",
              "      <script>\n",
              "        const buttonEl =\n",
              "          document.querySelector('#df-14fdaa72-cad1-47e6-b5c5-b8b40cb705f6 button.colab-df-convert');\n",
              "        buttonEl.style.display =\n",
              "          google.colab.kernel.accessAllowed ? 'block' : 'none';\n",
              "\n",
              "        async function convertToInteractive(key) {\n",
              "          const element = document.querySelector('#df-14fdaa72-cad1-47e6-b5c5-b8b40cb705f6');\n",
              "          const dataTable =\n",
              "            await google.colab.kernel.invokeFunction('convertToInteractive',\n",
              "                                                     [key], {});\n",
              "          if (!dataTable) return;\n",
              "\n",
              "          const docLinkHtml = 'Like what you see? Visit the ' +\n",
              "            '<a target=\"_blank\" href=https://colab.research.google.com/notebooks/data_table.ipynb>data table notebook</a>'\n",
              "            + ' to learn more about interactive tables.';\n",
              "          element.innerHTML = '';\n",
              "          dataTable['output_type'] = 'display_data';\n",
              "          await google.colab.output.renderOutput(dataTable, element);\n",
              "          const docLink = document.createElement('div');\n",
              "          docLink.innerHTML = docLinkHtml;\n",
              "          element.appendChild(docLink);\n",
              "        }\n",
              "      </script>\n",
              "    </div>\n",
              "  </div>\n",
              "  "
            ],
            "text/plain": [
              "    user                                            recomms   cold\n",
              "0  90627  [116, 3578, 724, 1898, 1539, 1140, 97, 2641, 1...  False\n",
              "1   3387  [2040, 3900, 2160, 3806, 1316, 1139, 3775, 372...   True\n",
              "2   3388  [97, 724, 2383, 1898, 3752, 2044, 2408, 2946, ...  False\n",
              "3   3389  [3097, 3234, 3783, 3182, 3566, 2177, 2012, 308...  False\n",
              "4   3390  [1008, 3697, 3213, 3711, 2901, 3732, 3262, 353...  False"
            ]
          },
          "metadata": {},
          "execution_count": 199
        }
      ],
      "source": [
        "recomms_df.head()"
      ]
    },
    {
      "cell_type": "code",
      "execution_count": null,
      "metadata": {
        "colab": {
          "base_uri": "https://localhost:8080/"
        },
        "id": "2smDgfmvGuce",
        "outputId": "ea04f339-eab8-457b-f4f7-84cbb4292a17"
      },
      "outputs": [
        {
          "output_type": "execute_result",
          "data": {
            "text/plain": [
              "False    97509\n",
              "True     15246\n",
              "Name: cold, dtype: int64"
            ]
          },
          "metadata": {},
          "execution_count": 201
        }
      ],
      "source": [
        "recomms_df.cold.value_counts()"
      ]
    },
    {
      "cell_type": "code",
      "execution_count": null,
      "metadata": {
        "id": "mYN03U2yGuce",
        "colab": {
          "base_uri": "https://localhost:8080/",
          "height": 206
        },
        "outputId": "1811a9ec-9738-4e8b-8f7b-70245dcec548"
      },
      "outputs": [
        {
          "output_type": "execute_result",
          "data": {
            "text/html": [
              "\n",
              "  <div id=\"df-2ec5a29c-5647-4035-a2ee-4af7cc174da5\">\n",
              "    <div class=\"colab-df-container\">\n",
              "      <div>\n",
              "<style scoped>\n",
              "    .dataframe tbody tr th:only-of-type {\n",
              "        vertical-align: middle;\n",
              "    }\n",
              "\n",
              "    .dataframe tbody tr th {\n",
              "        vertical-align: top;\n",
              "    }\n",
              "\n",
              "    .dataframe thead th {\n",
              "        text-align: right;\n",
              "    }\n",
              "</style>\n",
              "<table border=\"1\" class=\"dataframe\">\n",
              "  <thead>\n",
              "    <tr style=\"text-align: right;\">\n",
              "      <th></th>\n",
              "      <th>account_id</th>\n",
              "      <th>content_id</th>\n",
              "      <th>tunein</th>\n",
              "      <th>tuneout</th>\n",
              "      <th>YMD</th>\n",
              "      <th>tvisto</th>\n",
              "    </tr>\n",
              "  </thead>\n",
              "  <tbody>\n",
              "    <tr>\n",
              "      <th>1</th>\n",
              "      <td>90627</td>\n",
              "      <td>2040</td>\n",
              "      <td>2021-03-24 23:17:00</td>\n",
              "      <td>2021-03-25 00:01:00</td>\n",
              "      <td>2021-03-24</td>\n",
              "      <td>44</td>\n",
              "    </tr>\n",
              "    <tr>\n",
              "      <th>2</th>\n",
              "      <td>3387</td>\n",
              "      <td>1983</td>\n",
              "      <td>2021-03-15 10:05:00</td>\n",
              "      <td>2021-03-15 10:23:00</td>\n",
              "      <td>2021-03-15</td>\n",
              "      <td>18</td>\n",
              "    </tr>\n",
              "    <tr>\n",
              "      <th>3</th>\n",
              "      <td>3387</td>\n",
              "      <td>1983</td>\n",
              "      <td>2021-03-15 10:23:00</td>\n",
              "      <td>2021-03-15 11:18:00</td>\n",
              "      <td>2021-03-15</td>\n",
              "      <td>55</td>\n",
              "    </tr>\n",
              "    <tr>\n",
              "      <th>4</th>\n",
              "      <td>3387</td>\n",
              "      <td>729</td>\n",
              "      <td>2021-03-16 09:24:00</td>\n",
              "      <td>2021-03-16 09:44:00</td>\n",
              "      <td>2021-03-16</td>\n",
              "      <td>20</td>\n",
              "    </tr>\n",
              "    <tr>\n",
              "      <th>5</th>\n",
              "      <td>3387</td>\n",
              "      <td>729</td>\n",
              "      <td>2021-03-16 09:44:00</td>\n",
              "      <td>2021-03-16 09:47:00</td>\n",
              "      <td>2021-03-16</td>\n",
              "      <td>3</td>\n",
              "    </tr>\n",
              "  </tbody>\n",
              "</table>\n",
              "</div>\n",
              "      <button class=\"colab-df-convert\" onclick=\"convertToInteractive('df-2ec5a29c-5647-4035-a2ee-4af7cc174da5')\"\n",
              "              title=\"Convert this dataframe to an interactive table.\"\n",
              "              style=\"display:none;\">\n",
              "        \n",
              "  <svg xmlns=\"http://www.w3.org/2000/svg\" height=\"24px\"viewBox=\"0 0 24 24\"\n",
              "       width=\"24px\">\n",
              "    <path d=\"M0 0h24v24H0V0z\" fill=\"none\"/>\n",
              "    <path d=\"M18.56 5.44l.94 2.06.94-2.06 2.06-.94-2.06-.94-.94-2.06-.94 2.06-2.06.94zm-11 1L8.5 8.5l.94-2.06 2.06-.94-2.06-.94L8.5 2.5l-.94 2.06-2.06.94zm10 10l.94 2.06.94-2.06 2.06-.94-2.06-.94-.94-2.06-.94 2.06-2.06.94z\"/><path d=\"M17.41 7.96l-1.37-1.37c-.4-.4-.92-.59-1.43-.59-.52 0-1.04.2-1.43.59L10.3 9.45l-7.72 7.72c-.78.78-.78 2.05 0 2.83L4 21.41c.39.39.9.59 1.41.59.51 0 1.02-.2 1.41-.59l7.78-7.78 2.81-2.81c.8-.78.8-2.07 0-2.86zM5.41 20L4 18.59l7.72-7.72 1.47 1.35L5.41 20z\"/>\n",
              "  </svg>\n",
              "      </button>\n",
              "      \n",
              "  <style>\n",
              "    .colab-df-container {\n",
              "      display:flex;\n",
              "      flex-wrap:wrap;\n",
              "      gap: 12px;\n",
              "    }\n",
              "\n",
              "    .colab-df-convert {\n",
              "      background-color: #E8F0FE;\n",
              "      border: none;\n",
              "      border-radius: 50%;\n",
              "      cursor: pointer;\n",
              "      display: none;\n",
              "      fill: #1967D2;\n",
              "      height: 32px;\n",
              "      padding: 0 0 0 0;\n",
              "      width: 32px;\n",
              "    }\n",
              "\n",
              "    .colab-df-convert:hover {\n",
              "      background-color: #E2EBFA;\n",
              "      box-shadow: 0px 1px 2px rgba(60, 64, 67, 0.3), 0px 1px 3px 1px rgba(60, 64, 67, 0.15);\n",
              "      fill: #174EA6;\n",
              "    }\n",
              "\n",
              "    [theme=dark] .colab-df-convert {\n",
              "      background-color: #3B4455;\n",
              "      fill: #D2E3FC;\n",
              "    }\n",
              "\n",
              "    [theme=dark] .colab-df-convert:hover {\n",
              "      background-color: #434B5C;\n",
              "      box-shadow: 0px 1px 3px 1px rgba(0, 0, 0, 0.15);\n",
              "      filter: drop-shadow(0px 1px 2px rgba(0, 0, 0, 0.3));\n",
              "      fill: #FFFFFF;\n",
              "    }\n",
              "  </style>\n",
              "\n",
              "      <script>\n",
              "        const buttonEl =\n",
              "          document.querySelector('#df-2ec5a29c-5647-4035-a2ee-4af7cc174da5 button.colab-df-convert');\n",
              "        buttonEl.style.display =\n",
              "          google.colab.kernel.accessAllowed ? 'block' : 'none';\n",
              "\n",
              "        async function convertToInteractive(key) {\n",
              "          const element = document.querySelector('#df-2ec5a29c-5647-4035-a2ee-4af7cc174da5');\n",
              "          const dataTable =\n",
              "            await google.colab.kernel.invokeFunction('convertToInteractive',\n",
              "                                                     [key], {});\n",
              "          if (!dataTable) return;\n",
              "\n",
              "          const docLinkHtml = 'Like what you see? Visit the ' +\n",
              "            '<a target=\"_blank\" href=https://colab.research.google.com/notebooks/data_table.ipynb>data table notebook</a>'\n",
              "            + ' to learn more about interactive tables.';\n",
              "          element.innerHTML = '';\n",
              "          dataTable['output_type'] = 'display_data';\n",
              "          await google.colab.output.renderOutput(dataTable, element);\n",
              "          const docLink = document.createElement('div');\n",
              "          docLink.innerHTML = docLinkHtml;\n",
              "          element.appendChild(docLink);\n",
              "        }\n",
              "      </script>\n",
              "    </div>\n",
              "  </div>\n",
              "  "
            ],
            "text/plain": [
              "   account_id  content_id  ...        YMD tvisto\n",
              "1       90627        2040  ... 2021-03-24     44\n",
              "2        3387        1983  ... 2021-03-15     18\n",
              "3        3387        1983  ... 2021-03-15     55\n",
              "4        3387         729  ... 2021-03-16     20\n",
              "5        3387         729  ... 2021-03-16      3\n",
              "\n",
              "[5 rows x 6 columns]"
            ]
          },
          "metadata": {},
          "execution_count": 202
        }
      ],
      "source": [
        "test2.head()"
      ]
    },
    {
      "cell_type": "code",
      "execution_count": null,
      "metadata": {
        "id": "0ovRVGrgGuce"
      },
      "outputs": [],
      "source": [
        "ideal_recomms=test2.groupby('account_id').agg({'content_id':'unique'})"
      ]
    },
    {
      "cell_type": "code",
      "execution_count": null,
      "metadata": {
        "id": "2LwZlacTGuce",
        "colab": {
          "base_uri": "https://localhost:8080/",
          "height": 237
        },
        "outputId": "97dc3fd8-31e2-4497-c06d-f7aecebeb880"
      },
      "outputs": [
        {
          "output_type": "execute_result",
          "data": {
            "text/html": [
              "\n",
              "  <div id=\"df-34b9b88e-e082-4178-b8b8-00394d127fdb\">\n",
              "    <div class=\"colab-df-container\">\n",
              "      <div>\n",
              "<style scoped>\n",
              "    .dataframe tbody tr th:only-of-type {\n",
              "        vertical-align: middle;\n",
              "    }\n",
              "\n",
              "    .dataframe tbody tr th {\n",
              "        vertical-align: top;\n",
              "    }\n",
              "\n",
              "    .dataframe thead th {\n",
              "        text-align: right;\n",
              "    }\n",
              "</style>\n",
              "<table border=\"1\" class=\"dataframe\">\n",
              "  <thead>\n",
              "    <tr style=\"text-align: right;\">\n",
              "      <th></th>\n",
              "      <th>content_id</th>\n",
              "    </tr>\n",
              "    <tr>\n",
              "      <th>account_id</th>\n",
              "      <th></th>\n",
              "    </tr>\n",
              "  </thead>\n",
              "  <tbody>\n",
              "    <tr>\n",
              "      <th>2</th>\n",
              "      <td>[433]</td>\n",
              "    </tr>\n",
              "    <tr>\n",
              "      <th>3</th>\n",
              "      <td>[1949, 2409, 4010, 3169, 3487, 3980, 461, 4059...</td>\n",
              "    </tr>\n",
              "    <tr>\n",
              "      <th>4</th>\n",
              "      <td>[2314, 728, 4129, 2344, 2341, 513, 2212, 4340,...</td>\n",
              "    </tr>\n",
              "    <tr>\n",
              "      <th>5</th>\n",
              "      <td>[2259]</td>\n",
              "    </tr>\n",
              "    <tr>\n",
              "      <th>6</th>\n",
              "      <td>[3902, 3211, 2900, 3386, 4065, 3388]</td>\n",
              "    </tr>\n",
              "  </tbody>\n",
              "</table>\n",
              "</div>\n",
              "      <button class=\"colab-df-convert\" onclick=\"convertToInteractive('df-34b9b88e-e082-4178-b8b8-00394d127fdb')\"\n",
              "              title=\"Convert this dataframe to an interactive table.\"\n",
              "              style=\"display:none;\">\n",
              "        \n",
              "  <svg xmlns=\"http://www.w3.org/2000/svg\" height=\"24px\"viewBox=\"0 0 24 24\"\n",
              "       width=\"24px\">\n",
              "    <path d=\"M0 0h24v24H0V0z\" fill=\"none\"/>\n",
              "    <path d=\"M18.56 5.44l.94 2.06.94-2.06 2.06-.94-2.06-.94-.94-2.06-.94 2.06-2.06.94zm-11 1L8.5 8.5l.94-2.06 2.06-.94-2.06-.94L8.5 2.5l-.94 2.06-2.06.94zm10 10l.94 2.06.94-2.06 2.06-.94-2.06-.94-.94-2.06-.94 2.06-2.06.94z\"/><path d=\"M17.41 7.96l-1.37-1.37c-.4-.4-.92-.59-1.43-.59-.52 0-1.04.2-1.43.59L10.3 9.45l-7.72 7.72c-.78.78-.78 2.05 0 2.83L4 21.41c.39.39.9.59 1.41.59.51 0 1.02-.2 1.41-.59l7.78-7.78 2.81-2.81c.8-.78.8-2.07 0-2.86zM5.41 20L4 18.59l7.72-7.72 1.47 1.35L5.41 20z\"/>\n",
              "  </svg>\n",
              "      </button>\n",
              "      \n",
              "  <style>\n",
              "    .colab-df-container {\n",
              "      display:flex;\n",
              "      flex-wrap:wrap;\n",
              "      gap: 12px;\n",
              "    }\n",
              "\n",
              "    .colab-df-convert {\n",
              "      background-color: #E8F0FE;\n",
              "      border: none;\n",
              "      border-radius: 50%;\n",
              "      cursor: pointer;\n",
              "      display: none;\n",
              "      fill: #1967D2;\n",
              "      height: 32px;\n",
              "      padding: 0 0 0 0;\n",
              "      width: 32px;\n",
              "    }\n",
              "\n",
              "    .colab-df-convert:hover {\n",
              "      background-color: #E2EBFA;\n",
              "      box-shadow: 0px 1px 2px rgba(60, 64, 67, 0.3), 0px 1px 3px 1px rgba(60, 64, 67, 0.15);\n",
              "      fill: #174EA6;\n",
              "    }\n",
              "\n",
              "    [theme=dark] .colab-df-convert {\n",
              "      background-color: #3B4455;\n",
              "      fill: #D2E3FC;\n",
              "    }\n",
              "\n",
              "    [theme=dark] .colab-df-convert:hover {\n",
              "      background-color: #434B5C;\n",
              "      box-shadow: 0px 1px 3px 1px rgba(0, 0, 0, 0.15);\n",
              "      filter: drop-shadow(0px 1px 2px rgba(0, 0, 0, 0.3));\n",
              "      fill: #FFFFFF;\n",
              "    }\n",
              "  </style>\n",
              "\n",
              "      <script>\n",
              "        const buttonEl =\n",
              "          document.querySelector('#df-34b9b88e-e082-4178-b8b8-00394d127fdb button.colab-df-convert');\n",
              "        buttonEl.style.display =\n",
              "          google.colab.kernel.accessAllowed ? 'block' : 'none';\n",
              "\n",
              "        async function convertToInteractive(key) {\n",
              "          const element = document.querySelector('#df-34b9b88e-e082-4178-b8b8-00394d127fdb');\n",
              "          const dataTable =\n",
              "            await google.colab.kernel.invokeFunction('convertToInteractive',\n",
              "                                                     [key], {});\n",
              "          if (!dataTable) return;\n",
              "\n",
              "          const docLinkHtml = 'Like what you see? Visit the ' +\n",
              "            '<a target=\"_blank\" href=https://colab.research.google.com/notebooks/data_table.ipynb>data table notebook</a>'\n",
              "            + ' to learn more about interactive tables.';\n",
              "          element.innerHTML = '';\n",
              "          dataTable['output_type'] = 'display_data';\n",
              "          await google.colab.output.renderOutput(dataTable, element);\n",
              "          const docLink = document.createElement('div');\n",
              "          docLink.innerHTML = docLinkHtml;\n",
              "          element.appendChild(docLink);\n",
              "        }\n",
              "      </script>\n",
              "    </div>\n",
              "  </div>\n",
              "  "
            ],
            "text/plain": [
              "                                                   content_id\n",
              "account_id                                                   \n",
              "2                                                       [433]\n",
              "3           [1949, 2409, 4010, 3169, 3487, 3980, 461, 4059...\n",
              "4           [2314, 728, 4129, 2344, 2341, 513, 2212, 4340,...\n",
              "5                                                      [2259]\n",
              "6                        [3902, 3211, 2900, 3386, 4065, 3388]"
            ]
          },
          "metadata": {},
          "execution_count": 204
        }
      ],
      "source": [
        "ideal_recomms.head()"
      ]
    },
    {
      "cell_type": "code",
      "execution_count": null,
      "metadata": {
        "id": "ZoUl2U16Guce",
        "colab": {
          "base_uri": "https://localhost:8080/",
          "height": 206
        },
        "outputId": "7adc2440-3f6f-4b44-e3b6-4b12aade3248"
      },
      "outputs": [
        {
          "output_type": "execute_result",
          "data": {
            "text/html": [
              "\n",
              "  <div id=\"df-a3c8fa9a-393a-4c27-9a0e-4cbdca622e92\">\n",
              "    <div class=\"colab-df-container\">\n",
              "      <div>\n",
              "<style scoped>\n",
              "    .dataframe tbody tr th:only-of-type {\n",
              "        vertical-align: middle;\n",
              "    }\n",
              "\n",
              "    .dataframe tbody tr th {\n",
              "        vertical-align: top;\n",
              "    }\n",
              "\n",
              "    .dataframe thead th {\n",
              "        text-align: right;\n",
              "    }\n",
              "</style>\n",
              "<table border=\"1\" class=\"dataframe\">\n",
              "  <thead>\n",
              "    <tr style=\"text-align: right;\">\n",
              "      <th></th>\n",
              "      <th>content_id</th>\n",
              "      <th>user</th>\n",
              "      <th>recomms</th>\n",
              "      <th>cold</th>\n",
              "    </tr>\n",
              "  </thead>\n",
              "  <tbody>\n",
              "    <tr>\n",
              "      <th>0</th>\n",
              "      <td>[433]</td>\n",
              "      <td>2</td>\n",
              "      <td>[2040, 3711, 2810, 3382, 3900, 1573, 2821, 216...</td>\n",
              "      <td>False</td>\n",
              "    </tr>\n",
              "    <tr>\n",
              "      <th>1</th>\n",
              "      <td>[1949, 2409, 4010, 3169, 3487, 3980, 461, 4059...</td>\n",
              "      <td>3</td>\n",
              "      <td>[1388, 3565, 2768, 2234, 2259, 3314, 2592, 195...</td>\n",
              "      <td>False</td>\n",
              "    </tr>\n",
              "    <tr>\n",
              "      <th>2</th>\n",
              "      <td>[2314, 728, 4129, 2344, 2341, 513, 2212, 4340,...</td>\n",
              "      <td>4</td>\n",
              "      <td>[3806, 2827, 3206, 2927, 544, 4366, 4357, 2140...</td>\n",
              "      <td>False</td>\n",
              "    </tr>\n",
              "    <tr>\n",
              "      <th>3</th>\n",
              "      <td>[2259]</td>\n",
              "      <td>5</td>\n",
              "      <td>[3900, 3806, 304, 2160, 1875, 3382, 607, 1139,...</td>\n",
              "      <td>False</td>\n",
              "    </tr>\n",
              "    <tr>\n",
              "      <th>4</th>\n",
              "      <td>[3902, 3211, 2900, 3386, 4065, 3388]</td>\n",
              "      <td>6</td>\n",
              "      <td>[3716, 2627, 3253, 177, 3481, 2052, 2946, 3377...</td>\n",
              "      <td>False</td>\n",
              "    </tr>\n",
              "  </tbody>\n",
              "</table>\n",
              "</div>\n",
              "      <button class=\"colab-df-convert\" onclick=\"convertToInteractive('df-a3c8fa9a-393a-4c27-9a0e-4cbdca622e92')\"\n",
              "              title=\"Convert this dataframe to an interactive table.\"\n",
              "              style=\"display:none;\">\n",
              "        \n",
              "  <svg xmlns=\"http://www.w3.org/2000/svg\" height=\"24px\"viewBox=\"0 0 24 24\"\n",
              "       width=\"24px\">\n",
              "    <path d=\"M0 0h24v24H0V0z\" fill=\"none\"/>\n",
              "    <path d=\"M18.56 5.44l.94 2.06.94-2.06 2.06-.94-2.06-.94-.94-2.06-.94 2.06-2.06.94zm-11 1L8.5 8.5l.94-2.06 2.06-.94-2.06-.94L8.5 2.5l-.94 2.06-2.06.94zm10 10l.94 2.06.94-2.06 2.06-.94-2.06-.94-.94-2.06-.94 2.06-2.06.94z\"/><path d=\"M17.41 7.96l-1.37-1.37c-.4-.4-.92-.59-1.43-.59-.52 0-1.04.2-1.43.59L10.3 9.45l-7.72 7.72c-.78.78-.78 2.05 0 2.83L4 21.41c.39.39.9.59 1.41.59.51 0 1.02-.2 1.41-.59l7.78-7.78 2.81-2.81c.8-.78.8-2.07 0-2.86zM5.41 20L4 18.59l7.72-7.72 1.47 1.35L5.41 20z\"/>\n",
              "  </svg>\n",
              "      </button>\n",
              "      \n",
              "  <style>\n",
              "    .colab-df-container {\n",
              "      display:flex;\n",
              "      flex-wrap:wrap;\n",
              "      gap: 12px;\n",
              "    }\n",
              "\n",
              "    .colab-df-convert {\n",
              "      background-color: #E8F0FE;\n",
              "      border: none;\n",
              "      border-radius: 50%;\n",
              "      cursor: pointer;\n",
              "      display: none;\n",
              "      fill: #1967D2;\n",
              "      height: 32px;\n",
              "      padding: 0 0 0 0;\n",
              "      width: 32px;\n",
              "    }\n",
              "\n",
              "    .colab-df-convert:hover {\n",
              "      background-color: #E2EBFA;\n",
              "      box-shadow: 0px 1px 2px rgba(60, 64, 67, 0.3), 0px 1px 3px 1px rgba(60, 64, 67, 0.15);\n",
              "      fill: #174EA6;\n",
              "    }\n",
              "\n",
              "    [theme=dark] .colab-df-convert {\n",
              "      background-color: #3B4455;\n",
              "      fill: #D2E3FC;\n",
              "    }\n",
              "\n",
              "    [theme=dark] .colab-df-convert:hover {\n",
              "      background-color: #434B5C;\n",
              "      box-shadow: 0px 1px 3px 1px rgba(0, 0, 0, 0.15);\n",
              "      filter: drop-shadow(0px 1px 2px rgba(0, 0, 0, 0.3));\n",
              "      fill: #FFFFFF;\n",
              "    }\n",
              "  </style>\n",
              "\n",
              "      <script>\n",
              "        const buttonEl =\n",
              "          document.querySelector('#df-a3c8fa9a-393a-4c27-9a0e-4cbdca622e92 button.colab-df-convert');\n",
              "        buttonEl.style.display =\n",
              "          google.colab.kernel.accessAllowed ? 'block' : 'none';\n",
              "\n",
              "        async function convertToInteractive(key) {\n",
              "          const element = document.querySelector('#df-a3c8fa9a-393a-4c27-9a0e-4cbdca622e92');\n",
              "          const dataTable =\n",
              "            await google.colab.kernel.invokeFunction('convertToInteractive',\n",
              "                                                     [key], {});\n",
              "          if (!dataTable) return;\n",
              "\n",
              "          const docLinkHtml = 'Like what you see? Visit the ' +\n",
              "            '<a target=\"_blank\" href=https://colab.research.google.com/notebooks/data_table.ipynb>data table notebook</a>'\n",
              "            + ' to learn more about interactive tables.';\n",
              "          element.innerHTML = '';\n",
              "          dataTable['output_type'] = 'display_data';\n",
              "          await google.colab.output.renderOutput(dataTable, element);\n",
              "          const docLink = document.createElement('div');\n",
              "          docLink.innerHTML = docLinkHtml;\n",
              "          element.appendChild(docLink);\n",
              "        }\n",
              "      </script>\n",
              "    </div>\n",
              "  </div>\n",
              "  "
            ],
            "text/plain": [
              "                                          content_id  ...   cold\n",
              "0                                              [433]  ...  False\n",
              "1  [1949, 2409, 4010, 3169, 3487, 3980, 461, 4059...  ...  False\n",
              "2  [2314, 728, 4129, 2344, 2341, 513, 2212, 4340,...  ...  False\n",
              "3                                             [2259]  ...  False\n",
              "4               [3902, 3211, 2900, 3386, 4065, 3388]  ...  False\n",
              "\n",
              "[5 rows x 4 columns]"
            ]
          },
          "metadata": {},
          "execution_count": 205
        }
      ],
      "source": [
        "df_map = ideal_recomms.merge(recomms_df, how=\"left\", left_on=\"account_id\", right_on=\"user\")\n",
        "\n",
        "df_map.head()"
      ]
    },
    {
      "cell_type": "code",
      "execution_count": null,
      "metadata": {
        "id": "_YBcLvr3Guce"
      },
      "outputs": [],
      "source": [
        "aps = [] # lista vacía para ir almacenando la AP de cada recomendación\n",
        "\n",
        "for pred, label in df_map[[\"recomms\", \"content_id\"]].values:\n",
        "  #print(pred , label)\n",
        "  n = len(pred) # cantidad de elementos recomendados\n",
        "  #print(f'n= {n}')\n",
        "  arange = np.arange(n, dtype=np.int32) + 1. # indexamos en base 1 \n",
        "  rel_k = np.in1d(pred[:n], label) # lista de booleanos que indican la relevancia de cada ítem\n",
        "  #print(f'items releventes = {rel_k}')\n",
        "  tp = np.ones(rel_k.sum(), dtype=np.int32).cumsum() # lista con el contador de verdaderos positivos\n",
        "  #print(f'contador de verdaderos positivos = {tp}')\n",
        "  denom = arange[rel_k] # posiciones donde se encuentran los ítems relantes\n",
        "\n",
        "  ap = (tp / denom).sum() / len(label) # average precision\n",
        "  aps.append(ap)"
      ]
    },
    {
      "cell_type": "code",
      "execution_count": null,
      "metadata": {
        "colab": {
          "base_uri": "https://localhost:8080/"
        },
        "id": "Bm4KyDUUGucf",
        "outputId": "8c95e239-902c-4542-8f79-7b18d6cac30c"
      },
      "outputs": [
        {
          "output_type": "stream",
          "name": "stdout",
          "text": [
            "mean average precision = 0.03\n"
          ]
        }
      ],
      "source": [
        "MAP_model= np.mean(aps)\n",
        "print(f'mean average precision = {round(MAP_model,2)}')"
      ]
    }
  ]
}